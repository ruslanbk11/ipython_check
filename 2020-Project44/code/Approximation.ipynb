{
 "cells": [
  {
   "cell_type": "code",
   "execution_count": 38,
   "metadata": {},
   "outputs": [],
   "source": [
    "%matplotlib inline\n",
    "import matplotlib.pyplot as plt\n",
    "\n",
    "from mpl_toolkits.mplot3d import Axes3D\n",
    "\n",
    "import numpy as np\n",
    "import scipy as sp\n",
    "\n",
    "import pandas as pd\n",
    "\n",
    "from sklearn.utils import shuffle\n",
    "from sklearn.preprocessing import scale\n",
    "\n",
    "from sklearn.model_selection import train_test_split\n",
    "\n",
    "from sklearn import linear_model\n",
    "from sklearn import metrics\n",
    "\n",
    "from scipy import stats\n",
    "\n",
    "from tqdm import tqdm\n",
    "\n",
    "from sklearn.datasets import load_boston\n",
    "\n",
    "from sklearn.datasets import load_iris\n",
    "\n",
    "from sklearn.datasets import load_diabetes\n",
    "\n",
    "from sklearn.datasets import load_wine\n",
    "\n",
    "import pickle\n",
    "\n",
    "from scipy.optimize import minimize"
   ]
  },
  {
   "cell_type": "code",
   "execution_count": 39,
   "metadata": {},
   "outputs": [],
   "source": [
    "plt.rcParams['font.family'] = 'DejaVu Serif'\n",
    "plt.rcParams['lines.linewidth'] = 2\n",
    "plt.rcParams['lines.markersize'] = 12\n",
    "plt.rcParams['xtick.labelsize'] = 6\n",
    "plt.rcParams['ytick.labelsize'] = 6\n",
    "plt.rcParams['legend.fontsize'] = 24\n",
    "plt.rcParams['axes.titlesize'] = 36\n",
    "plt.rcParams['axes.labelsize'] = 24"
   ]
  },
  {
   "cell_type": "code",
   "execution_count": 40,
   "metadata": {},
   "outputs": [],
   "source": [
    "n = 4\n",
    "k_for_meaning = 100"
   ]
  },
  {
   "cell_type": "code",
   "execution_count": 50,
   "metadata": {},
   "outputs": [],
   "source": [
    "def func_1D_param_approx(m, featur, w):\n",
    "    return w[0] + w[1]*np.log((w[2] ** 2)*m + 1)# + w[3] * np.sqrt(m)\n",
    "#print(func_1D_param_approx(10, 0, [1,1,1,5,3])) \n",
    "def approxomation_one(SampleStep, List_mean, SampleStep_approximate, \n",
    "                      n = 4, M = None, print_progres = False, func = func_1D_param_approx, List_of_w0 = None):\n",
    "    \n",
    "    List_mean_approximate = []\n",
    "    if List_of_w0 is None:\n",
    "        List_of_w0 = []\n",
    "        for i in range(len(List_mean)):\n",
    "            List_of_w0.append(np.random.normal(size = n))\n",
    "    if print_progres == True:\n",
    "        List_mean_for = tqdm(enumerate(zip(List_mean, List_of_w0)))\n",
    "    if print_progres == False:\n",
    "        List_mean_for = enumerate(zip(List_mean, List_of_w0))\n",
    "    List_of_w = []\n",
    "    for i, (mean, w_0) in List_mean_for:\n",
    "        \n",
    "        if M is not None:\n",
    "            X_train_phi = SampleStep[0:M]\n",
    "            y_train_phi = mean[0:M]\n",
    "        else:\n",
    "            X_train_phi = SampleStep\n",
    "            y_train_phi = mean\n",
    "            \n",
    "        minimum = minimize(lambda w: ((func(X_train_phi, i+1, w) - y_train_phi)**2).sum(), w_0)\n",
    "        List_mean_approximate.append(func(SampleStep_approximate, i+1, minimum['x']))\n",
    "        List_of_w.append(minimum['x'])\n",
    "    return List_mean_approximate, List_of_w"
   ]
  },
  {
   "cell_type": "code",
   "execution_count": 55,
   "metadata": {},
   "outputs": [],
   "source": [
    "def func_1D_mean_approx(m, featur, w):\n",
    "    return w[0] -(w[1]**2)*np.exp(-(w[2]**2)*m)-(w[3]**2)/(m**1.5)\n",
    "def approxomation_one(SampleStep, List_mean, SampleStep_approximate, \n",
    "                      n = 4, M = None, print_progres = False, func = func_1D_mean_approx, List_of_w0 = None):\n",
    "    List_mean_approximate = []\n",
    "    \n",
    "    if List_of_w0 is None:\n",
    "        List_of_w0 = []\n",
    "        for i in range(len(List_mean)):\n",
    "            List_of_w0.append(np.random.normal(size = n))\n",
    "    \n",
    "    if print_progres == True:\n",
    "        List_mean_for = tqdm(enumerate(zip(List_mean, List_of_w0)))\n",
    "    if print_progres == False:\n",
    "        List_mean_for = enumerate(zip(List_mean, List_of_w0))\n",
    "\n",
    "    List_of_w = []\n",
    "        \n",
    "    for i, (mean, w_0) in List_mean_for:\n",
    "        \n",
    "        if M is not None:\n",
    "            X_train_phi = SampleStep[0:M]\n",
    "            y_train_phi = mean[0:M]\n",
    "        else:\n",
    "            X_train_phi = SampleStep\n",
    "            y_train_phi = mean\n",
    "            \n",
    "        minimum = minimize(lambda w: ((func(X_train_phi, i+1, w) - y_train_phi)**2).sum(), w_0)\n",
    "        List_mean_approximate.append(func(SampleStep_approximate, i+1, minimum['x']))\n",
    "        List_of_w.append(minimum['x'])\n",
    "    return List_mean_approximate, List_of_w"
   ]
  },
  {
   "cell_type": "markdown",
   "metadata": {},
   "source": [
    "# Boston"
   ]
  },
  {
   "cell_type": "code",
   "execution_count": 42,
   "metadata": {},
   "outputs": [],
   "source": [
    "l = 26\n",
    "M = 50\n",
    "ordering, SampleStep, List_mean, List_std, X_train, y_train, X_test, y_test = pickle.load(open(\"boston5000.p\", \"rb\"))"
   ]
  },
  {
   "cell_type": "code",
   "execution_count": 44,
   "metadata": {},
   "outputs": [
    {
     "data": {
      "image/png": "[encoded data removed]",
      "text/plain": [
       "<Figure size 432x288 with 1 Axes>"
      ]
     },
     "metadata": {
      "needs_background": "light"
     },
     "output_type": "display_data"
    }
   ],
   "source": [
    "N = 0\n",
    "mean = np.array(List_mean[N])\n",
    "std = np.array(List_std[N])\n",
    "\n",
    "plt.plot(SampleStep, mean, color = 'red')\n",
    "plt.fill_between(SampleStep, mean-np.sqrt(std), mean+np.sqrt(std), alpha=0.2)\n",
    "\n",
    "plt.xlabel('number of elements')\n",
    "plt.ylabel('log-likelihood')\n",
    "plt.grid()\n",
    "\n",
    "#plt.savefig(\"boston_real5000.pdf\")\n",
    "plt.savefig('BasicGraph.eps')\n",
    "plt.show()\n"
   ]
  },
  {
   "cell_type": "code",
   "execution_count": 56,
   "metadata": {},
   "outputs": [],
   "source": [
    "np.random.rand(0)\n",
    "\n",
    "SampleStep_approximate = np.linspace(l, 500, 100, dtype=np.int64)"
   ]
  },
  {
   "cell_type": "code",
   "execution_count": 57,
   "metadata": {},
   "outputs": [
    {
     "name": "stderr",
     "output_type": "stream",
     "text": [
      "100%|████████████████████████████████████████| 100/100 [00:15<00:00,  6.52it/s]\n"
     ]
    }
   ],
   "source": [
    "Temp_list = []\n",
    "\n",
    "for i in tqdm(range(100)):\n",
    "    List_mean_approximate, List_optimal_w = approxomation_one(SampleStep, List_mean, SampleStep_approximate, n = n, M = M - l)\n",
    "    Temp_list.append(List_mean_approximate)\n",
    "\n",
    "Temp_list = np.array(Temp_list)\n",
    "    \n",
    "List_mean_approximate = np.mean(Temp_list, axis = 0)\n",
    "List_mean_std_for_approximate = np.std(Temp_list, axis = 0)"
   ]
  },
  {
   "cell_type": "code",
   "execution_count": 58,
   "metadata": {},
   "outputs": [
    {
     "name": "stderr",
     "output_type": "stream",
     "text": [
      "100%|████████████████████████████████████████| 100/100 [02:12<00:00,  1.25s/it]\n"
     ]
    }
   ],
   "source": [
    "Temp_list = []\n",
    "\n",
    "for i in tqdm(range(100)):\n",
    "    List_mean_approximate, List_optimal_w = approxomation_one(SampleStep, List_mean, SampleStep_approximate, \n",
    "                                                              func = func_1D_param_approx, n = n, M = M - l)\n",
    "    Temp_list.append(List_mean_approximate)\n",
    "\n",
    "Temp_list = np.array(Temp_list)\n",
    "    \n",
    "List_mean_approximate = np.mean(Temp_list, axis = 0)\n",
    "#List_mean_std_for_approximate = np.std(Temp_list, axis = 0)"
   ]
  },
  {
   "cell_type": "code",
   "execution_count": 59,
   "metadata": {},
   "outputs": [
    {
     "ename": "NameError",
     "evalue": "name 'List_fast_approximate' is not defined",
     "output_type": "error",
     "traceback": [
      "\u001b[1;31m---------------------------------------------------------------------------\u001b[0m",
      "\u001b[1;31mNameError\u001b[0m                                 Traceback (most recent call last)",
      "\u001b[1;32m<ipython-input-59-f374318b8bfc>\u001b[0m in \u001b[0;36m<module>\u001b[1;34m\u001b[0m\n\u001b[0;32m      6\u001b[0m \u001b[1;31m#plt.fill_between(SampleStep_approximate, mean-np.sqrt(std), mean+np.sqrt(std), alpha=0.2, color = 'blue')\u001b[0m\u001b[1;33m\u001b[0m\u001b[1;33m\u001b[0m\u001b[1;33m\u001b[0m\u001b[0m\n\u001b[0;32m      7\u001b[0m \u001b[0mN\u001b[0m \u001b[1;33m=\u001b[0m \u001b[1;36m0\u001b[0m\u001b[1;33m\u001b[0m\u001b[1;33m\u001b[0m\u001b[0m\n\u001b[1;32m----> 8\u001b[1;33m \u001b[0mmean\u001b[0m \u001b[1;33m=\u001b[0m \u001b[0mnp\u001b[0m\u001b[1;33m.\u001b[0m\u001b[0marray\u001b[0m\u001b[1;33m(\u001b[0m\u001b[0mList_fast_approximate\u001b[0m\u001b[1;33m[\u001b[0m\u001b[0mN\u001b[0m\u001b[1;33m]\u001b[0m\u001b[1;33m)\u001b[0m\u001b[1;33m\u001b[0m\u001b[1;33m\u001b[0m\u001b[0m\n\u001b[0m\u001b[0;32m      9\u001b[0m \u001b[0mplt\u001b[0m\u001b[1;33m.\u001b[0m\u001b[0mplot\u001b[0m\u001b[1;33m(\u001b[0m\u001b[0mSampleStep_approximate\u001b[0m\u001b[1;33m,\u001b[0m \u001b[0mmean\u001b[0m\u001b[1;33m,\u001b[0m \u001b[0mcolor\u001b[0m \u001b[1;33m=\u001b[0m \u001b[1;34m'green'\u001b[0m\u001b[1;33m)\u001b[0m\u001b[1;33m\u001b[0m\u001b[1;33m\u001b[0m\u001b[0m\n\u001b[0;32m     10\u001b[0m \u001b[0mmean\u001b[0m \u001b[1;33m=\u001b[0m \u001b[0mnp\u001b[0m\u001b[1;33m.\u001b[0m\u001b[0marray\u001b[0m\u001b[1;33m(\u001b[0m\u001b[0mList_mean\u001b[0m\u001b[1;33m[\u001b[0m\u001b[0mN\u001b[0m\u001b[1;33m]\u001b[0m\u001b[1;33m)\u001b[0m\u001b[1;33m\u001b[0m\u001b[1;33m\u001b[0m\u001b[0m\n",
      "\u001b[1;31mNameError\u001b[0m: name 'List_fast_approximate' is not defined"
     ]
    },
    {
     "data": {
      "image/png": "[encoded data removed]",
      "text/plain": [
       "<Figure size 432x288 with 1 Axes>"
      ]
     },
     "metadata": {
      "needs_background": "light"
     },
     "output_type": "display_data"
    }
   ],
   "source": [
    "N = 0\n",
    "mean = np.array(List_mean_approximate[N])\n",
    "#std = np.array(List_std_approximate[N])\n",
    "\n",
    "plt.plot(SampleStep_approximate, mean, color = 'blue')\n",
    "#plt.fill_between(SampleStep_approximate, mean-np.sqrt(std), mean+np.sqrt(std), alpha=0.2, color = 'blue')\n",
    "N = 0\n",
    "mean = np.array(List_fast_approximate[N])\n",
    "plt.plot(SampleStep_approximate, mean, color = 'green')\n",
    "mean = np.array(List_mean[N])\n",
    "#std = np.array(List_std[N])\n",
    "\n",
    "plt.plot(SampleStep, mean, color = 'red')\n",
    "#plt.plot(50*np.ones(100), np.linspace(-1.3,-1.1, 100), \"--\", color = 'black')\n",
    "\n",
    "plt.xlabel('number of elements')\n",
    "plt.ylabel('log-likelihood')\n",
    "plt.savefig('Exper1.eps')\n",
    "plt.grid()"
   ]
  },
  {
   "cell_type": "code",
   "execution_count": null,
   "metadata": {},
   "outputs": [],
   "source": [
    "def func_1D_param_approx_fast(m, featur, w):\n",
    "    return w[0] - np.exp(w[1] + (-w[2]**2) * np.log(m)) - w[3]/(m+1)\n",
    "Temp_list = []\n",
    "\n",
    "for i in tqdm(range(100)):\n",
    "    List_fast_approximate, List_optimal_w = approxomation_one(SampleStep, List_mean, SampleStep_approximate, \n",
    "                                                              func = func_1D_param_approx_fast, n = n, M = M - l)\n",
    "    Temp_list.append(List_fast_approximate)\n",
    "\n",
    "Temp_list = np.array(Temp_list)\n",
    "    \n",
    "List_fast_approximate = np.mean(Temp_list, axis = 0)"
   ]
  },
  {
   "cell_type": "code",
   "execution_count": null,
   "metadata": {},
   "outputs": [],
   "source": []
  }
 ],
 "metadata": {
  "kernelspec": {
   "display_name": "Python 3",
   "language": "python",
   "name": "python3"
  },
  "language_info": {
   "codemirror_mode": {
    "name": "ipython",
    "version": 3
   },
   "file_extension": ".py",
   "mimetype": "text/x-python",
   "name": "python",
   "nbconvert_exporter": "python",
   "pygments_lexer": "ipython3",
   "version": "3.7.3"
  }
 },
 "nbformat": 4,
 "nbformat_minor": 2
}
