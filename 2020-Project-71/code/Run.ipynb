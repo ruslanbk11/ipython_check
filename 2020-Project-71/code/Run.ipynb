{
 "cells": [
  {
   "cell_type": "markdown",
   "metadata": {
    "id": "-lC2IXJjJQiF"
   },
   "source": [
    "# Load the libraries"
   ]
  },
  {
   "cell_type": "code",
   "execution_count": 1,
   "metadata": {
    "executionInfo": {
     "elapsed": 4316,
     "status": "ok",
     "timestamp": 1621506988030,
     "user": {
      "displayName": "Руслан Кошкин",
      "photoUrl": "",
      "userId": "02826648336057215366"
     },
     "user_tz": -180
    },
    "id": "61_VxpdBlUbe"
   },
   "outputs": [],
   "source": [
    "!pip install livelossplot --quiet\n",
    "\n",
    "#%mldev install"
   ]
  },
  {
   "cell_type": "code",
   "execution_count": 2,
   "metadata": {
    "executionInfo": {
     "elapsed": 4767,
     "status": "ok",
     "timestamp": 1621506988498,
     "user": {
      "displayName": "Руслан Кошкин",
      "photoUrl": "",
      "userId": "02826648336057215366"
     },
     "user_tz": -180
    },
    "id": "HZV0e22zZx8W"
   },
   "outputs": [],
   "source": [
    "import torch\n",
    "from torch.autograd import Variable\n",
    "import torch.nn as nn\n",
    "import torch.nn.functional as F\n",
    "import torch.optim as optim\n",
    "import numpy as np\n",
    "import torchvision\n",
    "from torchvision import datasets, transforms\n",
    "from torch.autograd import Variable\n",
    "from torch.utils.data import DataLoader\n",
    "from torchvision import transforms\n",
    "from torchvision.datasets import MNIST\n",
    "from torchvision.utils import save_image\n",
    "import torch.utils.data as data_utils \n",
    "\n",
    "from sklearn.cross_decomposition import PLSRegression\n",
    "\n",
    "import livelossplot\n",
    "from livelossplot import PlotLosses\n",
    "\n",
    "import matplotlib.pyplot as plt\n",
    "# %matplotlib inline\n",
    "\n",
    "from torch.utils.tensorboard import SummaryWriter\n",
    "\n",
    "\n",
    "from models import Autoencoder, DumbNet, DumbNet2, EncNet, EncNet2, LinearNet, Solver\n",
    "\n",
    "#%mldev imports"
   ]
  },
  {
   "cell_type": "markdown",
   "metadata": {
    "id": "HRwBv3Gb29N9"
   },
   "source": [
    "# Data processing\n",
    "\n"
   ]
  },
  {
   "cell_type": "code",
   "execution_count": 3,
   "metadata": {
    "executionInfo": {
     "elapsed": 4762,
     "status": "ok",
     "timestamp": 1621506988499,
     "user": {
      "displayName": "Руслан Кошкин",
      "photoUrl": "",
      "userId": "02826648336057215366"
     },
     "user_tz": -180
    },
    "id": "uEkWUInOuzW5"
   },
   "outputs": [],
   "source": [
    "batch_size=75\n",
    "learning_rate=0.01\n",
    "epochs=50\n",
    "\n",
    "#%mldev params"
   ]
  },
  {
   "cell_type": "code",
   "execution_count": 4,
   "metadata": {
    "colab": {
     "base_uri": "https://localhost:8080/",
     "height": 966,
     "referenced_widgets": [
      "71e732bb334b41b980dae06ac9749054",
      "96587f35e491413a8201e6e3cf7d739c",
      "d616c84abeef4ce08e75b28c4a457770",
      "e3dae9f7d2c640bbba465d303ec01187",
      "c58c64e09a804e68a25b1d282e62a8f6",
      "76477aadba5548359ac459b4f80dc95a",
      "69b430f1d1a74fb1884369eff1d83605",
      "45fd6ce6bd9c4fdc96901aebc6458f4a",
      "80dec295d8e14df1afc98792969e4787",
      "5aef410a79834ebebb21dcded02ce434",
      "f0465ee3e1d545b49a0bbce19095f8f4",
      "8e19fed6c3a9443fa941c136ca946d61",
      "99fc881052114eae865b2a8d12526da4",
      "aa831ab5271e4ef7a46cab061626b483",
      "ec09e95304604fb88c1c4579fce5f0e9",
      "293b1b8a98864a708dd737456b04cc3a",
      "534a4438d4d244939bad4288caa8086c",
      "017fab0d0db74459b57d80f925a3622d",
      "75e9a90edcc14e799b027758faf245dc",
      "b4fcee4208a342fba61e1077b757f8dc",
      "c65daf09706d4cd9ae3b4245440a5c36",
      "39dc51573d7849f7bcea18379a4e3525",
      "7026527f2ceb46f39ad3e1951ab03441",
      "9fb4d1efca494f0b987791401b94c3b5",
      "b51280ee2a434b4dba25205d3e6f1a15",
      "32108bef12b24e5faa2c8101e187ec61",
      "bce3ad120fcc49609ac8ede5fad28e86",
      "1a2c77667dc440a7b69ced44cac2a8eb",
      "e098e3d9b42c431cb938415d52b6591d",
      "1f929f5d7fe346039bc75018618ca1d8",
      "5a0a6cd874434f2cb48be743400a9b73",
      "da92f12b21424f27bd402376d7112ff5"
     ]
    },
    "executionInfo": {
     "elapsed": 20318,
     "status": "ok",
     "timestamp": 1621507004059,
     "user": {
      "displayName": "Руслан Кошкин",
      "photoUrl": "",
      "userId": "02826648336057215366"
     },
     "user_tz": -180
    },
    "id": "pQkxWq0vyEc_",
    "outputId": "361a75de-abb4-4473-e21c-19bf12b80bcb"
   },
   "outputs": [
    {
     "name": "stdout",
     "output_type": "stream",
     "text": [
      "Downloading http://yann.lecun.com/exdb/mnist/train-images-idx3-ubyte.gz\n",
      "Failed to download (trying next):\n",
      "HTTP Error 503: Service Unavailable\n",
      "\n",
      "Downloading https://ossci-datasets.s3.amazonaws.com/mnist/train-images-idx3-ubyte.gz\n",
      "Downloading https://ossci-datasets.s3.amazonaws.com/mnist/train-images-idx3-ubyte.gz to data/MNIST/raw/train-images-idx3-ubyte.gz\n"
     ]
    },
    {
     "data": {
      "application/vnd.jupyter.widget-view+json": {
       "model_id": "71e732bb334b41b980dae06ac9749054",
       "version_major": 2,
       "version_minor": 0
      },
      "text/plain": [
       "HBox(children=(FloatProgress(value=0.0, max=9912422.0), HTML(value='')))"
      ]
     },
     "metadata": {
      "tags": []
     },
     "output_type": "display_data"
    },
    {
     "name": "stdout",
     "output_type": "stream",
     "text": [
      "\n",
      "Extracting data/MNIST/raw/train-images-idx3-ubyte.gz to data/MNIST/raw\n",
      "\n",
      "Downloading http://yann.lecun.com/exdb/mnist/train-labels-idx1-ubyte.gz\n",
      "Failed to download (trying next):\n",
      "HTTP Error 503: Service Unavailable\n",
      "\n",
      "Downloading https://ossci-datasets.s3.amazonaws.com/mnist/train-labels-idx1-ubyte.gz\n",
      "Downloading https://ossci-datasets.s3.amazonaws.com/mnist/train-labels-idx1-ubyte.gz to data/MNIST/raw/train-labels-idx1-ubyte.gz\n"
     ]
    },
    {
     "data": {
      "application/vnd.jupyter.widget-view+json": {
       "model_id": "80dec295d8e14df1afc98792969e4787",
       "version_major": 2,
       "version_minor": 0
      },
      "text/plain": [
       "HBox(children=(FloatProgress(value=0.0, max=28881.0), HTML(value='')))"
      ]
     },
     "metadata": {
      "tags": []
     },
     "output_type": "display_data"
    },
    {
     "name": "stdout",
     "output_type": "stream",
     "text": [
      "\n",
      "Extracting data/MNIST/raw/train-labels-idx1-ubyte.gz to data/MNIST/raw\n",
      "\n",
      "Downloading http://yann.lecun.com/exdb/mnist/t10k-images-idx3-ubyte.gz\n",
      "Downloading http://yann.lecun.com/exdb/mnist/t10k-images-idx3-ubyte.gz to data/MNIST/raw/t10k-images-idx3-ubyte.gz\n",
      "Failed to download (trying next):\n",
      "HTTP Error 503: Service Unavailable\n",
      "\n",
      "Downloading https://ossci-datasets.s3.amazonaws.com/mnist/t10k-images-idx3-ubyte.gz\n",
      "Downloading https://ossci-datasets.s3.amazonaws.com/mnist/t10k-images-idx3-ubyte.gz to data/MNIST/raw/t10k-images-idx3-ubyte.gz\n"
     ]
    },
    {
     "data": {
      "application/vnd.jupyter.widget-view+json": {
       "model_id": "534a4438d4d244939bad4288caa8086c",
       "version_major": 2,
       "version_minor": 0
      },
      "text/plain": [
       "HBox(children=(FloatProgress(value=0.0, max=1648877.0), HTML(value='')))"
      ]
     },
     "metadata": {
      "tags": []
     },
     "output_type": "display_data"
    },
    {
     "name": "stdout",
     "output_type": "stream",
     "text": [
      "\n",
      "Extracting data/MNIST/raw/t10k-images-idx3-ubyte.gz to data/MNIST/raw\n",
      "\n",
      "Downloading http://yann.lecun.com/exdb/mnist/t10k-labels-idx1-ubyte.gz\n",
      "Downloading http://yann.lecun.com/exdb/mnist/t10k-labels-idx1-ubyte.gz to data/MNIST/raw/t10k-labels-idx1-ubyte.gz\n"
     ]
    },
    {
     "data": {
      "application/vnd.jupyter.widget-view+json": {
       "model_id": "b51280ee2a434b4dba25205d3e6f1a15",
       "version_major": 2,
       "version_minor": 0
      },
      "text/plain": [
       "HBox(children=(FloatProgress(value=0.0, max=4542.0), HTML(value='')))"
      ]
     },
     "metadata": {
      "tags": []
     },
     "output_type": "display_data"
    },
    {
     "name": "stdout",
     "output_type": "stream",
     "text": [
      "\n",
      "Extracting data/MNIST/raw/t10k-labels-idx1-ubyte.gz to data/MNIST/raw\n",
      "\n",
      "Processing...\n",
      "Done!\n"
     ]
    },
    {
     "name": "stderr",
     "output_type": "stream",
     "text": [
      "/usr/local/lib/python3.7/dist-packages/torchvision/datasets/mnist.py:502: UserWarning: The given NumPy array is not writeable, and PyTorch does not support non-writeable tensors. This means you can write to the underlying (supposedly non-writeable) NumPy array using the tensor. You may want to copy the array to protect its data or make it writeable before converting it to a tensor. This type of warning will be suppressed for the rest of this program. (Triggered internally at  /pytorch/torch/csrc/utils/tensor_numpy.cpp:143.)\n",
      "  return torch.from_numpy(parsed.astype(m[2], copy=False)).view(*s)\n"
     ]
    },
    {
     "data": {
      "image/png": "[encoded data removed]",
      "text/plain": [
       "<Figure size 1800x288 with 40 Axes>"
      ]
     },
     "metadata": {
      "tags": []
     },
     "output_type": "display_data"
    }
   ],
   "source": [
    "writer = SummaryWriter('runs')\n",
    "\n",
    "transform=transforms.Compose([\n",
    "                            transforms.ToTensor(),\n",
    "                            transforms.Normalize((0.1307), (0.3081))\n",
    "                            ]),\n",
    "\n",
    "#Prepare the data. 60000 training instances and 10000 test instances.\n",
    "\n",
    "train_data = datasets.MNIST(root='data', train=True,\n",
    "                                download=True, \n",
    "                                transform=transform)\n",
    "test_data = datasets.MNIST(root='data', train=False,\n",
    "                                download=True, transform=transform)\n",
    "\n",
    "# Divide each image into two parts. And translate the value of each pixel to the range [-1; 1].\n",
    "# ========================================================= \n",
    "train_features = torch.FloatTensor(60000, 28, 14)\n",
    "train_targets = torch.FloatTensor(60000, 28, 14)\n",
    "\n",
    "train_features = (train_data.data[:, :, :14] - 127.5)/127.5\n",
    "train_targets = (train_data.data[:, :, 14:] - 127.5)/127.5\n",
    "\n",
    "test_features = torch.FloatTensor(10000, 28, 14)\n",
    "test_targets = torch.FloatTensor(10000, 28, 14)\n",
    "\n",
    "test_features = (test_data.data[:, :, :14] - 127.5)/127.5\n",
    "test_targets = (test_data.data[:, :, 14:] - 127.5)/127.5\n",
    "# ========================================================= \n",
    "\n",
    "# Converting data to a format that is convenient to use in PyTorch\n",
    "# ========================================================= \n",
    "train_data_set = data_utils.TensorDataset(train_features, train_targets)\n",
    "left_train_data_set = data_utils.TensorDataset(train_features, train_features)\n",
    "right_train_data_set = data_utils.TensorDataset(train_targets, train_targets)\n",
    "test_data_set = data_utils.TensorDataset(test_features, test_targets)\n",
    "\n",
    "train_loader = data_utils.DataLoader(train_data_set, batch_size=batch_size, shuffle=True)\n",
    "test_loader = data_utils.DataLoader(test_data_set, batch_size=batch_size, shuffle=True)\n",
    "\n",
    "# Data for the autoencoder\n",
    "# ---------------------------------------------------------\n",
    "left_train_loader = data_utils.DataLoader(left_train_data_set, batch_size=batch_size, shuffle=True)\n",
    "right_train_loader = data_utils.DataLoader(right_train_data_set, batch_size=batch_size, shuffle=True)\n",
    "# ---------------------------------------------------------\n",
    "# ========================================================= \n",
    "\n",
    "\n",
    "# Peeking into dataset\n",
    "# ========================================================= \n",
    "\n",
    "    \n",
    "dataiter = iter(test_loader)\n",
    "left_images, right_images = dataiter.next()\n",
    "left_images = left_images.numpy()\n",
    "right_images = right_images.numpy()\n",
    "\n",
    "fig = plt.figure(figsize=(25, 4))\n",
    "for image in np.arange(40):\n",
    "    ax = fig.add_subplot(2, 20, image+1, xticks=[], yticks=[])\n",
    "    if (image%2 == 0):\n",
    "        ax.imshow(np.squeeze(left_images[image//2]), cmap='gray')\n",
    "    else:\n",
    "        ax.imshow(np.squeeze(right_images[(image-1)//2]), cmap='gray')\n",
    "# ========================================================= \n",
    "\n",
    "#%mldev load_data"
   ]
  },
  {
   "cell_type": "markdown",
   "metadata": {
    "id": "wS8tKapmpgUc"
   },
   "source": [
    "# PLS training"
   ]
  },
  {
   "cell_type": "code",
   "execution_count": 5,
   "metadata": {
    "colab": {
     "base_uri": "https://localhost:8080/"
    },
    "executionInfo": {
     "elapsed": 193157,
     "status": "ok",
     "timestamp": 1621507176902,
     "user": {
      "displayName": "Руслан Кошкин",
      "photoUrl": "",
      "userId": "02826648336057215366"
     },
     "user_tz": -180
    },
    "id": "Q6wJbjN4lnfH",
    "outputId": "2894c9da-6ad6-4148-cc24-8ca3be522d63"
   },
   "outputs": [
    {
     "data": {
      "text/plain": [
       "PLSRegression(copy=True, max_iter=2000, n_components=32, scale=True, tol=1e-06)"
      ]
     },
     "execution_count": 5,
     "metadata": {
      "tags": []
     },
     "output_type": "execute_result"
    }
   ],
   "source": [
    "pls32 = PLSRegression(n_components=32, max_iter=2000)\n",
    "pls32.fit(train_features.view(-1, 28*14), train_targets.view(-1, 28*14))\n",
    "\n",
    "#%mldev pls_train"
   ]
  },
  {
   "cell_type": "markdown",
   "metadata": {
    "id": "KT9tDEDsk6Tf"
   },
   "source": [
    "# DumbNet trainig"
   ]
  },
  {
   "cell_type": "code",
   "execution_count": 6,
   "metadata": {
    "colab": {
     "base_uri": "https://localhost:8080/",
     "height": 635
    },
    "executionInfo": {
     "elapsed": 805786,
     "status": "ok",
     "timestamp": 1621507789534,
     "user": {
      "displayName": "Руслан Кошкин",
      "photoUrl": "",
      "userId": "02826648336057215366"
     },
     "user_tz": -180
    },
    "id": "tUM22d61rmhZ",
    "outputId": "c697b9e4-b840-4dcd-98d4-b8810bc28717"
   },
   "outputs": [
    {
     "data": {
      "image/png": "[encoded data removed]",
      "text/plain": [
       "<Figure size 864x576 with 2 Axes>"
      ]
     },
     "metadata": {
      "needs_background": "light",
      "tags": []
     },
     "output_type": "display_data"
    },
    {
     "name": "stdout",
     "output_type": "stream",
     "text": [
      "MSE loss\n",
      "\tMSE loss         \t (min:    0.109, max:    0.295, cur:    0.116)\n",
      "Number of weight coefficients: 283968\n"
     ]
    }
   ],
   "source": [
    "dumb_net = DumbNet2(input_layer_size=28*14, criterion = nn.MSELoss())\n",
    "\n",
    "optimizer = torch.optim.Adam(dumb_net.parameters(), lr=0.0001, weight_decay=1e-6)\n",
    "\n",
    "dumb_net_solver = Solver(dumb_net, 100, batch_size, optimizer)\n",
    "\n",
    "dumb_net_solver.fit(train_loader)\n",
    "\n",
    "#%mldev dumb_train"
   ]
  },
  {
   "cell_type": "markdown",
   "metadata": {
    "id": "FgNAn1B5bauk"
   },
   "source": [
    "# Autoencoder trainig"
   ]
  },
  {
   "cell_type": "code",
   "execution_count": 7,
   "metadata": {
    "colab": {
     "base_uri": "https://localhost:8080/",
     "height": 1000
    },
    "executionInfo": {
     "elapsed": 1383868,
     "status": "ok",
     "timestamp": 1621508367620,
     "user": {
      "displayName": "Руслан Кошкин",
      "photoUrl": "",
      "userId": "02826648336057215366"
     },
     "user_tz": -180
    },
    "id": "qgkKqtlVbcpB",
    "outputId": "31779a9f-9872-4806-a3bd-c158f6db0113"
   },
   "outputs": [
    {
     "data": {
      "image/png": "[encoded data removed]",
      "text/plain": [
       "<Figure size 864x864 with 4 Axes>"
      ]
     },
     "metadata": {
      "needs_background": "light",
      "tags": []
     },
     "output_type": "display_data"
    },
    {
     "name": "stdout",
     "output_type": "stream",
     "text": [
      "cross loss\n",
      "\tcross loss       \t (min:    0.042, max:    0.276, cur:    0.045)\n",
      "joint loss\n",
      "\tjoint loss       \t (min:    0.020, max:    0.148, cur:    0.020)\n",
      "left loss\n",
      "\tleft loss        \t (min:    0.008, max:    0.070, cur:    0.008)\n",
      "right loss\n",
      "\tright loss       \t (min:    0.011, max:    0.075, cur:    0.011)\n"
     ]
    }
   ],
   "source": [
    "criterion = nn.MSELoss()\n",
    "\n",
    "left_model = Autoencoder(28*14, criterion)\n",
    "right_model = Autoencoder(28*14, criterion)\n",
    "\n",
    "print(right_model)\n",
    "\n",
    "optimizer = torch.optim.Adam(\n",
    "    list(left_model.parameters())+list(right_model.parameters()), lr=0.001, weight_decay=1e-6)\n",
    "\n",
    "from livelossplot import PlotLosses\n",
    "liveloss = PlotLosses()\n",
    "logs = {}\n",
    "\n",
    "for epoch in range(epochs):\n",
    "    for batch_idx, (data, target) in enumerate(train_loader):\n",
    "        data = Variable(data.float())\n",
    "        target = Variable(target.float())\n",
    "        data = data.view(-1, 28*14)\n",
    "        target = target.view(-1, 28*14)\n",
    "        optimizer.zero_grad()\n",
    "\n",
    "        left_net_out = left_model(data)\n",
    "        right_net_out = right_model(target)\n",
    "\n",
    "        left_model.encoder(data)\n",
    "        right_model.encoder(target)\n",
    "        left_loss = criterion(left_net_out, data)\n",
    "        right_loss = criterion(right_net_out, target)\n",
    "        cross_loss = criterion(left_model.encoder(data), right_model.encoder(target))\n",
    "        joint_losses = left_loss + right_loss + 1e-2*cross_loss\n",
    "        joint_losses.backward()\n",
    "        optimizer.step()   \n",
    "     \n",
    "    epoch_joint_losses = joint_losses.detach()\n",
    "    epoch_left_loss = left_loss.detach()\n",
    "    epoch_right_loss = right_loss.detach()\n",
    "    epoch_cross_loss = cross_loss.detach()\n",
    "    logs['joint '+'loss'] = epoch_joint_losses.item()\n",
    "    logs['left '+'loss'] = epoch_left_loss.item()\n",
    "    logs['right '+'loss'] = epoch_right_loss.item()\n",
    "    logs['cross '+'loss'] = epoch_cross_loss.item()\n",
    "    liveloss.update(logs)\n",
    "    liveloss.send()\n",
    "\n",
    "#%mldev autoenc_train"
   ]
  },
  {
   "cell_type": "markdown",
   "metadata": {
    "id": "u5DKH2ozf-dE"
   },
   "source": [
    "## autoencoder check"
   ]
  },
  {
   "cell_type": "code",
   "execution_count": 8,
   "metadata": {
    "colab": {
     "base_uri": "https://localhost:8080/",
     "height": 1000
    },
    "executionInfo": {
     "elapsed": 1383864,
     "status": "ok",
     "timestamp": 1621508367621,
     "user": {
      "displayName": "Руслан Кошкин",
      "photoUrl": "",
      "userId": "02826648336057215366"
     },
     "user_tz": -180
    },
    "id": "68uruxabgDu1",
    "outputId": "e51f2dac-be16-44ac-a0b9-6cdd5b61943d"
   },
   "outputs": [
    {
     "data": {
      "image/png": "[encoded data removed]",
      "text/plain": [
       "<Figure size 360x3600 with 10 Axes>"
      ]
     },
     "metadata": {
      "tags": []
     },
     "output_type": "display_data"
    }
   ],
   "source": [
    "autoencoder = right_model(torch.from_numpy(right_images).view(-1, 28*14))\n",
    "autoencoder = autoencoder.detach().view(-1, 28,14)\n",
    "autoencoder = autoencoder.cpu().numpy()\n",
    "\n",
    "fig = plt.figure(figsize=(5, 50))\n",
    "j=0\n",
    "for i in np.arange(5):\n",
    "    ax1 = fig.add_subplot(5, 2, j+1, xticks=[], yticks=[])\n",
    "    ax1.imshow(np.squeeze(right_images[i]), cmap='gray')\n",
    "    ax2 = fig.add_subplot(5, 2, j+2, xticks=[], yticks=[])\n",
    "    ax2.imshow(np.squeeze(autoencoder[i]), cmap='gray')\n",
    "    j += 2\n",
    "\n",
    "#%mldev autoenc_check"
   ]
  },
  {
   "cell_type": "markdown",
   "metadata": {
    "id": "uCDOc-Txb0zj"
   },
   "source": [
    "# Training model after applying autoencoder "
   ]
  },
  {
   "cell_type": "markdown",
   "metadata": {
    "id": "lVzPmw5U8ofR"
   },
   "source": [
    "## EncNet"
   ]
  },
  {
   "cell_type": "code",
   "execution_count": 9,
   "metadata": {
    "colab": {
     "base_uri": "https://localhost:8080/",
     "height": 635
    },
    "executionInfo": {
     "elapsed": 2191638,
     "status": "ok",
     "timestamp": 1621509175399,
     "user": {
      "displayName": "Руслан Кошкин",
      "photoUrl": "",
      "userId": "02826648336057215366"
     },
     "user_tz": -180
    },
    "id": "q02xatwRb1CT",
    "outputId": "681120e7-978b-47cc-fa70-bc033fda8814"
   },
   "outputs": [
    {
     "data": {
      "image/png": "[encoded data removed]",
      "text/plain": [
       "<Figure size 864x576 with 2 Axes>"
      ]
     },
     "metadata": {
      "needs_background": "light",
      "tags": []
     },
     "output_type": "display_data"
    },
    {
     "name": "stdout",
     "output_type": "stream",
     "text": [
      "MSE loss\n",
      "\tMSE loss         \t (min:    0.013, max:    0.022, cur:    0.013)\n",
      "Number of weight coefficients: 46400\n"
     ]
    }
   ],
   "source": [
    "# Data preparation\n",
    "\n",
    "autoencoder_train_data_set = data_utils.TensorDataset(left_model.encoder(train_features.view(-1, 28*14)), right_model.encoder(train_targets.view(-1, 28*14)))\n",
    "autoencoder_test_data_set = data_utils.TensorDataset(left_model.encoder(test_features.view(-1, 28*14)), right_model.encoder(test_targets.view(-1, 28*14)))\n",
    "\n",
    "autoencoder_train_loader = data_utils.DataLoader(autoencoder_train_data_set, batch_size=batch_size, shuffle=False)\n",
    "autoencoder_test_loader = data_utils.DataLoader(autoencoder_test_data_set, batch_size=batch_size, shuffle=False)\n",
    "\n",
    "# create a loss function\n",
    "criterion = nn.MSELoss()\n",
    "enc_net = EncNet(32, criterion)\n",
    "\n",
    "print(enc_net)\n",
    "\n",
    "optimizer = torch.optim.Adam(\n",
    "    enc_net.parameters(), lr=0.0007, weight_decay=1e-6)\n",
    "\n",
    "enc_net_solver = Solver(enc_net, 100, batch_size, optimizer)\n",
    "enc_net_solver.fit(autoencoder_train_loader)\n",
    "\n",
    "#%mldev encnet_train"
   ]
  },
  {
   "cell_type": "markdown",
   "metadata": {
    "id": "fS3ThfBl8x9I"
   },
   "source": [
    "## LinearNet"
   ]
  },
  {
   "cell_type": "code",
   "execution_count": 10,
   "metadata": {
    "colab": {
     "base_uri": "https://localhost:8080/",
     "height": 635
    },
    "executionInfo": {
     "elapsed": 2218945,
     "status": "ok",
     "timestamp": 1621509202709,
     "user": {
      "displayName": "Руслан Кошкин",
      "photoUrl": "",
      "userId": "02826648336057215366"
     },
     "user_tz": -180
    },
    "id": "E_4ObCu78xde",
    "outputId": "c086b9b1-daca-4278-af5b-9449905ae8a3"
   },
   "outputs": [
    {
     "data": {
      "image/png": "[encoded data removed]",
      "text/plain": [
       "<Figure size 864x576 with 2 Axes>"
      ]
     },
     "metadata": {
      "needs_background": "light",
      "tags": []
     },
     "output_type": "display_data"
    },
    {
     "name": "stdout",
     "output_type": "stream",
     "text": [
      "MSE loss\n",
      "\tMSE loss         \t (min:    0.024, max:    0.024, cur:    0.024)\n",
      "Number of weight coefficients: 2048\n"
     ]
    }
   ],
   "source": [
    "# Data preparation\n",
    "\n",
    "autoencoder_train_data_set = data_utils.TensorDataset(left_model.encoder(train_features.view(-1, 28*14)), right_model.encoder(train_targets.view(-1, 28*14)))\n",
    "autoencoder_test_data_set = data_utils.TensorDataset(left_model.encoder(test_features.view(-1, 28*14)), right_model.encoder(test_targets.view(-1, 28*14)))\n",
    "\n",
    "autoencoder_train_loader = data_utils.DataLoader(autoencoder_train_data_set, batch_size=batch_size, shuffle=False)\n",
    "autoencoder_test_loader = data_utils.DataLoader(autoencoder_test_data_set, batch_size=batch_size, shuffle=False)\n",
    "\n",
    "# create a loss function\n",
    "criterion = nn.MSELoss()\n",
    "linear_net = LinearNet(32, criterion)\n",
    "\n",
    "optimizer = torch.optim.Adam(\n",
    "    linear_net.parameters(), lr=0.01, weight_decay=1e-6)\n",
    "\n",
    "linear_net_solver = Solver(linear_net, 20, batch_size, optimizer)\n",
    "linear_net_solver.fit(autoencoder_train_loader)\n",
    "\n",
    "#%mldev linear_train"
   ]
  },
  {
   "cell_type": "markdown",
   "metadata": {
    "id": "QgmD7Odams3K"
   },
   "source": [
    "# Testing"
   ]
  },
  {
   "cell_type": "code",
   "execution_count": 11,
   "metadata": {
    "colab": {
     "base_uri": "https://localhost:8080/",
     "height": 1000
    },
    "executionInfo": {
     "elapsed": 2223903,
     "status": "ok",
     "timestamp": 1621509207670,
     "user": {
      "displayName": "Руслан Кошкин",
      "photoUrl": "",
      "userId": "02826648336057215366"
     },
     "user_tz": -180
    },
    "id": "G3O_t7uA7Xww",
    "outputId": "7fd8806c-2203-41c7-e934-d765e46402a7"
   },
   "outputs": [
    {
     "data": {
      "image/png": "[encoded data removed]",
      "text/plain": [
       "<Figure size 720x3600 with 70 Axes>"
      ]
     },
     "metadata": {
      "tags": []
     },
     "output_type": "display_data"
    }
   ],
   "source": [
    "j = 1\n",
    "criterion = nn.MSELoss()\n",
    "fig = plt.figure(figsize = (10,50)) \n",
    "for i in range(20, 30):\n",
    "    encoded = left_model.encoder(test_features[i].view(28*14)) \n",
    "\n",
    "    EncNet_pred_encoded = enc_net(encoded)\n",
    "    EncNet_pred = right_model.decoder(EncNet_pred_encoded).detach().view(28,14).cpu().numpy()\n",
    "\n",
    "    EncNet2_pred_encoded = enc_net(encoded)\n",
    "    EncNet2_pred = right_model.decoder(EncNet2_pred_encoded).detach().view(28,14).cpu().numpy()\n",
    "\n",
    "    LinearNet_pred_encoded = linear_net(encoded)\n",
    "    LinearNet_pred = right_model.decoder(LinearNet_pred_encoded).detach().view(28,14).cpu().numpy()\n",
    "\n",
    "    DumbNet_pred = dumb_net(test_features[i].view(28*14)).detach().view(28,14).cpu().numpy()\n",
    "\n",
    "    PLS_pred = np.reshape(pls32.predict(test_features[i].view(-1, 28*14)), (28, 14))\n",
    "\n",
    "    ax1 = fig.add_subplot(10, 7, j, xticks=[], yticks=[])\n",
    "    ax1.set_title(\"left image\")\n",
    "    ax1.imshow(test_features[i], cmap='gray')\n",
    "\n",
    "    ax2 = fig.add_subplot(10, 7, j+1, xticks=[], yticks=[])\n",
    "    ax2.set_title(\"right image\")\n",
    "    ax2.imshow(test_targets[i], cmap='gray')\n",
    "\n",
    "    ax3 = fig.add_subplot(10, 7, j+2, xticks=[], yticks=[])\n",
    "    label = round(float(criterion(torch.from_numpy(EncNet_pred).view(28*14), test_targets[i].view(28*14))), 3)\n",
    "    ax3.set_title(\"EN:\" + str(label))\n",
    "    ax3.imshow(EncNet_pred, cmap='gray')\n",
    "    \n",
    "    ax4 = fig.add_subplot(10, 7, j+3, xticks=[], yticks=[])\n",
    "    label = round(float(criterion(torch.from_numpy(EncNet2_pred).view(28*14), test_targets[i].view(28*14))), 3)\n",
    "    ax4.set_title(\"EN2:\" + str(label))\n",
    "    ax4.imshow(EncNet2_pred, cmap='gray')\n",
    "\n",
    "    ax5 = fig.add_subplot(10, 7, j+4, xticks=[], yticks=[])\n",
    "    label = round(float(criterion(torch.from_numpy(LinearNet_pred).view(28*14),test_targets[i].view(28*14))), 3)\n",
    "    ax5.set_title(\"LN:\" + str(label))\n",
    "    ax5.imshow(LinearNet_pred, cmap='gray')\n",
    "\n",
    "    ax6 = fig.add_subplot(10, 7, j+5, xticks=[], yticks=[])\n",
    "    label = round(float(criterion(torch.from_numpy(DumbNet_pred).view(28*14), test_targets[i].view(28*14))), 3)\n",
    "    ax6.set_title(\"DN:\" + str(label))\n",
    "    ax6.imshow(DumbNet_pred, cmap='gray')\n",
    "\n",
    "    ax7 = fig.add_subplot(10, 7, j+6, xticks=[], yticks=[])\n",
    "    label = round(float(criterion(torch.from_numpy(PLS_pred).view(28*14), test_targets[i].view(28*14))), 3)\n",
    "    ax7.set_title(\"PLS:\" + str(label))\n",
    "    ax7.imshow(PLS_pred, cmap='gray')\n",
    "    \n",
    "    j = j + 7\n",
    "\n",
    "#%mldev testing"
   ]
  },
  {
   "cell_type": "code",
   "execution_count": 12,
   "metadata": {
    "executionInfo": {
     "elapsed": 2259854,
     "status": "ok",
     "timestamp": 1621509243626,
     "user": {
      "displayName": "Руслан Кошкин",
      "photoUrl": "",
      "userId": "02826648336057215366"
     },
     "user_tz": -180
    },
    "id": "4g3G49vzRXgu"
   },
   "outputs": [],
   "source": [
    "loss1 = []\n",
    "loss2 = []\n",
    "loss3 = []\n",
    "loss4 = []\n",
    "loss5 = []\n",
    "losses = [loss1, loss2, loss3, loss4, loss5]\n",
    "criterion = nn.MSELoss()\n",
    "for i in range(len(test_features)):\n",
    "\n",
    "    encoded = left_model.encoder(test_features[i].view(28*14)) \n",
    "\n",
    "    EncNet_pred_encoded = enc_net(encoded)\n",
    "    EncNet_pred = right_model.decoder(EncNet_pred_encoded).detach().cpu()\n",
    "\n",
    "    EncNet2_pred_encoded = enc_net(encoded)\n",
    "    EncNet2_pred = right_model.decoder(EncNet2_pred_encoded).detach().cpu()\n",
    "\n",
    "    LinearNet_pred_encoded = linear_net(encoded)\n",
    "    LinearNet_pred = right_model.decoder(LinearNet_pred_encoded).detach().cpu()\n",
    "\n",
    "    DumbNet_pred = dumb_net(test_features[i].view(28*14)).detach().cpu()\n",
    "\n",
    "    PLS_pred = torch.from_numpy(pls32.predict(test_features[i].view(-1, 28*14))).view(28*14)\n",
    "\n",
    "    losses[0].append(round(float(criterion(EncNet_pred, test_targets[i].view(28*14))), 5))\n",
    "    losses[1].append(round(float(criterion(EncNet2_pred, test_targets[i].view(28*14))), 5))\n",
    "    losses[2].append(round(float(criterion(LinearNet_pred, test_targets[i].view(28*14))), 5))\n",
    "    losses[3].append(round(float(criterion(DumbNet_pred, test_targets[i].view(28*14))), 5))\n",
    "    losses[4].append(round(float(criterion(PLS_pred, test_targets[i].view(28*14))), 5))\n",
    "\n",
    "#%mldev losses"
   ]
  },
  {
   "cell_type": "markdown",
   "metadata": {
    "id": "FT4rxWWjEkWi"
   },
   "source": [
    "```yaml\n",
    "#%mldev nb_context\n",
    "\n",
    "pipeline:\n",
    "  - install\n",
    "  - imports\n",
    "  - params\n",
    "  - load_data\n",
    "  - pls_train\n",
    "  - dumb_train\n",
    "  - autoenc_train\n",
    "  - autoenc_check\n",
    "  - encnet_train\n",
    "  - linear_train\n",
    "  - testing\n",
    "  - losses\n",
    "  - stats\n",
    "  - print_losses\n",
    "\n",
    "```"
   ]
  },
  {
   "cell_type": "code",
   "execution_count": 13,
   "metadata": {
    "executionInfo": {
     "elapsed": 2259855,
     "status": "ok",
     "timestamp": 1621509243630,
     "user": {
      "displayName": "Руслан Кошкин",
      "photoUrl": "",
      "userId": "02826648336057215366"
     },
     "user_tz": -180
    },
    "id": "pQUmEf5o-E7N"
   },
   "outputs": [],
   "source": [
    "import statistics\n",
    "losses[0] = statistics.mean(losses[0])\n",
    "losses[1] = statistics.mean(losses[1])\n",
    "losses[2] = statistics.mean(losses[2])\n",
    "losses[3] = statistics.mean(losses[3])\n",
    "losses[4] = statistics.mean(losses[4])\n",
    "\n",
    "#%mldev stats"
   ]
  },
  {
   "cell_type": "code",
   "execution_count": 14,
   "metadata": {
    "colab": {
     "base_uri": "https://localhost:8080/"
    },
    "executionInfo": {
     "elapsed": 2259851,
     "status": "ok",
     "timestamp": 1621509243630,
     "user": {
      "displayName": "Руслан Кошкин",
      "photoUrl": "",
      "userId": "02826648336057215366"
     },
     "user_tz": -180
    },
    "id": "xwn_uA7-ER3y",
    "outputId": "009fa623-79cf-4e17-cd8f-37ef46fa50ab"
   },
   "outputs": [
    {
     "name": "stdout",
     "output_type": "stream",
     "text": [
      "EncNet loss:     0.146832075 \n",
      "EncNet2 loss:    0.146832075  \n",
      "LinearNet loss:  0.232342551  \n",
      "DumbNet loss:    0.127617668 \n",
      "PLS loss:        0.188374132\n"
     ]
    }
   ],
   "source": [
    "#%mldev print_losses\n",
    "print(\"EncNet loss:    \", losses[0], \"\\nEncNet2 loss:   \", losses[1], \" \\nLinearNet loss: \", losses[2], \" \\nDumbNet loss:   \", losses[3], \"\\nPLS loss:       \", losses[4])"
   ]
  },
  {
   "cell_type": "markdown",
   "metadata": {
    "id": "aQC5X9erFBRg"
   },
   "source": [
    "# Результаты\n",
    "\n",
    "\n",
    "Сложность моделей, измеряемая в кол-ве весов:\n",
    "\n",
    "*   **EncNet loss**: 283968\n",
    "*   **LinearNet loss**: 239616\n",
    "*   **DumbNet loss**: 283968\n",
    "\n",
    "\n",
    "-----------------------------------------------------\n",
    "-----------------------------------------------------\n",
    "\n",
    "\n",
    "Без совместной функции потерь:\n",
    "\n",
    "\n",
    "*   **EncNet loss**:   0.14847718 \n",
    "*   **LinearNet loss**: 0.236270102\n",
    "*   **DumbNet loss**: 0.12844069 \n",
    "*   **PLS loss**: 0.188374132\n",
    "\n",
    "\n",
    "-----------------------------------------------------\n",
    "Коэффициент перед совместной функцией потерь $\\alpha = 10^{-2}$\n",
    "\n",
    "*   **EncNet loss**: 0.146661715 \n",
    "*   **LinearNet loss**: 0.146661715\n",
    "*   **DumbNet loss**: 0.12844069 \n",
    "*   **PLS loss**: 0.188374132\n",
    "\n",
    "-----------------------------------------------------\n",
    "Коэффициент перед совместной функцией потерь $\\alpha = 10^{-1}$\n",
    "\n",
    "*   **EncNet loss**: 0.152047665\n",
    "*   **LinearNet loss**: 0.242692969\n",
    "*   **DumbNet loss**: 0.12844069\n",
    "*   **PLS loss**: 0.188374132\n",
    "\n",
    "\n",
    "\n",
    "\n",
    "-----------------------------------------------------"
   ]
  },
  {
   "cell_type": "code",
   "execution_count": 15,
   "metadata": {
    "executionInfo": {
     "elapsed": 2259849,
     "status": "ok",
     "timestamp": 1621509243631,
     "user": {
      "displayName": "Руслан Кошкин",
      "photoUrl": "",
      "userId": "02826648336057215366"
     },
     "user_tz": -180
    },
    "id": "6BNiV28qk6UN"
   },
   "outputs": [],
   "source": [
    "import torch\n",
    "\n",
    "import torch.nn as nn"
   ]
  },
  {
   "cell_type": "code",
   "execution_count": 16,
   "metadata": {
    "executionInfo": {
     "elapsed": 2259845,
     "status": "ok",
     "timestamp": 1621509243631,
     "user": {
      "displayName": "Руслан Кошкин",
      "photoUrl": "",
      "userId": "02826648336057215366"
     },
     "user_tz": -180
    },
    "id": "d6y88doNTzwF"
   },
   "outputs": [],
   "source": [
    "input = torch.arange(1, 5, dtype=torch.float32).view(1, 1, 2, 2)"
   ]
  },
  {
   "cell_type": "code",
   "execution_count": 17,
   "metadata": {
    "colab": {
     "base_uri": "https://localhost:8080/"
    },
    "executionInfo": {
     "elapsed": 2259823,
     "status": "ok",
     "timestamp": 1621509243632,
     "user": {
      "displayName": "Руслан Кошкин",
      "photoUrl": "",
      "userId": "02826648336057215366"
     },
     "user_tz": -180
    },
    "id": "rgzDJriNTzwF",
    "outputId": "62ff4d6c-c341-407e-f428-415641c2c940"
   },
   "outputs": [
    {
     "data": {
      "text/plain": [
       "tensor([[[[1., 2.],\n",
       "          [3., 4.]]]])"
      ]
     },
     "execution_count": 17,
     "metadata": {
      "tags": []
     },
     "output_type": "execute_result"
    }
   ],
   "source": [
    "input"
   ]
  },
  {
   "cell_type": "code",
   "execution_count": 18,
   "metadata": {
    "executionInfo": {
     "elapsed": 2259818,
     "status": "ok",
     "timestamp": 1621509243632,
     "user": {
      "displayName": "Руслан Кошкин",
      "photoUrl": "",
      "userId": "02826648336057215366"
     },
     "user_tz": -180
    },
    "id": "qxBgzpMETzwG"
   },
   "outputs": [],
   "source": [
    " m = nn.Upsample(scale_factor=2)"
   ]
  },
  {
   "cell_type": "code",
   "execution_count": 19,
   "metadata": {
    "colab": {
     "base_uri": "https://localhost:8080/"
    },
    "executionInfo": {
     "elapsed": 2259809,
     "status": "ok",
     "timestamp": 1621509243632,
     "user": {
      "displayName": "Руслан Кошкин",
      "photoUrl": "",
      "userId": "02826648336057215366"
     },
     "user_tz": -180
    },
    "id": "wx3ZYhyqTzwG",
    "outputId": "741f87db-3f0a-4b20-8af8-cb3e06a31ed0"
   },
   "outputs": [
    {
     "data": {
      "text/plain": [
       "tensor([[[[1., 1., 2., 2.],\n",
       "          [1., 1., 2., 2.],\n",
       "          [3., 3., 4., 4.],\n",
       "          [3., 3., 4., 4.]]]])"
      ]
     },
     "execution_count": 19,
     "metadata": {
      "tags": []
     },
     "output_type": "execute_result"
    }
   ],
   "source": [
    "m(input)"
   ]
  },
  {
   "cell_type": "code",
   "execution_count": 19,
   "metadata": {
    "executionInfo": {
     "elapsed": 2259804,
     "status": "ok",
     "timestamp": 1621509243633,
     "user": {
      "displayName": "Руслан Кошкин",
      "photoUrl": "",
      "userId": "02826648336057215366"
     },
     "user_tz": -180
    },
    "id": "rFQxtQSuTzwG"
   },
   "outputs": [],
   "source": []
  }
 ],
 "metadata": {
  "accelerator": "GPU",
  "colab": {
   "collapsed_sections": [],
   "name": "Run.ipynb",
   "provenance": [],
   "toc_visible": true
  },
  "kernelspec": {
   "display_name": "Python 3",
   "language": "python",
   "name": "python3"
  },
  "language_info": {
   "codemirror_mode": {
    "name": "ipython",
    "version": 3
   },
   "file_extension": ".py",
   "mimetype": "text/x-python",
   "name": "python",
   "nbconvert_exporter": "python",
   "pygments_lexer": "ipython3",
   "version": "3.6.9"
  },
  "widgets": {
   "application/vnd.jupyter.widget-state+json": {
    "017fab0d0db74459b57d80f925a3622d": {
     "model_module": "@jupyter-widgets/base",
     "model_name": "LayoutModel",
     "state": {
      "_model_module": "@jupyter-widgets/base",
      "_model_module_version": "1.2.0",
      "_model_name": "LayoutModel",
      "_view_count": null,
      "_view_module": "@jupyter-widgets/base",
      "_view_module_version": "1.2.0",
      "_view_name": "LayoutView",
      "align_content": null,
      "align_items": null,
      "align_self": null,
      "border": null,
      "bottom": null,
      "display": null,
      "flex": null,
      "flex_flow": null,
      "grid_area": null,
      "grid_auto_columns": null,
      "grid_auto_flow": null,
      "grid_auto_rows": null,
      "grid_column": null,
      "grid_gap": null,
      "grid_row": null,
      "grid_template_areas": null,
      "grid_template_columns": null,
      "grid_template_rows": null,
      "height": null,
      "justify_content": null,
      "justify_items": null,
      "left": null,
      "margin": null,
      "max_height": null,
      "max_width": null,
      "min_height": null,
      "min_width": null,
      "object_fit": null,
      "object_position": null,
      "order": null,
      "overflow": null,
      "overflow_x": null,
      "overflow_y": null,
      "padding": null,
      "right": null,
      "top": null,
      "visibility": null,
      "width": null
     }
    },
    "1a2c77667dc440a7b69ced44cac2a8eb": {
     "model_module": "@jupyter-widgets/controls",
     "model_name": "HTMLModel",
     "state": {
      "_dom_classes": [],
      "_model_module": "@jupyter-widgets/controls",
      "_model_module_version": "1.5.0",
      "_model_name": "HTMLModel",
      "_view_count": null,
      "_view_module": "@jupyter-widgets/controls",
      "_view_module_version": "1.5.0",
      "_view_name": "HTMLView",
      "description": "",
      "description_tooltip": null,
      "layout": "IPY_MODEL_da92f12b21424f27bd402376d7112ff5",
      "placeholder": "​",
      "style": "IPY_MODEL_5a0a6cd874434f2cb48be743400a9b73",
      "value": " 5120/? [00:00&lt;00:00, 7274.43it/s]"
     }
    },
    "1f929f5d7fe346039bc75018618ca1d8": {
     "model_module": "@jupyter-widgets/base",
     "model_name": "LayoutModel",
     "state": {
      "_model_module": "@jupyter-widgets/base",
      "_model_module_version": "1.2.0",
      "_model_name": "LayoutModel",
      "_view_count": null,
      "_view_module": "@jupyter-widgets/base",
      "_view_module_version": "1.2.0",
      "_view_name": "LayoutView",
      "align_content": null,
      "align_items": null,
      "align_self": null,
      "border": null,
      "bottom": null,
      "display": null,
      "flex": null,
      "flex_flow": null,
      "grid_area": null,
      "grid_auto_columns": null,
      "grid_auto_flow": null,
      "grid_auto_rows": null,
      "grid_column": null,
      "grid_gap": null,
      "grid_row": null,
      "grid_template_areas": null,
      "grid_template_columns": null,
      "grid_template_rows": null,
      "height": null,
      "justify_content": null,
      "justify_items": null,
      "left": null,
      "margin": null,
      "max_height": null,
      "max_width": null,
      "min_height": null,
      "min_width": null,
      "object_fit": null,
      "object_position": null,
      "order": null,
      "overflow": null,
      "overflow_x": null,
      "overflow_y": null,
      "padding": null,
      "right": null,
      "top": null,
      "visibility": null,
      "width": null
     }
    },
    "293b1b8a98864a708dd737456b04cc3a": {
     "model_module": "@jupyter-widgets/base",
     "model_name": "LayoutModel",
     "state": {
      "_model_module": "@jupyter-widgets/base",
      "_model_module_version": "1.2.0",
      "_model_name": "LayoutModel",
      "_view_count": null,
      "_view_module": "@jupyter-widgets/base",
      "_view_module_version": "1.2.0",
      "_view_name": "LayoutView",
      "align_content": null,
      "align_items": null,
      "align_self": null,
      "border": null,
      "bottom": null,
      "display": null,
      "flex": null,
      "flex_flow": null,
      "grid_area": null,
      "grid_auto_columns": null,
      "grid_auto_flow": null,
      "grid_auto_rows": null,
      "grid_column": null,
      "grid_gap": null,
      "grid_row": null,
      "grid_template_areas": null,
      "grid_template_columns": null,
      "grid_template_rows": null,
      "height": null,
      "justify_content": null,
      "justify_items": null,
      "left": null,
      "margin": null,
      "max_height": null,
      "max_width": null,
      "min_height": null,
      "min_width": null,
      "object_fit": null,
      "object_position": null,
      "order": null,
      "overflow": null,
      "overflow_x": null,
      "overflow_y": null,
      "padding": null,
      "right": null,
      "top": null,
      "visibility": null,
      "width": null
     }
    },
    "32108bef12b24e5faa2c8101e187ec61": {
     "model_module": "@jupyter-widgets/base",
     "model_name": "LayoutModel",
     "state": {
      "_model_module": "@jupyter-widgets/base",
      "_model_module_version": "1.2.0",
      "_model_name": "LayoutModel",
      "_view_count": null,
      "_view_module": "@jupyter-widgets/base",
      "_view_module_version": "1.2.0",
      "_view_name": "LayoutView",
      "align_content": null,
      "align_items": null,
      "align_self": null,
      "border": null,
      "bottom": null,
      "display": null,
      "flex": null,
      "flex_flow": null,
      "grid_area": null,
      "grid_auto_columns": null,
      "grid_auto_flow": null,
      "grid_auto_rows": null,
      "grid_column": null,
      "grid_gap": null,
      "grid_row": null,
      "grid_template_areas": null,
      "grid_template_columns": null,
      "grid_template_rows": null,
      "height": null,
      "justify_content": null,
      "justify_items": null,
      "left": null,
      "margin": null,
      "max_height": null,
      "max_width": null,
      "min_height": null,
      "min_width": null,
      "object_fit": null,
      "object_position": null,
      "order": null,
      "overflow": null,
      "overflow_x": null,
      "overflow_y": null,
      "padding": null,
      "right": null,
      "top": null,
      "visibility": null,
      "width": null
     }
    },
    "39dc51573d7849f7bcea18379a4e3525": {
     "model_module": "@jupyter-widgets/base",
     "model_name": "LayoutModel",
     "state": {
      "_model_module": "@jupyter-widgets/base",
      "_model_module_version": "1.2.0",
      "_model_name": "LayoutModel",
      "_view_count": null,
      "_view_module": "@jupyter-widgets/base",
      "_view_module_version": "1.2.0",
      "_view_name": "LayoutView",
      "align_content": null,
      "align_items": null,
      "align_self": null,
      "border": null,
      "bottom": null,
      "display": null,
      "flex": null,
      "flex_flow": null,
      "grid_area": null,
      "grid_auto_columns": null,
      "grid_auto_flow": null,
      "grid_auto_rows": null,
      "grid_column": null,
      "grid_gap": null,
      "grid_row": null,
      "grid_template_areas": null,
      "grid_template_columns": null,
      "grid_template_rows": null,
      "height": null,
      "justify_content": null,
      "justify_items": null,
      "left": null,
      "margin": null,
      "max_height": null,
      "max_width": null,
      "min_height": null,
      "min_width": null,
      "object_fit": null,
      "object_position": null,
      "order": null,
      "overflow": null,
      "overflow_x": null,
      "overflow_y": null,
      "padding": null,
      "right": null,
      "top": null,
      "visibility": null,
      "width": null
     }
    },
    "45fd6ce6bd9c4fdc96901aebc6458f4a": {
     "model_module": "@jupyter-widgets/base",
     "model_name": "LayoutModel",
     "state": {
      "_model_module": "@jupyter-widgets/base",
      "_model_module_version": "1.2.0",
      "_model_name": "LayoutModel",
      "_view_count": null,
      "_view_module": "@jupyter-widgets/base",
      "_view_module_version": "1.2.0",
      "_view_name": "LayoutView",
      "align_content": null,
      "align_items": null,
      "align_self": null,
      "border": null,
      "bottom": null,
      "display": null,
      "flex": null,
      "flex_flow": null,
      "grid_area": null,
      "grid_auto_columns": null,
      "grid_auto_flow": null,
      "grid_auto_rows": null,
      "grid_column": null,
      "grid_gap": null,
      "grid_row": null,
      "grid_template_areas": null,
      "grid_template_columns": null,
      "grid_template_rows": null,
      "height": null,
      "justify_content": null,
      "justify_items": null,
      "left": null,
      "margin": null,
      "max_height": null,
      "max_width": null,
      "min_height": null,
      "min_width": null,
      "object_fit": null,
      "object_position": null,
      "order": null,
      "overflow": null,
      "overflow_x": null,
      "overflow_y": null,
      "padding": null,
      "right": null,
      "top": null,
      "visibility": null,
      "width": null
     }
    },
    "534a4438d4d244939bad4288caa8086c": {
     "model_module": "@jupyter-widgets/controls",
     "model_name": "HBoxModel",
     "state": {
      "_dom_classes": [],
      "_model_module": "@jupyter-widgets/controls",
      "_model_module_version": "1.5.0",
      "_model_name": "HBoxModel",
      "_view_count": null,
      "_view_module": "@jupyter-widgets/controls",
      "_view_module_version": "1.5.0",
      "_view_name": "HBoxView",
      "box_style": "",
      "children": [
       "IPY_MODEL_75e9a90edcc14e799b027758faf245dc",
       "IPY_MODEL_b4fcee4208a342fba61e1077b757f8dc"
      ],
      "layout": "IPY_MODEL_017fab0d0db74459b57d80f925a3622d"
     }
    },
    "5a0a6cd874434f2cb48be743400a9b73": {
     "model_module": "@jupyter-widgets/controls",
     "model_name": "DescriptionStyleModel",
     "state": {
      "_model_module": "@jupyter-widgets/controls",
      "_model_module_version": "1.5.0",
      "_model_name": "DescriptionStyleModel",
      "_view_count": null,
      "_view_module": "@jupyter-widgets/base",
      "_view_module_version": "1.2.0",
      "_view_name": "StyleView",
      "description_width": ""
     }
    },
    "5aef410a79834ebebb21dcded02ce434": {
     "model_module": "@jupyter-widgets/base",
     "model_name": "LayoutModel",
     "state": {
      "_model_module": "@jupyter-widgets/base",
      "_model_module_version": "1.2.0",
      "_model_name": "LayoutModel",
      "_view_count": null,
      "_view_module": "@jupyter-widgets/base",
      "_view_module_version": "1.2.0",
      "_view_name": "LayoutView",
      "align_content": null,
      "align_items": null,
      "align_self": null,
      "border": null,
      "bottom": null,
      "display": null,
      "flex": null,
      "flex_flow": null,
      "grid_area": null,
      "grid_auto_columns": null,
      "grid_auto_flow": null,
      "grid_auto_rows": null,
      "grid_column": null,
      "grid_gap": null,
      "grid_row": null,
      "grid_template_areas": null,
      "grid_template_columns": null,
      "grid_template_rows": null,
      "height": null,
      "justify_content": null,
      "justify_items": null,
      "left": null,
      "margin": null,
      "max_height": null,
      "max_width": null,
      "min_height": null,
      "min_width": null,
      "object_fit": null,
      "object_position": null,
      "order": null,
      "overflow": null,
      "overflow_x": null,
      "overflow_y": null,
      "padding": null,
      "right": null,
      "top": null,
      "visibility": null,
      "width": null
     }
    },
    "69b430f1d1a74fb1884369eff1d83605": {
     "model_module": "@jupyter-widgets/controls",
     "model_name": "DescriptionStyleModel",
     "state": {
      "_model_module": "@jupyter-widgets/controls",
      "_model_module_version": "1.5.0",
      "_model_name": "DescriptionStyleModel",
      "_view_count": null,
      "_view_module": "@jupyter-widgets/base",
      "_view_module_version": "1.2.0",
      "_view_name": "StyleView",
      "description_width": ""
     }
    },
    "7026527f2ceb46f39ad3e1951ab03441": {
     "model_module": "@jupyter-widgets/controls",
     "model_name": "DescriptionStyleModel",
     "state": {
      "_model_module": "@jupyter-widgets/controls",
      "_model_module_version": "1.5.0",
      "_model_name": "DescriptionStyleModel",
      "_view_count": null,
      "_view_module": "@jupyter-widgets/base",
      "_view_module_version": "1.2.0",
      "_view_name": "StyleView",
      "description_width": ""
     }
    },
    "71e732bb334b41b980dae06ac9749054": {
     "model_module": "@jupyter-widgets/controls",
     "model_name": "HBoxModel",
     "state": {
      "_dom_classes": [],
      "_model_module": "@jupyter-widgets/controls",
      "_model_module_version": "1.5.0",
      "_model_name": "HBoxModel",
      "_view_count": null,
      "_view_module": "@jupyter-widgets/controls",
      "_view_module_version": "1.5.0",
      "_view_name": "HBoxView",
      "box_style": "",
      "children": [
       "IPY_MODEL_d616c84abeef4ce08e75b28c4a457770",
       "IPY_MODEL_e3dae9f7d2c640bbba465d303ec01187"
      ],
      "layout": "IPY_MODEL_96587f35e491413a8201e6e3cf7d739c"
     }
    },
    "75e9a90edcc14e799b027758faf245dc": {
     "model_module": "@jupyter-widgets/controls",
     "model_name": "FloatProgressModel",
     "state": {
      "_dom_classes": [],
      "_model_module": "@jupyter-widgets/controls",
      "_model_module_version": "1.5.0",
      "_model_name": "FloatProgressModel",
      "_view_count": null,
      "_view_module": "@jupyter-widgets/controls",
      "_view_module_version": "1.5.0",
      "_view_name": "ProgressView",
      "bar_style": "success",
      "description": "",
      "description_tooltip": null,
      "layout": "IPY_MODEL_39dc51573d7849f7bcea18379a4e3525",
      "max": 1648877,
      "min": 0,
      "orientation": "horizontal",
      "style": "IPY_MODEL_c65daf09706d4cd9ae3b4245440a5c36",
      "value": 1648877
     }
    },
    "76477aadba5548359ac459b4f80dc95a": {
     "model_module": "@jupyter-widgets/base",
     "model_name": "LayoutModel",
     "state": {
      "_model_module": "@jupyter-widgets/base",
      "_model_module_version": "1.2.0",
      "_model_name": "LayoutModel",
      "_view_count": null,
      "_view_module": "@jupyter-widgets/base",
      "_view_module_version": "1.2.0",
      "_view_name": "LayoutView",
      "align_content": null,
      "align_items": null,
      "align_self": null,
      "border": null,
      "bottom": null,
      "display": null,
      "flex": null,
      "flex_flow": null,
      "grid_area": null,
      "grid_auto_columns": null,
      "grid_auto_flow": null,
      "grid_auto_rows": null,
      "grid_column": null,
      "grid_gap": null,
      "grid_row": null,
      "grid_template_areas": null,
      "grid_template_columns": null,
      "grid_template_rows": null,
      "height": null,
      "justify_content": null,
      "justify_items": null,
      "left": null,
      "margin": null,
      "max_height": null,
      "max_width": null,
      "min_height": null,
      "min_width": null,
      "object_fit": null,
      "object_position": null,
      "order": null,
      "overflow": null,
      "overflow_x": null,
      "overflow_y": null,
      "padding": null,
      "right": null,
      "top": null,
      "visibility": null,
      "width": null
     }
    },
    "80dec295d8e14df1afc98792969e4787": {
     "model_module": "@jupyter-widgets/controls",
     "model_name": "HBoxModel",
     "state": {
      "_dom_classes": [],
      "_model_module": "@jupyter-widgets/controls",
      "_model_module_version": "1.5.0",
      "_model_name": "HBoxModel",
      "_view_count": null,
      "_view_module": "@jupyter-widgets/controls",
      "_view_module_version": "1.5.0",
      "_view_name": "HBoxView",
      "box_style": "",
      "children": [
       "IPY_MODEL_f0465ee3e1d545b49a0bbce19095f8f4",
       "IPY_MODEL_8e19fed6c3a9443fa941c136ca946d61"
      ],
      "layout": "IPY_MODEL_5aef410a79834ebebb21dcded02ce434"
     }
    },
    "8e19fed6c3a9443fa941c136ca946d61": {
     "model_module": "@jupyter-widgets/controls",
     "model_name": "HTMLModel",
     "state": {
      "_dom_classes": [],
      "_model_module": "@jupyter-widgets/controls",
      "_model_module_version": "1.5.0",
      "_model_name": "HTMLModel",
      "_view_count": null,
      "_view_module": "@jupyter-widgets/controls",
      "_view_module_version": "1.5.0",
      "_view_name": "HTMLView",
      "description": "",
      "description_tooltip": null,
      "layout": "IPY_MODEL_293b1b8a98864a708dd737456b04cc3a",
      "placeholder": "​",
      "style": "IPY_MODEL_ec09e95304604fb88c1c4579fce5f0e9",
      "value": " 29696/? [00:00&lt;00:00, 131502.65it/s]"
     }
    },
    "96587f35e491413a8201e6e3cf7d739c": {
     "model_module": "@jupyter-widgets/base",
     "model_name": "LayoutModel",
     "state": {
      "_model_module": "@jupyter-widgets/base",
      "_model_module_version": "1.2.0",
      "_model_name": "LayoutModel",
      "_view_count": null,
      "_view_module": "@jupyter-widgets/base",
      "_view_module_version": "1.2.0",
      "_view_name": "LayoutView",
      "align_content": null,
      "align_items": null,
      "align_self": null,
      "border": null,
      "bottom": null,
      "display": null,
      "flex": null,
      "flex_flow": null,
      "grid_area": null,
      "grid_auto_columns": null,
      "grid_auto_flow": null,
      "grid_auto_rows": null,
      "grid_column": null,
      "grid_gap": null,
      "grid_row": null,
      "grid_template_areas": null,
      "grid_template_columns": null,
      "grid_template_rows": null,
      "height": null,
      "justify_content": null,
      "justify_items": null,
      "left": null,
      "margin": null,
      "max_height": null,
      "max_width": null,
      "min_height": null,
      "min_width": null,
      "object_fit": null,
      "object_position": null,
      "order": null,
      "overflow": null,
      "overflow_x": null,
      "overflow_y": null,
      "padding": null,
      "right": null,
      "top": null,
      "visibility": null,
      "width": null
     }
    },
    "99fc881052114eae865b2a8d12526da4": {
     "model_module": "@jupyter-widgets/controls",
     "model_name": "ProgressStyleModel",
     "state": {
      "_model_module": "@jupyter-widgets/controls",
      "_model_module_version": "1.5.0",
      "_model_name": "ProgressStyleModel",
      "_view_count": null,
      "_view_module": "@jupyter-widgets/base",
      "_view_module_version": "1.2.0",
      "_view_name": "StyleView",
      "bar_color": null,
      "description_width": "initial"
     }
    },
    "9fb4d1efca494f0b987791401b94c3b5": {
     "model_module": "@jupyter-widgets/base",
     "model_name": "LayoutModel",
     "state": {
      "_model_module": "@jupyter-widgets/base",
      "_model_module_version": "1.2.0",
      "_model_name": "LayoutModel",
      "_view_count": null,
      "_view_module": "@jupyter-widgets/base",
      "_view_module_version": "1.2.0",
      "_view_name": "LayoutView",
      "align_content": null,
      "align_items": null,
      "align_self": null,
      "border": null,
      "bottom": null,
      "display": null,
      "flex": null,
      "flex_flow": null,
      "grid_area": null,
      "grid_auto_columns": null,
      "grid_auto_flow": null,
      "grid_auto_rows": null,
      "grid_column": null,
      "grid_gap": null,
      "grid_row": null,
      "grid_template_areas": null,
      "grid_template_columns": null,
      "grid_template_rows": null,
      "height": null,
      "justify_content": null,
      "justify_items": null,
      "left": null,
      "margin": null,
      "max_height": null,
      "max_width": null,
      "min_height": null,
      "min_width": null,
      "object_fit": null,
      "object_position": null,
      "order": null,
      "overflow": null,
      "overflow_x": null,
      "overflow_y": null,
      "padding": null,
      "right": null,
      "top": null,
      "visibility": null,
      "width": null
     }
    },
    "aa831ab5271e4ef7a46cab061626b483": {
     "model_module": "@jupyter-widgets/base",
     "model_name": "LayoutModel",
     "state": {
      "_model_module": "@jupyter-widgets/base",
      "_model_module_version": "1.2.0",
      "_model_name": "LayoutModel",
      "_view_count": null,
      "_view_module": "@jupyter-widgets/base",
      "_view_module_version": "1.2.0",
      "_view_name": "LayoutView",
      "align_content": null,
      "align_items": null,
      "align_self": null,
      "border": null,
      "bottom": null,
      "display": null,
      "flex": null,
      "flex_flow": null,
      "grid_area": null,
      "grid_auto_columns": null,
      "grid_auto_flow": null,
      "grid_auto_rows": null,
      "grid_column": null,
      "grid_gap": null,
      "grid_row": null,
      "grid_template_areas": null,
      "grid_template_columns": null,
      "grid_template_rows": null,
      "height": null,
      "justify_content": null,
      "justify_items": null,
      "left": null,
      "margin": null,
      "max_height": null,
      "max_width": null,
      "min_height": null,
      "min_width": null,
      "object_fit": null,
      "object_position": null,
      "order": null,
      "overflow": null,
      "overflow_x": null,
      "overflow_y": null,
      "padding": null,
      "right": null,
      "top": null,
      "visibility": null,
      "width": null
     }
    },
    "b4fcee4208a342fba61e1077b757f8dc": {
     "model_module": "@jupyter-widgets/controls",
     "model_name": "HTMLModel",
     "state": {
      "_dom_classes": [],
      "_model_module": "@jupyter-widgets/controls",
      "_model_module_version": "1.5.0",
      "_model_name": "HTMLModel",
      "_view_count": null,
      "_view_module": "@jupyter-widgets/controls",
      "_view_module_version": "1.5.0",
      "_view_name": "HTMLView",
      "description": "",
      "description_tooltip": null,
      "layout": "IPY_MODEL_9fb4d1efca494f0b987791401b94c3b5",
      "placeholder": "​",
      "style": "IPY_MODEL_7026527f2ceb46f39ad3e1951ab03441",
      "value": " 1649664/? [00:02&lt;00:00, 577084.69it/s]"
     }
    },
    "b51280ee2a434b4dba25205d3e6f1a15": {
     "model_module": "@jupyter-widgets/controls",
     "model_name": "HBoxModel",
     "state": {
      "_dom_classes": [],
      "_model_module": "@jupyter-widgets/controls",
      "_model_module_version": "1.5.0",
      "_model_name": "HBoxModel",
      "_view_count": null,
      "_view_module": "@jupyter-widgets/controls",
      "_view_module_version": "1.5.0",
      "_view_name": "HBoxView",
      "box_style": "",
      "children": [
       "IPY_MODEL_bce3ad120fcc49609ac8ede5fad28e86",
       "IPY_MODEL_1a2c77667dc440a7b69ced44cac2a8eb"
      ],
      "layout": "IPY_MODEL_32108bef12b24e5faa2c8101e187ec61"
     }
    },
    "bce3ad120fcc49609ac8ede5fad28e86": {
     "model_module": "@jupyter-widgets/controls",
     "model_name": "FloatProgressModel",
     "state": {
      "_dom_classes": [],
      "_model_module": "@jupyter-widgets/controls",
      "_model_module_version": "1.5.0",
      "_model_name": "FloatProgressModel",
      "_view_count": null,
      "_view_module": "@jupyter-widgets/controls",
      "_view_module_version": "1.5.0",
      "_view_name": "ProgressView",
      "bar_style": "success",
      "description": "",
      "description_tooltip": null,
      "layout": "IPY_MODEL_1f929f5d7fe346039bc75018618ca1d8",
      "max": 4542,
      "min": 0,
      "orientation": "horizontal",
      "style": "IPY_MODEL_e098e3d9b42c431cb938415d52b6591d",
      "value": 4542
     }
    },
    "c58c64e09a804e68a25b1d282e62a8f6": {
     "model_module": "@jupyter-widgets/controls",
     "model_name": "ProgressStyleModel",
     "state": {
      "_model_module": "@jupyter-widgets/controls",
      "_model_module_version": "1.5.0",
      "_model_name": "ProgressStyleModel",
      "_view_count": null,
      "_view_module": "@jupyter-widgets/base",
      "_view_module_version": "1.2.0",
      "_view_name": "StyleView",
      "bar_color": null,
      "description_width": "initial"
     }
    },
    "c65daf09706d4cd9ae3b4245440a5c36": {
     "model_module": "@jupyter-widgets/controls",
     "model_name": "ProgressStyleModel",
     "state": {
      "_model_module": "@jupyter-widgets/controls",
      "_model_module_version": "1.5.0",
      "_model_name": "ProgressStyleModel",
      "_view_count": null,
      "_view_module": "@jupyter-widgets/base",
      "_view_module_version": "1.2.0",
      "_view_name": "StyleView",
      "bar_color": null,
      "description_width": "initial"
     }
    },
    "d616c84abeef4ce08e75b28c4a457770": {
     "model_module": "@jupyter-widgets/controls",
     "model_name": "FloatProgressModel",
     "state": {
      "_dom_classes": [],
      "_model_module": "@jupyter-widgets/controls",
      "_model_module_version": "1.5.0",
      "_model_name": "FloatProgressModel",
      "_view_count": null,
      "_view_module": "@jupyter-widgets/controls",
      "_view_module_version": "1.5.0",
      "_view_name": "ProgressView",
      "bar_style": "success",
      "description": "",
      "description_tooltip": null,
      "layout": "IPY_MODEL_76477aadba5548359ac459b4f80dc95a",
      "max": 9912422,
      "min": 0,
      "orientation": "horizontal",
      "style": "IPY_MODEL_c58c64e09a804e68a25b1d282e62a8f6",
      "value": 9912422
     }
    },
    "da92f12b21424f27bd402376d7112ff5": {
     "model_module": "@jupyter-widgets/base",
     "model_name": "LayoutModel",
     "state": {
      "_model_module": "@jupyter-widgets/base",
      "_model_module_version": "1.2.0",
      "_model_name": "LayoutModel",
      "_view_count": null,
      "_view_module": "@jupyter-widgets/base",
      "_view_module_version": "1.2.0",
      "_view_name": "LayoutView",
      "align_content": null,
      "align_items": null,
      "align_self": null,
      "border": null,
      "bottom": null,
      "display": null,
      "flex": null,
      "flex_flow": null,
      "grid_area": null,
      "grid_auto_columns": null,
      "grid_auto_flow": null,
      "grid_auto_rows": null,
      "grid_column": null,
      "grid_gap": null,
      "grid_row": null,
      "grid_template_areas": null,
      "grid_template_columns": null,
      "grid_template_rows": null,
      "height": null,
      "justify_content": null,
      "justify_items": null,
      "left": null,
      "margin": null,
      "max_height": null,
      "max_width": null,
      "min_height": null,
      "min_width": null,
      "object_fit": null,
      "object_position": null,
      "order": null,
      "overflow": null,
      "overflow_x": null,
      "overflow_y": null,
      "padding": null,
      "right": null,
      "top": null,
      "visibility": null,
      "width": null
     }
    },
    "e098e3d9b42c431cb938415d52b6591d": {
     "model_module": "@jupyter-widgets/controls",
     "model_name": "ProgressStyleModel",
     "state": {
      "_model_module": "@jupyter-widgets/controls",
      "_model_module_version": "1.5.0",
      "_model_name": "ProgressStyleModel",
      "_view_count": null,
      "_view_module": "@jupyter-widgets/base",
      "_view_module_version": "1.2.0",
      "_view_name": "StyleView",
      "bar_color": null,
      "description_width": "initial"
     }
    },
    "e3dae9f7d2c640bbba465d303ec01187": {
     "model_module": "@jupyter-widgets/controls",
     "model_name": "HTMLModel",
     "state": {
      "_dom_classes": [],
      "_model_module": "@jupyter-widgets/controls",
      "_model_module_version": "1.5.0",
      "_model_name": "HTMLModel",
      "_view_count": null,
      "_view_module": "@jupyter-widgets/controls",
      "_view_module_version": "1.5.0",
      "_view_name": "HTMLView",
      "description": "",
      "description_tooltip": null,
      "layout": "IPY_MODEL_45fd6ce6bd9c4fdc96901aebc6458f4a",
      "placeholder": "​",
      "style": "IPY_MODEL_69b430f1d1a74fb1884369eff1d83605",
      "value": " 9913344/? [00:09&lt;00:00, 1012666.56it/s]"
     }
    },
    "ec09e95304604fb88c1c4579fce5f0e9": {
     "model_module": "@jupyter-widgets/controls",
     "model_name": "DescriptionStyleModel",
     "state": {
      "_model_module": "@jupyter-widgets/controls",
      "_model_module_version": "1.5.0",
      "_model_name": "DescriptionStyleModel",
      "_view_count": null,
      "_view_module": "@jupyter-widgets/base",
      "_view_module_version": "1.2.0",
      "_view_name": "StyleView",
      "description_width": ""
     }
    },
    "f0465ee3e1d545b49a0bbce19095f8f4": {
     "model_module": "@jupyter-widgets/controls",
     "model_name": "FloatProgressModel",
     "state": {
      "_dom_classes": [],
      "_model_module": "@jupyter-widgets/controls",
      "_model_module_version": "1.5.0",
      "_model_name": "FloatProgressModel",
      "_view_count": null,
      "_view_module": "@jupyter-widgets/controls",
      "_view_module_version": "1.5.0",
      "_view_name": "ProgressView",
      "bar_style": "success",
      "description": "",
      "description_tooltip": null,
      "layout": "IPY_MODEL_aa831ab5271e4ef7a46cab061626b483",
      "max": 28881,
      "min": 0,
      "orientation": "horizontal",
      "style": "IPY_MODEL_99fc881052114eae865b2a8d12526da4",
      "value": 28881
     }
    }
   }
  }
 },
 "nbformat": 4,
 "nbformat_minor": 1
}
