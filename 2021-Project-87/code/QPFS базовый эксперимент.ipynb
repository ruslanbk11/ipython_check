{
 "cells": [
  {
   "cell_type": "code",
   "execution_count": 21,
   "metadata": {},
   "outputs": [],
   "source": [
    "import numpy as np\n",
    "import scipy.stats\n",
    "import cvxpy\n",
    "import matplotlib.pyplot as plt"
   ]
  },
  {
   "cell_type": "code",
   "execution_count": 2,
   "metadata": {},
   "outputs": [],
   "source": [
    "?np.corrcoef"
   ]
  },
  {
   "cell_type": "code",
   "execution_count": 4,
   "metadata": {},
   "outputs": [],
   "source": [
    "def get_sim(X):\n",
    "    return np.abs(np.corrcoef(X.T))\n",
    "\n",
    "def get_rel(X, y):\n",
    "    return np.abs(np.corrcoef(X.T, y)[:-1, -1])"
   ]
  },
  {
   "cell_type": "code",
   "execution_count": 34,
   "metadata": {},
   "outputs": [],
   "source": [
    "def generate_data(m, eps, seed):\n",
    "    np.random.seed(seed)\n",
    "    # генерируем y и x1 из стандартного нормального распределения\n",
    "    y = np.random.randn(m) \n",
    "    x1 = np.random.randn(m)\n",
    "\n",
    "    x2 = x1 + eps * y\n",
    "    X = np.array([x1, x2]).T\n",
    "    return X, y"
   ]
  },
  {
   "cell_type": "code",
   "execution_count": 36,
   "metadata": {},
   "outputs": [],
   "source": [
    "def solve_qpfs(b, Q):\n",
    "    a = cvxpy.Variable(Q.shape[1])\n",
    "\n",
    "    problem = cvxpy.Problem(cvxpy.Maximize(b.T @ a - cvxpy.quad_form(a, Q)), [a >= 0])\n",
    "    problem.solve(solver='ECOS')\n",
    "\n",
    "    return a.value"
   ]
  },
  {
   "cell_type": "code",
   "execution_count": 48,
   "metadata": {
    "scrolled": true
   },
   "outputs": [
    {
     "name": "stdout",
     "output_type": "stream",
     "text": [
      "SOLUTION: [1.57577192e-02 2.01086007e-08] True\n",
      "SOLUTION: [1.06763329e-07 1.14062121e-02] False\n",
      "SOLUTION: [6.05254637e-03 1.22225636e-06] True\n",
      "SOLUTION: [1.53283336e-08 1.74994604e-02] False\n",
      "SOLUTION: [1.43858608e-06 6.10161027e-03] False\n",
      "SOLUTION: [2.67123431e-08 1.50881554e-02] False\n",
      "SOLUTION: [3.05848928e-04 1.16792614e-06] True\n",
      "SOLUTION: [1.32540009e-02 2.88695913e-08] True\n",
      "SOLUTION: [2.65498559e-07 1.87896446e-03] False\n",
      "SOLUTION: [8.83238623e-03 8.84211116e-07] True\n",
      "SOLUTION: [8.79335401e-08 3.43368330e-02] False\n",
      "SOLUTION: [3.19744857e-07 7.42595573e-03] False\n",
      "SOLUTION: [9.76118022e-08 9.74351305e-04] False\n",
      "SOLUTION: [1.09016144e-02 1.30657647e-07] True\n",
      "SOLUTION: [2.26628246e-07 9.52547296e-03] False\n",
      "SOLUTION: [1.01562831e-02 1.88157659e-07] True\n",
      "SOLUTION: [3.46541497e-08 3.93454933e-02] False\n",
      "SOLUTION: [1.86588365e-02 3.43667529e-08] True\n",
      "SOLUTION: [3.23378759e-04 1.11321809e-06] True\n",
      "SOLUTION: [2.81247760e-08 1.31504912e-02] False\n",
      "SOLUTION: [1.89379059e-08 1.59640020e-02] False\n",
      "SOLUTION: [1.53331626e-07 5.39772393e-03] False\n",
      "SOLUTION: [1.74745972e-07 9.78786363e-03] False\n",
      "SOLUTION: [2.48362155e-02 1.54543648e-07] True\n",
      "SOLUTION: [2.18780399e-02 1.38180317e-07] True\n",
      "SOLUTION: [1.10438925e-03 8.05513521e-07] True\n",
      "SOLUTION: [3.10516438e-08 1.43203700e-02] False\n",
      "SOLUTION: [4.69880459e-03 8.51868341e-08] True\n",
      "SOLUTION: [1.53603437e-02 2.48552672e-08] True\n",
      "SOLUTION: [5.57885675e-03 1.07405014e-07] True\n",
      "SOLUTION: [4.89982247e-04 5.39040719e-07] True\n",
      "SOLUTION: [1.52662675e-03 8.26671754e-08] True\n",
      "SOLUTION: [1.92442764e-02 4.95427014e-08] True\n",
      "SOLUTION: [6.46100791e-03 5.32197818e-07] True\n",
      "SOLUTION: [8.24107675e-08 2.80796231e-02] False\n",
      "SOLUTION: [2.80683945e-02 7.39479514e-08] True\n",
      "SOLUTION: [2.08032868e-02 1.03565007e-07] True\n",
      "SOLUTION: [1.91847939e-03 2.72823094e-07] True\n",
      "SOLUTION: [1.15573659e-02 6.77254012e-08] True\n",
      "SOLUTION: [3.17157616e-08 5.97117343e-03] False\n",
      "SOLUTION: [9.07970109e-03 4.33865415e-07] True\n",
      "SOLUTION: [2.28363782e-02 1.64531439e-07] True\n",
      "SOLUTION: [2.01879614e-02 8.10573144e-08] True\n",
      "SOLUTION: [8.14767854e-03 1.70913972e-07] True\n",
      "SOLUTION: [3.01690773e-08 1.34641374e-02] False\n",
      "SOLUTION: [2.2045353e-02 1.4598959e-07] True\n",
      "SOLUTION: [8.19139301e-08 2.96663821e-02] False\n",
      "SOLUTION: [2.74592835e-07 2.02773613e-03] False\n",
      "SOLUTION: [1.91752532e-07 1.71771848e-03] False\n",
      "SOLUTION: [2.48186332e-08 1.52923275e-02] False\n",
      "SOLUTION: [2.83952142e-08 1.31355289e-02] False\n",
      "SOLUTION: [1.15185396e-07 4.84468545e-03] False\n",
      "SOLUTION: [1.26497806e-02 2.47586906e-08] True\n",
      "SOLUTION: [2.95406953e-08 1.32463147e-02] False\n",
      "SOLUTION: [2.96409885e-08 1.33471300e-02] False\n",
      "SOLUTION: [1.60500649e-07 5.40156368e-03] False\n",
      "SOLUTION: [5.67311775e-03 8.90342412e-08] True\n",
      "SOLUTION: [8.48063705e-08 5.68203576e-03] False\n",
      "SOLUTION: [2.56862571e-02 1.15878696e-07] True\n",
      "SOLUTION: [4.53490557e-02 1.15164065e-06] True\n",
      "SOLUTION: [2.26468087e-02 1.55989365e-07] True\n",
      "SOLUTION: [2.19914383e-08 1.55484922e-02] False\n",
      "SOLUTION: [9.60627215e-08 3.34968111e-02] False\n",
      "SOLUTION: [3.38459009e-03 3.56264010e-07] True\n",
      "SOLUTION: [9.31556694e-07 6.79200925e-03] False\n",
      "SOLUTION: [1.52383160e-07 1.07019732e-02] False\n",
      "SOLUTION: [4.54657762e-03 2.93649542e-08] True\n",
      "SOLUTION: [6.76900967e-08 5.79540123e-03] False\n",
      "SOLUTION: [6.65105492e-03 1.08320893e-07] True\n",
      "SOLUTION: [1.11480864e-06 3.86358434e-03] False\n",
      "SOLUTION: [1.6364174e-02 1.4608998e-08] True\n",
      "SOLUTION: [1.35280807e-02 3.03084604e-08] True\n",
      "SOLUTION: [2.06091877e-07 3.18148793e-03] False\n",
      "SOLUTION: [5.42247575e-03 1.55233674e-07] True\n",
      "SOLUTION: [1.86398500e-07 1.03556261e-02] False\n",
      "SOLUTION: [9.17635483e-08 3.36826663e-02] False\n",
      "SOLUTION: [1.44229966e-02 3.04665194e-08] True\n",
      "SOLUTION: [3.02365992e-08 1.45302703e-02] False\n",
      "SOLUTION: [1.46347060e-08 1.69091966e-02] False\n",
      "SOLUTION: [2.35359585e-02 1.59845784e-07] True\n",
      "SOLUTION: [1.55353267e-02 2.24578752e-08] True\n",
      "SOLUTION: [9.35739040e-03 2.49996699e-07] True\n",
      "SOLUTION: [1.33982000e-07 2.53150475e-02] False\n",
      "SOLUTION: [8.30841719e-08 2.98085550e-02] False\n",
      "SOLUTION: [1.10545511e-03 6.42566516e-07] True\n",
      "SOLUTION: [1.60479346e-02 1.72660795e-08] True\n",
      "SOLUTION: [1.77978417e-08 1.77524397e-02] False\n",
      "SOLUTION: [7.14130896e-03 6.47477829e-07] True\n",
      "SOLUTION: [9.51054122e-08 1.56040283e-03] False\n",
      "SOLUTION: [6.78533184e-03 1.15397276e-06] True\n",
      "SOLUTION: [5.43419379e-03 1.42263480e-07] True\n",
      "SOLUTION: [1.65288251e-07 2.44966556e-03] False\n",
      "SOLUTION: [8.02818692e-08 2.01662032e-02] False\n",
      "SOLUTION: [1.28226929e-07 1.12082128e-02] False\n",
      "SOLUTION: [1.16592116e-03 5.56005705e-07] True\n",
      "SOLUTION: [2.07646626e-08 1.79664988e-02] False\n",
      "SOLUTION: [7.14248724e-03 5.54351271e-07] True\n",
      "SOLUTION: [1.01089641e-02 1.79440659e-07] True\n",
      "SOLUTION: [2.25193705e-08 1.23395302e-02] False\n",
      "SOLUTION: [3.55780143e-03 6.86328282e-07] True\n",
      "в 52 случаях из 100 коэффициент a_1 больше a_2\n"
     ]
    }
   ],
   "source": [
    "m = 1000\n",
    "eps = 0.001\n",
    "num_attempts = 100\n",
    "\n",
    "a_list = []\n",
    "cnt = 0\n",
    "\n",
    "for seed in range(num_attempts):\n",
    "    X, y = generate_data(m, eps, seed)\n",
    "\n",
    "    b = get_rel(X, y)\n",
    "    Q = get_sim(X)\n",
    "\n",
    "    a = solve_qpfs(b, Q)\n",
    "    a_list.append(a)\n",
    "    cnt += (a[0] > a[1])\n",
    "    \n",
    "    print(\"SOLUTION:\", a, a[0] > a[1])\n",
    "\n",
    "print(f'в {cnt} случаях из {num_attempts} коэффициент a_1 больше a_2')\n",
    "    \n",
    "# SOLUTION: [1.57577192e-02 2.01086007e-08]\n",
    "# SOLUTION: [1.06763521e-07 1.14062121e-02]\n",
    "# SOLUTION: [6.05254637e-03 1.22225507e-06]\n",
    "# SOLUTION: [1.53284022e-08 1.74994604e-02]\n",
    "# SOLUTION: [1.43859131e-06 6.10161028e-03]\n",
    "# SOLUTION: [2.67123647e-08 1.50881554e-02]\n",
    "# SOLUTION: [3.05848931e-04 1.16792601e-06]\n",
    "# SOLUTION: [1.32540008e-02 2.88693035e-08] -> look! The better feature receives smaller, infinitesimal weights\n",
    "# SOLUTION: [2.65498319e-07 1.87896446e-03]\n",
    "# SOLUTION: [8.83238623e-03 8.84212063e-07] -> look! The better feature receives smaller, infinitesimal weights\n",
    "\n",
    "# Question 1: Why a_2 < a_1 in these two cases? -> think\n",
    "# Question 2: What can we say in general about the results of this QPFS optimization for the dataset?"
   ]
  },
  {
   "cell_type": "code",
   "execution_count": 52,
   "metadata": {},
   "outputs": [],
   "source": [
    "a_values = np.array(a_list)"
   ]
  },
  {
   "cell_type": "code",
   "execution_count": 58,
   "metadata": {},
   "outputs": [],
   "source": [
    "?plt.legend"
   ]
  },
  {
   "cell_type": "code",
   "execution_count": 67,
   "metadata": {},
   "outputs": [
    {
     "data": {
      "image/png": "[encoded data removed]",
      "text/plain": [
       "<Figure size 864x360 with 1 Axes>"
      ]
     },
     "metadata": {
      "needs_background": "light"
     },
     "output_type": "display_data"
    }
   ],
   "source": [
    "plt.figure(figsize=(12, 5))\n",
    "\n",
    "plt.scatter(np.arange(num_attempts), np.log(a_values[:, 0]), color='red', \n",
    "            linewidths=0, label='$ln(a_1)$')\n",
    "    \n",
    "plt.scatter(np.arange(num_attempts), np.log(a_values[:, 1]), color='blue', \n",
    "            linewidths=0, label='$ln(a_2)$')\n",
    "    \n",
    "plt.title(r'Значения логарифмов коэффициентов вектора $a^*$')\n",
    "plt.xlabel('Номер эксперимента')\n",
    "plt.ylabel('Значение логарифма коэффициента')\n",
    "plt.legend(loc='best', fontsize=14)\n",
    "plt.show()"
   ]
  },
  {
   "cell_type": "code",
   "execution_count": null,
   "metadata": {},
   "outputs": [],
   "source": []
  }
 ],
 "metadata": {
  "kernelspec": {
   "display_name": "Python 3",
   "language": "python",
   "name": "python3"
  },
  "language_info": {
   "codemirror_mode": {
    "name": "ipython",
    "version": 3
   },
   "file_extension": ".py",
   "mimetype": "text/x-python",
   "name": "python",
   "nbconvert_exporter": "python",
   "pygments_lexer": "ipython3",
   "version": "3.7.6"
  }
 },
 "nbformat": 4,
 "nbformat_minor": 2
}
