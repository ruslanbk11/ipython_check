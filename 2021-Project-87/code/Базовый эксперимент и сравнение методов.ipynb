{
 "cells": [
  {
   "cell_type": "code",
   "execution_count": 1,
   "metadata": {},
   "outputs": [],
   "source": [
    "import numpy as np\n",
    "import pandas as pd\n",
    "import scipy.stats as sps\n",
    "import cvxpy\n",
    "import matplotlib.pyplot as plt\n",
    "\n",
    "from scipy.stats import norm\n",
    "\n",
    "from sklearn.model_selection import train_test_split\n",
    "from sklearn.preprocessing import StandardScaler\n",
    "from sklearn.linear_model import Ridge, Lasso, ElasticNet, LinearRegression\n",
    "from sklearn.model_selection import KFold\n",
    "from sklearn.pipeline import make_pipeline\n",
    "from sklearn.model_selection import cross_val_score\n",
    "from sklearn.linear_model import LinearRegression\n",
    "from sklearn.pipeline import Pipeline\n",
    "from sklearn.metrics import mean_squared_error\n",
    "from collections import Counter\n",
    "\n",
    "from statsmodels.stats.outliers_influence import variance_inflation_factor"
   ]
  },
  {
   "cell_type": "markdown",
   "metadata": {},
   "source": [
    "Напишем функции для подсчета коэффициента корреляции Пирсона и генерации матриц Sim и Rel."
   ]
  },
  {
   "cell_type": "code",
   "execution_count": 2,
   "metadata": {},
   "outputs": [],
   "source": [
    "def get_sim(X):\n",
    "    return np.abs(np.corrcoef(X.T))\n",
    "\n",
    "def get_rel(X, y):\n",
    "    return np.abs(np.corrcoef(X.T, y)[:-1, -1])"
   ]
  },
  {
   "cell_type": "markdown",
   "metadata": {},
   "source": [
    "Напишем функции для генерации данных."
   ]
  },
  {
   "cell_type": "code",
   "execution_count": 8,
   "metadata": {},
   "outputs": [],
   "source": [
    "def generate_first_data(size, eps, loc=0, scale=1):\n",
    "    # генерируем y и x1 из стандартного нормального распределения\n",
    "    \n",
    "    # y - целевая переменная\n",
    "    y = sps.norm(loc=loc, scale=scale).rvs(size=size)\n",
    "    \n",
    "    # x1 - первый признак\n",
    "    x1 = sps.norm(loc=loc, scale=scale).rvs(size=size)\n",
    "\n",
    "    # x2 - второй признак\n",
    "    x2 = x1 + eps * y\n",
    "    X = np.array([x1, x2]).T\n",
    "    return X, y"
   ]
  },
  {
   "cell_type": "code",
   "execution_count": 9,
   "metadata": {},
   "outputs": [],
   "source": [
    "def generate_noise_features(sample_size, n_features, loc=0, scale=1):\n",
    "    X_noise = sps.norm(loc=loc, scale=scale).rvs(size=(sample_size, n_features))\n",
    "    return X_noise"
   ]
  },
  {
   "cell_type": "markdown",
   "metadata": {},
   "source": [
    "Напишем функцию для решения задачи квадратичного программирования."
   ]
  },
  {
   "cell_type": "code",
   "execution_count": 10,
   "metadata": {},
   "outputs": [],
   "source": [
    "def solve_qpfs_original(b, Q, alpha=0.5):\n",
    "    beta = alpha / (1. - alpha + 1e-10) \n",
    "    # 1e-10 to ensure it is finite.\n",
    "    # No practical change is expected\n",
    "    a = cvxpy.Variable(Q.shape[1])\n",
    "\n",
    "    problem = cvxpy.Problem(cvxpy.Maximize(b.T @ a - cvxpy.quad_form(a, 0.5 * Q)), [a >= 0, cvxpy.sum(a) == beta])\n",
    "    problem.solve(solver='ECOS')\n",
    "\n",
    "    return a.value"
   ]
  },
  {
   "cell_type": "markdown",
   "metadata": {},
   "source": []
  },
  {
   "cell_type": "code",
   "execution_count": 11,
   "metadata": {},
   "outputs": [],
   "source": [
    "def get_all_first_data(sample_size, noise_features, eps):\n",
    "    X_main, y = generate_first_data(sample_size, eps)\n",
    "    \n",
    "    if noise_features > 0:\n",
    "        X_noise = generate_noise_features(sample_size, noise_features)\n",
    "        # соберем итоговую матрицу признаков, добавив шумовые признаки\n",
    "        X = np.hstack((X_main, X_noise))\n",
    "    else:\n",
    "        # соберем итоговую матрицу признаков\n",
    "        X = X_main\n",
    "        \n",
    "    return X, y"
   ]
  },
  {
   "cell_type": "markdown",
   "metadata": {},
   "source": [
    "Напишем функцию для подсчета индекса мультиколлинеарности."
   ]
  },
  {
   "cell_type": "code",
   "execution_count": 18,
   "metadata": {},
   "outputs": [],
   "source": [
    "def get_VIF(X):\n",
    "    # возвращаем максимальный из VIF по признакам в датасете\n",
    "    return np.array([variance_inflation_factor(X, i) for i in range(X.shape[1])]).max()"
   ]
  },
  {
   "cell_type": "markdown",
   "metadata": {},
   "source": [
    "Решим задачу оптимизации методом QPFS для отбора признаков.\n",
    "\n",
    "\\begin{cases}\n",
    "a^* = \\arg \\min_{a \\in [0, 1]^n}  \\frac{1}{2}a^T Q a - b^T a \\\\\n",
    "\\|a\\|_1 \\le 1, a \\ge 0\n",
    "\\end{cases}"
   ]
  },
  {
   "cell_type": "code",
   "execution_count": 12,
   "metadata": {},
   "outputs": [],
   "source": [
    "def get_qpfs_experiment(X, y):\n",
    "    \n",
    "    # получим матрицы Rel и Q\n",
    "    b = get_rel(X, y)\n",
    "    Q = get_sim(X)\n",
    "    \n",
    "    # QBFS-метод\n",
    "    a = solve_qpfs_original(b, Q)\n",
    "    \n",
    "    return a"
   ]
  },
  {
   "cell_type": "markdown",
   "metadata": {},
   "source": [
    "Напишем функции для эксперимента с Ridge-регрессией и Lasso-регрессией."
   ]
  },
  {
   "cell_type": "code",
   "execution_count": 13,
   "metadata": {},
   "outputs": [],
   "source": [
    "def get_ridge(X_train, y_train, X_test, y_test, alpha):\n",
    "    scaler = StandardScaler()\n",
    "\n",
    "    # обучим этот класс на обучающей выборке\n",
    "    scaler.fit(X_train)\n",
    "\n",
    "    # применим стандартизацию к обучающей и тестовой выборкам\n",
    "    X_train_stand = scaler.transform(X_train)\n",
    "    X_test_stand = scaler.transform(X_test)\n",
    "    \n",
    "    model = Ridge(alpha=alpha)\n",
    "\n",
    "    model.fit(X_train_stand, y_train)\n",
    "    \n",
    "    ridge_mse = mean_squared_error(model.predict(X_test_stand), y_test)\n",
    "    \n",
    "    # количество шумовых признаков в случае ridge-регрессии считаем как\n",
    "    # количество признаков,коэффициенты при которых не очень близки к нулю\n",
    "    curr_noise = (model.coef_ >= 0.000001).sum()\n",
    "    \n",
    "    ridge_VIF = get_VIF(X_train)\n",
    "    \n",
    "    return ridge_VIF, curr_noise, ridge_mse\n",
    "    "
   ]
  },
  {
   "cell_type": "code",
   "execution_count": 14,
   "metadata": {},
   "outputs": [],
   "source": [
    "def get_lasso(X_train, y_train, X_test, y_test, alpha):\n",
    "    \n",
    "    # стандартизируем признаки\n",
    "    scaler = StandardScaler()\n",
    "\n",
    "    # обучим этот класс на обучающей выборке\n",
    "    scaler.fit(X_train)\n",
    "\n",
    "    # применим стандартизацию к обучающей и тестовой выборкам\n",
    "    X_train_stand = scaler.transform(X_train)\n",
    "    X_test_stand = scaler.transform(X_test)\n",
    "    \n",
    "    model = Lasso(alpha=alpha)\n",
    "\n",
    "    model.fit(X_train_stand, y_train)\n",
    "    \n",
    "    lasso_mse = mean_squared_error(model.predict(X_test_stand), y_test)\n",
    "    \n",
    "    lasso_VIF = get_VIF(X_train[:, model.coef_ != 0])\n",
    "    \n",
    "    curr_noise = (model.coef_[2:] != 0).sum()\n",
    "    \n",
    "    return lasso_VIF, curr_noise, lasso_mse"
   ]
  },
  {
   "cell_type": "markdown",
   "metadata": {},
   "source": [
    "Также сделаем функции для qpfs-метода с разными порогами."
   ]
  },
  {
   "cell_type": "code",
   "execution_count": 16,
   "metadata": {},
   "outputs": [],
   "source": [
    "def get_qpfs_2_features(X_train, y_train, X_test, y_test):\n",
    "    \n",
    "    # qpfs (отбираем оба главных признака)\n",
    "    best_a = get_qpfs_experiment(X_train, y_train)\n",
    "    \n",
    "    # устанавливаем порог tau как наименьшее значение среди best_a[0] и best_a[1], \n",
    "    # чтобы отобрать два признака и смотрим сколько шумовых признаков еще отобрали\n",
    "    threshold = best_a[:2].min()\n",
    "    \n",
    "    # оставляем только отобранные признаки\n",
    "    qpfs_X_train = X_train[:, best_a >= threshold]\n",
    "    \n",
    "    # cмотрим, сколько шумовых признаков отобрано\n",
    "    curr_noise = qpfs_X_train.shape[1] - 2  # вычитаем 2, т.к. два основных признака точно отобрали\n",
    "    \n",
    "    # делаем обычную линейную регрессию\n",
    "    model = LinearRegression()\n",
    "    model.fit(qpfs_X_train, y_train)\n",
    "    \n",
    "    \n",
    "    qpfs_mse = mean_squared_error(model.predict(X_test[:, best_a >= threshold]), y_test)\n",
    "    \n",
    "    qpfs_VIF = get_VIF(qpfs_X_train)\n",
    "    \n",
    "    return qpfs_VIF, curr_noise, qpfs_mse"
   ]
  },
  {
   "cell_type": "code",
   "execution_count": 17,
   "metadata": {},
   "outputs": [],
   "source": [
    "def get_qpfs_some_features(X_train, y_train, X_test, y_test, threshold=0.00001):\n",
    "    \n",
    "    # qpfs (отбираем один главный признак)\n",
    "    best_a = get_qpfs_experiment(X_train, y_train)\n",
    "    \n",
    "    # оставляем только отобранные признаки (cравниваем с переданным порогом threshold)\n",
    "    qpfs_X_train = X_train[:, best_a >= threshold]\n",
    "    \n",
    "    # cмотрим, сколько шумовых признаков отобрано\n",
    "    curr_noise = qpfs_X_train.shape[1] - (best_a[:2] >= threshold).sum()\n",
    "    # берем только один основной признак\n",
    "    \n",
    "    # делаем обычную линейную регрессию\n",
    "    model = LinearRegression()\n",
    "    model.fit(qpfs_X_train, y_train)\n",
    "    \n",
    "    qpfs_mse = mean_squared_error(model.predict(X_test[:, best_a >= threshold]), y_test)\n",
    "    \n",
    "    qpfs_VIF = get_VIF(qpfs_X_train)\n",
    "    \n",
    "    return qpfs_VIF, curr_noise, qpfs_mse"
   ]
  },
  {
   "cell_type": "markdown",
   "metadata": {},
   "source": [
    "Напишем общую функцию для запуска эксперимента."
   ]
  },
  {
   "cell_type": "code",
   "execution_count": 31,
   "metadata": {},
   "outputs": [],
   "source": [
    "def get_first_experiment(train_sample_size, noise_features, eps, test_size, alpha=0.01, threshold=0.00001):\n",
    "    # сгенерируем данные для обучения\n",
    "    X_train, y_train = get_all_first_data(train_sample_size, noise_features, eps)\n",
    "    \n",
    "    # сгенерируем данные для теста\n",
    "    X_test, y_test = get_all_first_data(test_size, noise_features, eps)\n",
    "    \n",
    "    qpfs_2_features = np.array(get_qpfs_2_features(X_train, y_train, \n",
    "                                                   X_test, y_test))\n",
    "    \n",
    "    qpfs_some_features = np.array(get_qpfs_some_features(X_train, y_train, \n",
    "                                                         X_test, y_test, threshold))\n",
    "    \n",
    "    ridge_res = np.array(get_ridge(X_train, y_train, X_test, y_test, alpha))\n",
    "    \n",
    "    lasso_res = np.array(get_lasso(X_train, y_train, X_test, y_test, alpha))\n",
    "    \n",
    "    res = np.vstack((qpfs_2_features, qpfs_some_features, ridge_res, lasso_res))\n",
    "    \n",
    "    \n",
    "    return res"
   ]
  },
  {
   "cell_type": "code",
   "execution_count": 32,
   "metadata": {},
   "outputs": [],
   "source": [
    "def show_results(res_matrix):\n",
    "    return pd.DataFrame(res_matrix,\n",
    "                        index=['QPFS (с отбором двух главных признаков)', 'QPFS c фикс. порогом', \n",
    "                               'Ridge', 'Lasso'], \n",
    "                        columns=['VIF', 'Количество шумовых признаков', \n",
    "                                 'MSE на тестовой выборке'])"
   ]
  },
  {
   "cell_type": "markdown",
   "metadata": {},
   "source": [
    "### Данные для эксперимента"
   ]
  },
  {
   "cell_type": "code",
   "execution_count": 22,
   "metadata": {},
   "outputs": [],
   "source": [
    "train_sample_size = 1000\n",
    "noise_features = 10\n",
    "eps = 0.001\n",
    "\n",
    "# коэф-т регуляризации для Ridge и Lasso\n",
    "alpha = 0.01\n",
    "\n",
    "test_size = 100"
   ]
  },
  {
   "cell_type": "code",
   "execution_count": 34,
   "metadata": {},
   "outputs": [
    {
     "data": {
      "text/html": [
       "<div>\n",
       "<style scoped>\n",
       "    .dataframe tbody tr th:only-of-type {\n",
       "        vertical-align: middle;\n",
       "    }\n",
       "\n",
       "    .dataframe tbody tr th {\n",
       "        vertical-align: top;\n",
       "    }\n",
       "\n",
       "    .dataframe thead th {\n",
       "        text-align: right;\n",
       "    }\n",
       "</style>\n",
       "<table border=\"1\" class=\"dataframe\">\n",
       "  <thead>\n",
       "    <tr style=\"text-align: right;\">\n",
       "      <th></th>\n",
       "      <th>VIF</th>\n",
       "      <th>Количество шумовых признаков</th>\n",
       "      <th>MSE на тестовой выборке</th>\n",
       "    </tr>\n",
       "  </thead>\n",
       "  <tbody>\n",
       "    <tr>\n",
       "      <th>QPFS (с отбором двух главных признаков)</th>\n",
       "      <td>1.064966e+06</td>\n",
       "      <td>8.0</td>\n",
       "      <td>1.570173e-25</td>\n",
       "    </tr>\n",
       "    <tr>\n",
       "      <th>QPFS c фикс. порогом</th>\n",
       "      <td>1.003991e+00</td>\n",
       "      <td>8.0</td>\n",
       "      <td>1.241498e+00</td>\n",
       "    </tr>\n",
       "    <tr>\n",
       "      <th>Ridge</th>\n",
       "      <td>1.065099e+06</td>\n",
       "      <td>7.0</td>\n",
       "      <td>1.136862e+00</td>\n",
       "    </tr>\n",
       "    <tr>\n",
       "      <th>Lasso</th>\n",
       "      <td>1.003991e+00</td>\n",
       "      <td>8.0</td>\n",
       "      <td>1.235759e+00</td>\n",
       "    </tr>\n",
       "  </tbody>\n",
       "</table>\n",
       "</div>"
      ],
      "text/plain": [
       "                                                  VIF  \\\n",
       "QPFS (с отбором двух главных признаков)  1.064966e+06   \n",
       "QPFS c фикс. порогом                     1.003991e+00   \n",
       "Ridge                                    1.065099e+06   \n",
       "Lasso                                    1.003991e+00   \n",
       "\n",
       "                                         Количество шумовых признаков  \\\n",
       "QPFS (с отбором двух главных признаков)                           8.0   \n",
       "QPFS c фикс. порогом                                              8.0   \n",
       "Ridge                                                             7.0   \n",
       "Lasso                                                             8.0   \n",
       "\n",
       "                                         MSE на тестовой выборке  \n",
       "QPFS (с отбором двух главных признаков)             1.570173e-25  \n",
       "QPFS c фикс. порогом                                1.241498e+00  \n",
       "Ridge                                               1.136862e+00  \n",
       "Lasso                                               1.235759e+00  "
      ]
     },
     "execution_count": 34,
     "metadata": {},
     "output_type": "execute_result"
    }
   ],
   "source": [
    "# проведем один эксперимент\n",
    "show_results(get_first_experiment(train_sample_size, noise_features, eps, test_size))"
   ]
  },
  {
   "cell_type": "markdown",
   "metadata": {},
   "source": [
    "А теперь сделаем несколько экспериментов и усредним результаты."
   ]
  },
  {
   "cell_type": "code",
   "execution_count": 37,
   "metadata": {},
   "outputs": [],
   "source": [
    "num_attempts = 100"
   ]
  },
  {
   "cell_type": "code",
   "execution_count": 39,
   "metadata": {},
   "outputs": [],
   "source": [
    "# усредним результаты\n",
    "mean_results = np.array([get_first_experiment(train_sample_size, \n",
    "                                              noise_features, eps, test_size) \n",
    "                         for i in range(num_attempts)]).mean(axis=0)"
   ]
  },
  {
   "cell_type": "code",
   "execution_count": 19,
   "metadata": {
    "scrolled": true
   },
   "outputs": [
    {
     "data": {
      "text/html": [
       "<div>\n",
       "<style scoped>\n",
       "    .dataframe tbody tr th:only-of-type {\n",
       "        vertical-align: middle;\n",
       "    }\n",
       "\n",
       "    .dataframe tbody tr th {\n",
       "        vertical-align: top;\n",
       "    }\n",
       "\n",
       "    .dataframe thead th {\n",
       "        text-align: right;\n",
       "    }\n",
       "</style>\n",
       "<table border=\"1\" class=\"dataframe\">\n",
       "  <thead>\n",
       "    <tr style=\"text-align: right;\">\n",
       "      <th></th>\n",
       "      <th>VIF</th>\n",
       "      <th>Количество шумовых признаков</th>\n",
       "      <th>MSE на тестовой выборке</th>\n",
       "    </tr>\n",
       "  </thead>\n",
       "  <tbody>\n",
       "    <tr>\n",
       "      <th>QPFS (с отбором двух главных признаков)</th>\n",
       "      <td>1.023882e+06</td>\n",
       "      <td>8.96</td>\n",
       "      <td>1.170779e-23</td>\n",
       "    </tr>\n",
       "    <tr>\n",
       "      <th>QPFS c фикс. порогом</th>\n",
       "      <td>1.014672e+00</td>\n",
       "      <td>8.74</td>\n",
       "      <td>1.045660e+00</td>\n",
       "    </tr>\n",
       "    <tr>\n",
       "      <th>Ridge</th>\n",
       "      <td>1.023911e+06</td>\n",
       "      <td>5.90</td>\n",
       "      <td>9.505797e-01</td>\n",
       "    </tr>\n",
       "    <tr>\n",
       "      <th>Lasso</th>\n",
       "      <td>1.012684e+00</td>\n",
       "      <td>7.55</td>\n",
       "      <td>1.040215e+00</td>\n",
       "    </tr>\n",
       "  </tbody>\n",
       "</table>\n",
       "</div>"
      ],
      "text/plain": [
       "                                                  VIF  \\\n",
       "QPFS (с отбором двух главных признаков)  1.023882e+06   \n",
       "QPFS c фикс. порогом                     1.014672e+00   \n",
       "Ridge                                    1.023911e+06   \n",
       "Lasso                                    1.012684e+00   \n",
       "\n",
       "                                         Количество шумовых признаков  \\\n",
       "QPFS (с отбором двух главных признаков)                          8.96   \n",
       "QPFS c фикс. порогом                                             8.74   \n",
       "Ridge                                                            5.90   \n",
       "Lasso                                                            7.55   \n",
       "\n",
       "                                         MSE на тестовой выборке  \n",
       "QPFS (с отбором двух главных признаков)             1.170779e-23  \n",
       "QPFS c фикс. порогом                                1.045660e+00  \n",
       "Ridge                                               9.505797e-01  \n",
       "Lasso                                               1.040215e+00  "
      ]
     },
     "execution_count": 19,
     "metadata": {},
     "output_type": "execute_result"
    }
   ],
   "source": [
    "# выведем усредненные значения\n",
    "show_results(mean_results)"
   ]
  },
  {
   "cell_type": "code",
   "execution_count": 40,
   "metadata": {},
   "outputs": [
    {
     "data": {
      "text/plain": [
       "2.0"
      ]
     },
     "execution_count": 40,
     "metadata": {},
     "output_type": "execute_result"
    }
   ],
   "source": [
    "np.log10(100)"
   ]
  },
  {
   "cell_type": "markdown",
   "metadata": {},
   "source": [
    "Подбор параметра $\\tau$."
   ]
  },
  {
   "cell_type": "code",
   "execution_count": 42,
   "metadata": {},
   "outputs": [],
   "source": [
    "def set_threshold(train_sample_size, noise_features, eps, test_size, alpha=0.01,\n",
    "                  threshold_values = np.logspace(-10, 0, 1000)):\n",
    "    \n",
    "    # сгенерируем данные для обучения\n",
    "    X_train, y_train = get_all_first_data(train_sample_size, noise_features, eps)\n",
    "    \n",
    "    curr_a = get_qpfs_experiment(X_train, y_train)\n",
    "    \n",
    "    # будем сохранять количество отобранных шумовых признаков \n",
    "    # и отобранных главных признаков\n",
    "    res_noise_cnt = []\n",
    "    res_main_cnt = []\n",
    "    \n",
    "    for threshold in threshold_values:\n",
    "        curr_noise_cnt = (curr_a[2:] >= threshold).sum()\n",
    "        curr_main_cnt = (curr_a[:2] >= threshold).sum()\n",
    "        \n",
    "        res_noise_cnt.append(curr_noise_cnt)\n",
    "        res_main_cnt.append(curr_main_cnt)\n",
    "    \n",
    "    \n",
    "    res_noise_cnt = np.array(res_noise_cnt)\n",
    "    res_main_cnt = np.array(res_main_cnt)\n",
    "    \n",
    "    plt.figure(figsize=(12, 5))\n",
    "    plt.plot(np.log10(threshold_values), res_noise_cnt, label='шумовые признаки')\n",
    "    plt.plot(np.log10(threshold_values), res_main_cnt, label='основные признаки')\n",
    "    \n",
    "    plt.title(f'Количество отобранных признаков (N = {noise_features})')\n",
    "    plt.ylabel('Количество отобранных признаков', fontsize=12)\n",
    "    plt.xlabel(r'ln($\\tau$)', fontsize=12)\n",
    "    plt.legend(loc='best', fontsize=14)\n",
    "    \n",
    "   \n",
    "    pass"
   ]
  },
  {
   "cell_type": "code",
   "execution_count": 45,
   "metadata": {
    "scrolled": true
   },
   "outputs": [
    {
     "data": {
      "image/png": "[encoded data removed]",
      "text/plain": [
       "<Figure size 864x360 with 1 Axes>"
      ]
     },
     "metadata": {
      "needs_background": "light"
     },
     "output_type": "display_data"
    }
   ],
   "source": [
    "set_threshold(train_sample_size, 10, eps, test_size)"
   ]
  },
  {
   "cell_type": "markdown",
   "metadata": {},
   "source": [
    "Сравним на данном датасете QPFS и Lasso."
   ]
  },
  {
   "cell_type": "code",
   "execution_count": null,
   "metadata": {},
   "outputs": [],
   "source": []
  },
  {
   "cell_type": "code",
   "execution_count": null,
   "metadata": {},
   "outputs": [],
   "source": []
  },
  {
   "cell_type": "code",
   "execution_count": null,
   "metadata": {},
   "outputs": [],
   "source": []
  },
  {
   "cell_type": "code",
   "execution_count": 47,
   "metadata": {},
   "outputs": [],
   "source": [
    "def get_hist(train_sample_size, noise_features, eps, test_size, alpha=0.01,\n",
    "                  threshold_values = np.logspace(-11, -1, 100)):\n",
    "    \n",
    "    res = []\n",
    "    for i in range(100):\n",
    "        X_train, y_train = get_all_first_data(train_sample_size, noise_features, eps)\n",
    "        # сгенерируем данные для теста\n",
    "        X_test, y_test = get_all_first_data(test_size, noise_features, eps)\n",
    "\n",
    "\n",
    "        best_a = get_qpfs_experiment(X_train, y_train)\n",
    "\n",
    "        # устанавливаем порог tau как наименьшее значение среди best_a[0] и best_a[1], \n",
    "        # чтобы отобрать два признака и смотрим сколько шумовых признаков еще отобрали\n",
    "        threshold = best_a[:2].min()\n",
    "\n",
    "        # оставляем только отобранные признаки\n",
    "        qpfs_X_train = X_train[:, best_a >= threshold]\n",
    "\n",
    "        # cмотрим, сколько шумовых признаков отобрано\n",
    "        curr_noise = qpfs_X_train.shape[1] - 2  # вычитаем 2, т.к. два основных признака точно отобрали\n",
    "\n",
    "        res.append(curr_noise)\n",
    "        \n",
    "    return res\n",
    "        \n",
    "    pass"
   ]
  },
  {
   "cell_type": "code",
   "execution_count": 48,
   "metadata": {},
   "outputs": [],
   "source": [
    "res = get_hist(train_sample_size, noise_features, eps, test_size)"
   ]
  },
  {
   "cell_type": "code",
   "execution_count": 121,
   "metadata": {},
   "outputs": [
    {
     "data": {
      "text/plain": [
       "[10, 9, 8, 7]"
      ]
     },
     "execution_count": 121,
     "metadata": {},
     "output_type": "execute_result"
    }
   ],
   "source": [
    "list(Counter(res).keys())"
   ]
  },
  {
   "cell_type": "code",
   "execution_count": 49,
   "metadata": {},
   "outputs": [
    {
     "name": "stderr",
     "output_type": "stream",
     "text": [
      "No handles with labels found to put in legend.\n"
     ]
    },
    {
     "data": {
      "image/png": "[encoded data removed]",
      "text/plain": [
       "<Figure size 864x360 with 1 Axes>"
      ]
     },
     "metadata": {
      "needs_background": "light"
     },
     "output_type": "display_data"
    }
   ],
   "source": [
    "plt.figure(figsize=(12, 5))\n",
    "\n",
    "plt.bar(list(Counter(res).keys()), Counter(res).values())\n",
    "    \n",
    "plt.title('$')\n",
    "plt.xlabel('Количество отобранных шумовых признаков')\n",
    "#plt.ylabel('колич№')\n",
    "plt.legend(loc='best', fontsize=14)\n",
    "plt.show()"
   ]
  },
  {
   "cell_type": "code",
   "execution_count": null,
   "metadata": {},
   "outputs": [],
   "source": []
  },
  {
   "cell_type": "markdown",
   "metadata": {},
   "source": [
    "**Второй эксперимент**\n",
    "\n",
    "$x_1 = y + \\varepsilon_1$, $\\varepsilon_1 \\sim N(0, s_1^2)$\n",
    "\n",
    "$x_2 = y + \\varepsilon_2$, $\\varepsilon_2 \\sim N(0, s_2^2)$"
   ]
  },
  {
   "cell_type": "code",
   "execution_count": 168,
   "metadata": {},
   "outputs": [],
   "source": [
    "def generate_second_data(size, s1=0.5, s2=1, loc=0, scale=1):\n",
    "    # y - целевая переменная из норм. распределения\n",
    "    y = sps.norm(loc=loc, scale=scale).rvs(size=size)\n",
    "    \n",
    "    # x1 - первый признак (добавляем норм. шум с дисперсией s2^2)\n",
    "    x1 = y + sps.norm(loc=0, scale=s1).rvs(size=size)\n",
    "\n",
    "    # x2 - второй признак (добавляем норм. шум с дисперсией s2^2)\n",
    "    x2 = y + sps.norm(loc=0, scale=s2).rvs(size=size)\n",
    "    \n",
    "    X = np.array([x1, x2]).T\n",
    "    return X, y"
   ]
  },
  {
   "cell_type": "code",
   "execution_count": 169,
   "metadata": {},
   "outputs": [],
   "source": [
    "def get_all_second_data(sample_size, noise_features, s1=0.5, s2=1):\n",
    "    X_main, y = generate_second_data(sample_size, s1=s1, s2=s2)\n",
    "    \n",
    "    if noise_features > 0:\n",
    "        X_noise = generate_noise_features(sample_size, noise_features)\n",
    "        # соберем итоговую матрицу признаков, добавив шумовые признаки\n",
    "        X = np.hstack((X_main, X_noise))\n",
    "    else:\n",
    "        # соберем итоговую матрицу признаков\n",
    "        X = X_main\n",
    "        \n",
    "    return X, y"
   ]
  },
  {
   "cell_type": "code",
   "execution_count": 177,
   "metadata": {},
   "outputs": [],
   "source": [
    "def get_second_experiment(train_sample_size, noise_features, test_size, alpha=0.01, \n",
    "                          threshold=0.00001, s1=0.5, s2=1):\n",
    "    # сгенерируем данные для обучения\n",
    "    X_train, y_train = get_all_second_data(train_sample_size, noise_features, \n",
    "                                           s1=s1, s2=s2)\n",
    "    \n",
    "    # сгенерируем данные для теста\n",
    "    X_test, y_test = get_all_second_data(test_size, noise_features,\n",
    "                                         s1=s1, s2=s2)\n",
    "    \n",
    "    qpfs_2_features = np.array(get_qpfs_2_features(X_train, y_train, \n",
    "                                                   X_test, y_test))\n",
    "    \n",
    "    qpfs_some_features = np.array(get_qpfs_some_features(X_train, y_train, \n",
    "                                                         X_test, y_test, threshold))\n",
    "    \n",
    "    ridge_res = np.array(get_ridge(X_train, y_train, X_test, y_test, alpha))\n",
    "    \n",
    "    lasso_res = np.array(get_lasso(X_train, y_train, X_test, y_test, alpha))\n",
    "    \n",
    "    res = np.vstack((qpfs_2_features, qpfs_some_features, ridge_res, lasso_res))\n",
    "    \n",
    "    \n",
    "    return res"
   ]
  },
  {
   "cell_type": "code",
   "execution_count": null,
   "metadata": {},
   "outputs": [],
   "source": []
  },
  {
   "cell_type": "code",
   "execution_count": null,
   "metadata": {},
   "outputs": [],
   "source": []
  },
  {
   "cell_type": "code",
   "execution_count": 178,
   "metadata": {},
   "outputs": [],
   "source": [
    "train_sample_size = 1000\n",
    "noise_features = 10\n",
    "\n",
    "\n",
    "# коэф-т регуляризации для Ridge и Lasso\n",
    "alpha = 0.01\n",
    "\n",
    "test_size = 100"
   ]
  },
  {
   "cell_type": "code",
   "execution_count": 179,
   "metadata": {},
   "outputs": [],
   "source": [
    "s2=1\n",
    "\n",
    "s1_values = np.linspace(0, 2, 21)\n",
    "\n",
    "first_prob = []\n",
    "second_prob = []\n",
    "\n",
    "for s1 in s1_values:\n",
    "    X_train, y_train = get_all_second_data(train_sample_size, noise_features, \n",
    "                                           s1=s1, s2=s2)\n",
    "\n",
    "    res = []\n",
    "\n",
    "    for i in range(10):\n",
    "        X_train, y_train = get_all_second_data(train_sample_size, noise_features, \n",
    "                                               s1=s1, s2=s2)\n",
    "        res.append(get_qpfs_experiment(X_train, y_train))\n",
    "    res = np.array(res).mean(axis=0)\n",
    "    \n",
    "    first_prob.append(res[0])\n",
    "    second_prob.append(res[1])"
   ]
  },
  {
   "cell_type": "code",
   "execution_count": 180,
   "metadata": {},
   "outputs": [
    {
     "data": {
      "image/png": "[encoded data removed]",
      "text/plain": [
       "<Figure size 576x360 with 1 Axes>"
      ]
     },
     "metadata": {
      "needs_background": "light"
     },
     "output_type": "display_data"
    }
   ],
   "source": [
    "plt.figure(figsize=(8, 5))\n",
    "plt.plot(s1_values, first_prob, label='1 признак (соотв. s1)')\n",
    "plt.plot(s1_values, second_prob, label='2 признак (соотв. s2)')\n",
    " \n",
    "plt.title('вероятности выбора главных признаков при s2 = 1')\n",
    "plt.ylabel('вероятность выбора признака', fontsize=12)\n",
    "plt.xlabel(r'значение s1', fontsize=12)\n",
    "plt.legend(loc='best', fontsize=14)\n",
    "plt.show()"
   ]
  },
  {
   "cell_type": "markdown",
   "metadata": {},
   "source": [
    "Видим, что чем с большей вероятностью отбирается признак с меньшей дисперсией шума."
   ]
  },
  {
   "cell_type": "markdown",
   "metadata": {},
   "source": [
    "Проведем эксперимент по сравнению методов как в первом случае."
   ]
  },
  {
   "cell_type": "code",
   "execution_count": 182,
   "metadata": {
    "scrolled": true
   },
   "outputs": [
    {
     "data": {
      "text/html": [
       "<div>\n",
       "<style scoped>\n",
       "    .dataframe tbody tr th:only-of-type {\n",
       "        vertical-align: middle;\n",
       "    }\n",
       "\n",
       "    .dataframe tbody tr th {\n",
       "        vertical-align: top;\n",
       "    }\n",
       "\n",
       "    .dataframe thead th {\n",
       "        text-align: right;\n",
       "    }\n",
       "</style>\n",
       "<table border=\"1\" class=\"dataframe\">\n",
       "  <thead>\n",
       "    <tr style=\"text-align: right;\">\n",
       "      <th></th>\n",
       "      <th>VIF</th>\n",
       "      <th>Количество шумовых признаков</th>\n",
       "      <th>MSE на тестовой выборке</th>\n",
       "    </tr>\n",
       "  </thead>\n",
       "  <tbody>\n",
       "    <tr>\n",
       "      <th>QPFS (с отбором двух главных признаков)</th>\n",
       "      <td>1.679330</td>\n",
       "      <td>0.0</td>\n",
       "      <td>0.145547</td>\n",
       "    </tr>\n",
       "    <tr>\n",
       "      <th>QPFS c фикс. порогом</th>\n",
       "      <td>1.682598</td>\n",
       "      <td>4.0</td>\n",
       "      <td>0.148898</td>\n",
       "    </tr>\n",
       "    <tr>\n",
       "      <th>Ridge</th>\n",
       "      <td>1.695668</td>\n",
       "      <td>7.0</td>\n",
       "      <td>0.151388</td>\n",
       "    </tr>\n",
       "    <tr>\n",
       "      <th>Lasso</th>\n",
       "      <td>1.691302</td>\n",
       "      <td>4.0</td>\n",
       "      <td>0.146296</td>\n",
       "    </tr>\n",
       "  </tbody>\n",
       "</table>\n",
       "</div>"
      ],
      "text/plain": [
       "                                              VIF  \\\n",
       "QPFS (с отбором двух главных признаков)  1.679330   \n",
       "QPFS c фикс. порогом                     1.682598   \n",
       "Ridge                                    1.695668   \n",
       "Lasso                                    1.691302   \n",
       "\n",
       "                                         Количество шумовых признаков  \\\n",
       "QPFS (с отбором двух главных признаков)                           0.0   \n",
       "QPFS c фикс. порогом                                              4.0   \n",
       "Ridge                                                             7.0   \n",
       "Lasso                                                             4.0   \n",
       "\n",
       "                                         MSE на тестовой выборке  \n",
       "QPFS (с отбором двух главных признаков)                 0.145547  \n",
       "QPFS c фикс. порогом                                    0.148898  \n",
       "Ridge                                                   0.151388  \n",
       "Lasso                                                   0.146296  "
      ]
     },
     "execution_count": 182,
     "metadata": {},
     "output_type": "execute_result"
    }
   ],
   "source": [
    "# проведем один эксперимент\n",
    "show_results(get_second_experiment(train_sample_size, noise_features, test_size, \n",
    "                                   s1=0.5, s2=1))"
   ]
  },
  {
   "cell_type": "markdown",
   "metadata": {},
   "source": [
    "А теперь сделаем несколько экспериментов и усредним результаты."
   ]
  },
  {
   "cell_type": "code",
   "execution_count": 185,
   "metadata": {},
   "outputs": [],
   "source": [
    "num_attempts = 100"
   ]
  },
  {
   "cell_type": "code",
   "execution_count": 187,
   "metadata": {},
   "outputs": [],
   "source": [
    "# усредним результаты\n",
    "mean_results = np.array([get_second_experiment(train_sample_size, \n",
    "                                               noise_features, test_size,\n",
    "                                               s1=0.5, s2=1) \n",
    "                         for i in range(num_attempts)]).mean(axis=0)"
   ]
  },
  {
   "cell_type": "code",
   "execution_count": 189,
   "metadata": {},
   "outputs": [
    {
     "data": {
      "text/html": [
       "<div>\n",
       "<style scoped>\n",
       "    .dataframe tbody tr th:only-of-type {\n",
       "        vertical-align: middle;\n",
       "    }\n",
       "\n",
       "    .dataframe tbody tr th {\n",
       "        vertical-align: top;\n",
       "    }\n",
       "\n",
       "    .dataframe thead th {\n",
       "        text-align: right;\n",
       "    }\n",
       "</style>\n",
       "<table border=\"1\" class=\"dataframe\">\n",
       "  <thead>\n",
       "    <tr style=\"text-align: right;\">\n",
       "      <th></th>\n",
       "      <th>VIF</th>\n",
       "      <th>Количество шумовых признаков</th>\n",
       "      <th>MSE на тестовой выборке</th>\n",
       "    </tr>\n",
       "  </thead>\n",
       "  <tbody>\n",
       "    <tr>\n",
       "      <th>QPFS (с отбором двух главных признаков)</th>\n",
       "      <td>1.688270</td>\n",
       "      <td>0.00</td>\n",
       "      <td>0.172557</td>\n",
       "    </tr>\n",
       "    <tr>\n",
       "      <th>QPFS c фикс. порогом</th>\n",
       "      <td>1.695303</td>\n",
       "      <td>3.64</td>\n",
       "      <td>0.173370</td>\n",
       "    </tr>\n",
       "    <tr>\n",
       "      <th>Ridge</th>\n",
       "      <td>1.708281</td>\n",
       "      <td>7.20</td>\n",
       "      <td>0.173992</td>\n",
       "    </tr>\n",
       "    <tr>\n",
       "      <th>Lasso</th>\n",
       "      <td>1.697362</td>\n",
       "      <td>4.35</td>\n",
       "      <td>0.172914</td>\n",
       "    </tr>\n",
       "  </tbody>\n",
       "</table>\n",
       "</div>"
      ],
      "text/plain": [
       "                                              VIF  \\\n",
       "QPFS (с отбором двух главных признаков)  1.688270   \n",
       "QPFS c фикс. порогом                     1.695303   \n",
       "Ridge                                    1.708281   \n",
       "Lasso                                    1.697362   \n",
       "\n",
       "                                         Количество шумовых признаков  \\\n",
       "QPFS (с отбором двух главных признаков)                          0.00   \n",
       "QPFS c фикс. порогом                                             3.64   \n",
       "Ridge                                                            7.20   \n",
       "Lasso                                                            4.35   \n",
       "\n",
       "                                         MSE на тестовой выборке  \n",
       "QPFS (с отбором двух главных признаков)                 0.172557  \n",
       "QPFS c фикс. порогом                                    0.173370  \n",
       "Ridge                                                   0.173992  \n",
       "Lasso                                                   0.172914  "
      ]
     },
     "execution_count": 189,
     "metadata": {},
     "output_type": "execute_result"
    }
   ],
   "source": [
    "# выведем усредненные значения\n",
    "show_results(mean_results)"
   ]
  },
  {
   "cell_type": "code",
   "execution_count": 206,
   "metadata": {},
   "outputs": [],
   "source": [
    "def set_threshold_second(train_sample_size, noise_features, test_size, alpha=0.01,\n",
    "                         threshold_values = np.logspace(-11, 0, 100), s1=0.5, s2=1):\n",
    "    \n",
    "    # сгенерируем данные для обучения\n",
    "    X_train, y_train = get_all_second_data(train_sample_size, noise_features, \n",
    "                                           s1=s1, s2=s2)\n",
    "    \n",
    "    curr_a = get_qpfs_experiment(X_train, y_train)\n",
    "    \n",
    "    # будем сохранять количество отобранных шумовых признаков \n",
    "    # и отобранных главных признаков\n",
    "    res_noise_cnt = []\n",
    "    res_main_cnt = []\n",
    "    \n",
    "    for threshold in threshold_values:\n",
    "        curr_noise_cnt = (curr_a[2:] >= threshold).sum()\n",
    "        curr_main_cnt = (curr_a[:2] >= threshold).sum()\n",
    "        \n",
    "        res_noise_cnt.append(curr_noise_cnt)\n",
    "        res_main_cnt.append(curr_main_cnt)\n",
    "    \n",
    "    \n",
    "    res_noise_cnt = np.array(res_noise_cnt)\n",
    "    res_main_cnt = np.array(res_main_cnt)\n",
    "    \n",
    "    plt.figure(figsize=(8, 5))\n",
    "    plt.plot(np.log10(threshold_values), res_noise_cnt, label='шумовые признаки')\n",
    "    plt.plot(np.log10(threshold_values), res_main_cnt, label='основные признаки')\n",
    "    \n",
    "    plt.title('График количества отобранных признаков при s1 = 0.5, s2 = 1')\n",
    "    plt.ylabel('Количество отобранных признаков', fontsize=12)\n",
    "    plt.xlabel(r'$\\log_{10}(\\tau)$', fontsize=12)\n",
    "    plt.legend(loc='best', fontsize=14)\n",
    "    \n",
    "    #plt.\n",
    "    pass"
   ]
  },
  {
   "cell_type": "code",
   "execution_count": 207,
   "metadata": {},
   "outputs": [
    {
     "data": {
      "image/png": "[encoded data removed]",
      "text/plain": [
       "<Figure size 576x360 with 1 Axes>"
      ]
     },
     "metadata": {
      "needs_background": "light"
     },
     "output_type": "display_data"
    }
   ],
   "source": [
    "set_threshold_second(train_sample_size, noise_features, test_size, s1=s1, s2=s2)"
   ]
  },
  {
   "cell_type": "markdown",
   "metadata": {},
   "source": [
    "Видим, что при s1 = 0.5, s2 = 1 два основных признака отбираются даже при маленьких значениях порога $\\tau$."
   ]
  },
  {
   "cell_type": "code",
   "execution_count": null,
   "metadata": {},
   "outputs": [],
   "source": []
  },
  {
   "cell_type": "markdown",
   "metadata": {},
   "source": [
    "А теперь тот же эксперимент, но при s1 = s2."
   ]
  },
  {
   "cell_type": "code",
   "execution_count": 208,
   "metadata": {},
   "outputs": [],
   "source": [
    "# усредним результаты\n",
    "mean_results = np.array([get_second_experiment(train_sample_size, \n",
    "                                               noise_features, test_size,\n",
    "                                               s1=1, s2=1) \n",
    "                         for i in range(num_attempts)]).mean(axis=0)"
   ]
  },
  {
   "cell_type": "code",
   "execution_count": 209,
   "metadata": {},
   "outputs": [
    {
     "data": {
      "text/html": [
       "<div>\n",
       "<style scoped>\n",
       "    .dataframe tbody tr th:only-of-type {\n",
       "        vertical-align: middle;\n",
       "    }\n",
       "\n",
       "    .dataframe tbody tr th {\n",
       "        vertical-align: top;\n",
       "    }\n",
       "\n",
       "    .dataframe thead th {\n",
       "        text-align: right;\n",
       "    }\n",
       "</style>\n",
       "<table border=\"1\" class=\"dataframe\">\n",
       "  <thead>\n",
       "    <tr style=\"text-align: right;\">\n",
       "      <th></th>\n",
       "      <th>VIF</th>\n",
       "      <th>Количество шумовых признаков</th>\n",
       "      <th>MSE на тестовой выборке</th>\n",
       "    </tr>\n",
       "  </thead>\n",
       "  <tbody>\n",
       "    <tr>\n",
       "      <th>QPFS (с отбором двух главных признаков)</th>\n",
       "      <td>1.337562</td>\n",
       "      <td>0.00</td>\n",
       "      <td>0.333534</td>\n",
       "    </tr>\n",
       "    <tr>\n",
       "      <th>QPFS c фикс. порогом</th>\n",
       "      <td>1.345085</td>\n",
       "      <td>4.91</td>\n",
       "      <td>0.335713</td>\n",
       "    </tr>\n",
       "    <tr>\n",
       "      <th>Ridge</th>\n",
       "      <td>1.354506</td>\n",
       "      <td>6.96</td>\n",
       "      <td>0.336928</td>\n",
       "    </tr>\n",
       "    <tr>\n",
       "      <th>Lasso</th>\n",
       "      <td>1.348386</td>\n",
       "      <td>5.93</td>\n",
       "      <td>0.334598</td>\n",
       "    </tr>\n",
       "  </tbody>\n",
       "</table>\n",
       "</div>"
      ],
      "text/plain": [
       "                                              VIF  \\\n",
       "QPFS (с отбором двух главных признаков)  1.337562   \n",
       "QPFS c фикс. порогом                     1.345085   \n",
       "Ridge                                    1.354506   \n",
       "Lasso                                    1.348386   \n",
       "\n",
       "                                         Количество шумовых признаков  \\\n",
       "QPFS (с отбором двух главных признаков)                          0.00   \n",
       "QPFS c фикс. порогом                                             4.91   \n",
       "Ridge                                                            6.96   \n",
       "Lasso                                                            5.93   \n",
       "\n",
       "                                         MSE на тестовой выборке  \n",
       "QPFS (с отбором двух главных признаков)                 0.333534  \n",
       "QPFS c фикс. порогом                                    0.335713  \n",
       "Ridge                                                   0.336928  \n",
       "Lasso                                                   0.334598  "
      ]
     },
     "execution_count": 209,
     "metadata": {},
     "output_type": "execute_result"
    }
   ],
   "source": [
    "# выведем усредненные значения\n",
    "show_results(mean_results)"
   ]
  },
  {
   "cell_type": "markdown",
   "metadata": {},
   "source": [
    "Видим, что на таком датасете мы получили гораздо более близкие значения VIF у разных методов."
   ]
  },
  {
   "cell_type": "code",
   "execution_count": null,
   "metadata": {},
   "outputs": [],
   "source": []
  },
  {
   "cell_type": "code",
   "execution_count": null,
   "metadata": {},
   "outputs": [],
   "source": []
  },
  {
   "cell_type": "markdown",
   "metadata": {},
   "source": [
    "Эксперимент с число обусловленности."
   ]
  },
  {
   "cell_type": "code",
   "execution_count": 65,
   "metadata": {},
   "outputs": [],
   "source": [
    "sample_size = 100\n",
    "nu = 0.3\n",
    "n_features = 10"
   ]
  },
  {
   "cell_type": "markdown",
   "metadata": {},
   "source": [
    "$x_j = y + \\nu * \\varepsilon_j$"
   ]
  },
  {
   "cell_type": "code",
   "execution_count": 99,
   "metadata": {},
   "outputs": [],
   "source": [
    "nu_values = np.logspace(-6, -2, 100)\n",
    "\n",
    "res_values = []\n",
    "\n",
    "for curr_nu in nu_values:\n",
    "    curr_res = []\n",
    "    for i in range(100):\n",
    "        y = sps.norm.rvs(size=sample_size)\n",
    "        Eps = sps.norm.rvs(size=(sample_size, n_features))\n",
    "        X = (curr_nu * Eps.T + y).T\n",
    "        curr_res.append(np.linalg.eigvals(X.T @ X).max() / np.linalg.eigvals(X.T @ X).min())\n",
    "      \n",
    "    # сохраняем полученное усредненное значение\n",
    "    res_values.append(np.mean(curr_res))"
   ]
  },
  {
   "cell_type": "code",
   "execution_count": 108,
   "metadata": {},
   "outputs": [
    {
     "data": {
      "image/png": "[encoded data removed]",
      "text/plain": [
       "<Figure size 576x360 with 1 Axes>"
      ]
     },
     "metadata": {
      "needs_background": "light"
     },
     "output_type": "display_data"
    }
   ],
   "source": [
    "plt.figure(figsize=(8, 5))\n",
    "plt.plot(np.log10(nu_values), res_values)\n",
    "plt.title(r'Зависимость стабильности модели от параметра $\\nu$', fontsize=14)\n",
    "plt.ylabel('Стабильность модели', fontsize=12)\n",
    "plt.xlabel(r'$\\log_{10}(\\nu)$', fontsize=12)\n",
    "plt.show()"
   ]
  },
  {
   "cell_type": "code",
   "execution_count": 63,
   "metadata": {},
   "outputs": [
    {
     "data": {
      "text/plain": [
       "7.908484187055527"
      ]
     },
     "execution_count": 63,
     "metadata": {},
     "output_type": "execute_result"
    }
   ],
   "source": [
    "np.linalg.eigvals(X.T @ X).max() / np.linalg.eigvals(X.T @ X).min()"
   ]
  }
 ],
 "metadata": {
  "kernelspec": {
   "display_name": "Python [conda env:mipt-stats] *",
   "language": "python",
   "name": "conda-env-mipt-stats-py"
  },
  "language_info": {
   "codemirror_mode": {
    "name": "ipython",
    "version": 3
   },
   "file_extension": ".py",
   "mimetype": "text/x-python",
   "name": "python",
   "nbconvert_exporter": "python",
   "pygments_lexer": "ipython3",
   "version": "3.7.6"
  }
 },
 "nbformat": 4,
 "nbformat_minor": 4
}
