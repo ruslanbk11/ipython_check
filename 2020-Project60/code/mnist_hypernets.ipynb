{
 "cells": [
  {
   "cell_type": "markdown",
   "metadata": {
    "id": "GhMbFRNOso1D"
   },
   "source": [
    "```yaml\n",
    "#%mldev nb_context\n",
    "\n",
    "pipeline:\n",
    "  - imports\n",
    "  - device\n",
    "  - params\n",
    "  - mkdir\n",
    "  - train_test_data\n",
    "  - def_VarLayer\n",
    "  - def_lot_of_classes\n",
    "  - def_VarSeqNet\n",
    "  - def_train_batches\n",
    "  - train_batches\n",
    "  - more_train_batches\n",
    "  - def_funcs\n",
    "  - net\n",
    "  - lamb_results\n",
    "  - write_results_file\n",
    "  - plot\n",
    "  - def_copy\n",
    "  - lam_results_2\n",
    "  - write_results_lowrank\n",
    "  - plot_2\n",
    "  - third_results\n",
    "  - write_results_linear\n",
    "  - plot_linear\n",
    "  - lam_results_3\n",
    "  - results_lowrank_finetune\n",
    "  - plot_4\n",
    "  - lam_results_4\n",
    "  - new_results_linear\n",
    "  - plot_resluts_linear\n",
    "  - train_batches_again\n",
    "  - save_results\n",
    "  - save_results_1e\n",
    "  - plot_results_1e\n",
    "  - check_all_results\n",
    "  - calc_stab\n",
    "  - ordinal_model\n",
    "  - 1e_model\n",
    "  - lr_model\n",
    "  - linear_model\n",
    "  - batches\n",
    "  - new_plots\n",
    "  - last_plots\n",
    "\n",
    "```"
   ]
  },
  {
   "cell_type": "code",
   "execution_count": 1,
   "metadata": {
    "executionInfo": {
     "elapsed": 4076,
     "status": "ok",
     "timestamp": 1621504146424,
     "user": {
      "displayName": "Руслан Кошкин",
      "photoUrl": "",
      "userId": "02826648336057215366"
     },
     "user_tz": -180
    },
    "id": "i-5yhXPEwHID"
   },
   "outputs": [],
   "source": [
    "import torch as t \n",
    "import torchvision\n",
    "import numpy as np\n",
    "import torch.nn as nn\n",
    "import torch.nn.functional as F\n",
    "import torch.optim as optim\n",
    "import matplotlib.pylab as plt\n",
    "from torch.nn.utils import clip_grad_value_\n",
    "# %matplotlib inline\n",
    "import pickle\n",
    "from torchvision import datasets, transforms\n",
    "import tqdm\n",
    "import os\n",
    "\n",
    "#%mldev imports"
   ]
  },
  {
   "cell_type": "code",
   "execution_count": 2,
   "metadata": {
    "executionInfo": {
     "elapsed": 4071,
     "status": "ok",
     "timestamp": 1621504146426,
     "user": {
      "displayName": "Руслан Кошкин",
      "photoUrl": "",
      "userId": "02826648336057215366"
     },
     "user_tz": -180
    },
    "id": "JyMa1YDDwHIM"
   },
   "outputs": [],
   "source": [
    "device = 'cpu:0' # cuda or cpu\n",
    "device = t.device(device)\n",
    "if device == 'cuda':\n",
    "    t.backends.cudnn.deterministic = True\n",
    "    t.backends.cudnn.benchmark = False\n",
    "#%mldev device"
   ]
  },
  {
   "cell_type": "code",
   "execution_count": 3,
   "metadata": {
    "executionInfo": {
     "elapsed": 4070,
     "status": "ok",
     "timestamp": 1621504146427,
     "user": {
      "displayName": "Руслан Кошкин",
      "photoUrl": "",
      "userId": "02826648336057215366"
     },
     "user_tz": -180
    },
    "id": "k1Ugc9szwHIN"
   },
   "outputs": [],
   "source": [
    "batch_size = 64\n",
    "init_log_sigma = -3.0 # логарифм дисперсии вариационного распределения при инициализации\n",
    "prior_sigma = 0.1 # априорная дисперсия\n",
    "epoch_num = 10 #количество эпох\n",
    "lamb = [0.1, 1,  10, 100]\n",
    "hidden_num = 50 # количество нейронов на скрытом слое\n",
    "acc_delete = [] \n",
    "start_num = 1\n",
    "\n",
    "\n",
    "lam_hidden_num = 50\n",
    "lambda_sample_num = 5\n",
    "path_to_save = 'saved'\n",
    "\n",
    "#%mldev params"
   ]
  },
  {
   "cell_type": "code",
   "execution_count": 4,
   "metadata": {
    "executionInfo": {
     "elapsed": 4068,
     "status": "ok",
     "timestamp": 1621504146428,
     "user": {
      "displayName": "Руслан Кошкин",
      "photoUrl": "",
      "userId": "02826648336057215366"
     },
     "user_tz": -180
    },
    "id": "3jmzAW3BwHIN"
   },
   "outputs": [],
   "source": [
    "if not os.path.exists(path_to_save):\n",
    "    os.mkdir(path_to_save)\n",
    "\n",
    "#%mldev mkdir"
   ]
  },
  {
   "cell_type": "code",
   "execution_count": 5,
   "metadata": {
    "colab": {
     "base_uri": "https://localhost:8080/",
     "height": 837,
     "referenced_widgets": [
      "bba7a9d28b5043e7a70271f475d86dd0",
      "6457bb71005a47d6aa97b584cb0437d8",
      "3754d64fa515401892c7fa2fcb869299",
      "02eb4d33a7484935bff6d11e200bc23a",
      "17c127c278644b8195be05c96eb3e76a",
      "fdaad93134f84fc299837ee8ddece251",
      "b745470bcb9a488b8dc14f5af532ad4b",
      "68ed445c1aa64a75bc63013dcec8f77b",
      "6a436b9b4b2449269547df5cb245c0dd",
      "c9ab449ad6624c408090d938ef492f48",
      "cfdeab087889439aafd1b8111b0651d8",
      "cf4787356fcc44f88a652e8a4b6bfbdc",
      "1d22478947a8445fac9edae3bc1df317",
      "6540ebfa3e484ed49b339fcc9620113e",
      "f89c6f62e64b4851810cd53251b3786a",
      "07eb737ed0b84e0899a1fd93649b41b9",
      "2216ea0187a345a5bebea02ff9dd37e3",
      "1d1a330c8e3e46be8afc0a37c291e511",
      "90ed39d2cffd4cc69a001b218ba5cec7",
      "6b2c1b34273c4e5d86f9481c2fc72ef5",
      "70b699114db1435ca4b1130f49e6bc67",
      "b4971802c3164ac9b60fde7ca526499a",
      "206b7e06c7ce4adeacbecd68d86c79f8",
      "a20afc31a384426fbca32bd0edd6e7ed",
      "ed6373965b904fca94fe0eac92a2a77a",
      "c379e105d9554f06a8826e5b6f641613",
      "b577fd8ee1f84deb8aec138ca9e7caea",
      "056404f375044cea8261f19cfb9ca8db",
      "abb9843e8f1c4b8db8913c179d3b1a4c",
      "12bd2212d44b477d8b3880e06da88a7e",
      "137ae69b70a64bc3bbc0c4824ddd0b07",
      "29c386956a1449eebb15b1cdc50fbb3a"
     ]
    },
    "executionInfo": {
     "elapsed": 6829,
     "status": "ok",
     "timestamp": 1621504149191,
     "user": {
      "displayName": "Руслан Кошкин",
      "photoUrl": "",
      "userId": "02826648336057215366"
     },
     "user_tz": -180
    },
    "id": "kI_glTrtwHIO",
    "outputId": "58b61532-0190-4b24-c83e-dbe8d9a1e761"
   },
   "outputs": [
    {
     "name": "stdout",
     "output_type": "stream",
     "text": [
      "Downloading http://yann.lecun.com/exdb/mnist/train-images-idx3-ubyte.gz\n",
      "Failed to download (trying next):\n",
      "HTTP Error 503: Service Unavailable\n",
      "\n",
      "Downloading https://ossci-datasets.s3.amazonaws.com/mnist/train-images-idx3-ubyte.gz\n",
      "Downloading https://ossci-datasets.s3.amazonaws.com/mnist/train-images-idx3-ubyte.gz to ./files/MNIST/raw/train-images-idx3-ubyte.gz\n"
     ]
    },
    {
     "data": {
      "application/vnd.jupyter.widget-view+json": {
       "model_id": "bba7a9d28b5043e7a70271f475d86dd0",
       "version_major": 2,
       "version_minor": 0
      },
      "text/plain": [
       "HBox(children=(FloatProgress(value=0.0, max=9912422.0), HTML(value='')))"
      ]
     },
     "metadata": {
      "tags": []
     },
     "output_type": "display_data"
    },
    {
     "name": "stdout",
     "output_type": "stream",
     "text": [
      "\n",
      "Extracting ./files/MNIST/raw/train-images-idx3-ubyte.gz to ./files/MNIST/raw\n",
      "\n",
      "Downloading http://yann.lecun.com/exdb/mnist/train-labels-idx1-ubyte.gz\n",
      "Failed to download (trying next):\n",
      "HTTP Error 503: Service Unavailable\n",
      "\n",
      "Downloading https://ossci-datasets.s3.amazonaws.com/mnist/train-labels-idx1-ubyte.gz\n",
      "Downloading https://ossci-datasets.s3.amazonaws.com/mnist/train-labels-idx1-ubyte.gz to ./files/MNIST/raw/train-labels-idx1-ubyte.gz\n"
     ]
    },
    {
     "data": {
      "application/vnd.jupyter.widget-view+json": {
       "model_id": "6a436b9b4b2449269547df5cb245c0dd",
       "version_major": 2,
       "version_minor": 0
      },
      "text/plain": [
       "HBox(children=(FloatProgress(value=0.0, max=28881.0), HTML(value='')))"
      ]
     },
     "metadata": {
      "tags": []
     },
     "output_type": "display_data"
    },
    {
     "name": "stdout",
     "output_type": "stream",
     "text": [
      "\n",
      "Extracting ./files/MNIST/raw/train-labels-idx1-ubyte.gz to ./files/MNIST/raw\n",
      "\n",
      "Downloading http://yann.lecun.com/exdb/mnist/t10k-images-idx3-ubyte.gz\n",
      "Failed to download (trying next):\n",
      "HTTP Error 503: Service Unavailable\n",
      "\n",
      "Downloading https://ossci-datasets.s3.amazonaws.com/mnist/t10k-images-idx3-ubyte.gz\n",
      "Downloading https://ossci-datasets.s3.amazonaws.com/mnist/t10k-images-idx3-ubyte.gz to ./files/MNIST/raw/t10k-images-idx3-ubyte.gz\n"
     ]
    },
    {
     "data": {
      "application/vnd.jupyter.widget-view+json": {
       "model_id": "2216ea0187a345a5bebea02ff9dd37e3",
       "version_major": 2,
       "version_minor": 0
      },
      "text/plain": [
       "HBox(children=(FloatProgress(value=0.0, max=1648877.0), HTML(value='')))"
      ]
     },
     "metadata": {
      "tags": []
     },
     "output_type": "display_data"
    },
    {
     "name": "stdout",
     "output_type": "stream",
     "text": [
      "\n",
      "Extracting ./files/MNIST/raw/t10k-images-idx3-ubyte.gz to ./files/MNIST/raw\n",
      "\n",
      "Downloading http://yann.lecun.com/exdb/mnist/t10k-labels-idx1-ubyte.gz\n",
      "Failed to download (trying next):\n",
      "HTTP Error 503: Service Unavailable\n",
      "\n",
      "Downloading https://ossci-datasets.s3.amazonaws.com/mnist/t10k-labels-idx1-ubyte.gz\n",
      "Downloading https://ossci-datasets.s3.amazonaws.com/mnist/t10k-labels-idx1-ubyte.gz to ./files/MNIST/raw/t10k-labels-idx1-ubyte.gz\n"
     ]
    },
    {
     "data": {
      "application/vnd.jupyter.widget-view+json": {
       "model_id": "ed6373965b904fca94fe0eac92a2a77a",
       "version_major": 2,
       "version_minor": 0
      },
      "text/plain": [
       "HBox(children=(FloatProgress(value=0.0, max=4542.0), HTML(value='')))"
      ]
     },
     "metadata": {
      "tags": []
     },
     "output_type": "display_data"
    },
    {
     "name": "stdout",
     "output_type": "stream",
     "text": [
      "\n",
      "Extracting ./files/MNIST/raw/t10k-labels-idx1-ubyte.gz to ./files/MNIST/raw\n",
      "\n",
      "Processing...\n",
      "Done!\n"
     ]
    },
    {
     "name": "stderr",
     "output_type": "stream",
     "text": [
      "/usr/local/lib/python3.7/dist-packages/torchvision/datasets/mnist.py:502: UserWarning: The given NumPy array is not writeable, and PyTorch does not support non-writeable tensors. This means you can write to the underlying (supposedly non-writeable) NumPy array using the tensor. You may want to copy the array to protect its data or make it writeable before converting it to a tensor. This type of warning will be suppressed for the rest of this program. (Triggered internally at  /pytorch/torch/csrc/utils/tensor_numpy.cpp:143.)\n",
      "  return torch.from_numpy(parsed.astype(m[2], copy=False)).view(*s)\n"
     ]
    }
   ],
   "source": [
    "# загрузка данных\n",
    "train_data = torchvision.datasets.MNIST('./files/', train=True, download=True,\n",
    "                             transform = transforms.Compose([transforms.ToTensor(),\n",
    "                              transforms.Normalize((0.5,), (0.5,)),\n",
    "                                  torchvision.transforms.Lambda(lambda x: x.view(-1))\n",
    "                              ]))\n",
    "\n",
    "test_data = torchvision.datasets.MNIST('./files/', train=False, download=True,\n",
    "                             transform = transforms.Compose([transforms.ToTensor(),\n",
    "                              transforms.Normalize((0.5,), (0.5,)),\n",
    "                                  torchvision.transforms.Lambda(lambda x: x.view(-1))\n",
    "                              ]))\n",
    "\n",
    "\n",
    "train_loader = t.utils.data.DataLoader(train_data, batch_size=batch_size, pin_memory=True )\n",
    "test_loader = t.utils.data.DataLoader(test_data, batch_size=batch_size)\n",
    "\n",
    "#%mldev train_test_data"
   ]
  },
  {
   "cell_type": "code",
   "execution_count": 6,
   "metadata": {
    "executionInfo": {
     "elapsed": 6826,
     "status": "ok",
     "timestamp": 1621504149192,
     "user": {
      "displayName": "Руслан Кошкин",
      "photoUrl": "",
      "userId": "02826648336057215366"
     },
     "user_tz": -180
    },
    "id": "w0A5NleSwHIP"
   },
   "outputs": [],
   "source": [
    "class VarLayer(nn.Module): # вариационная однослойная сеть\n",
    "    def __init__(self, in_,  out_,   act=F.relu):         \n",
    "        nn.Module.__init__(self)                    \n",
    "        self.mean = nn.Parameter(t.randn(in_, out_, device=device)) # параметры средних\n",
    "        t.nn.init.xavier_uniform(self.mean) \n",
    "        self.log_sigma = nn.Parameter(t.ones(in_, out_, device = device)*init_log_sigma) # логарифм дисперсии\n",
    "        self.mean_b = nn.Parameter(t.randn(out_, device=device)) # то же самое для свободного коэффициента\n",
    "        self.log_sigma_b = nn.Parameter(t.ones(out_, device=device) * init_log_sigma)\n",
    "                \n",
    "        self.in_ = in_\n",
    "        self.out_ = out_\n",
    "        self.act = act\n",
    "        \n",
    "    def forward(self,x):\n",
    "        if self.training: # во время обучения - сэмплируем из нормального распределения\n",
    "            self.eps_w = t.distributions.Normal(self.mean, t.exp(self.log_sigma))\n",
    "            self.eps_b = t.distributions.Normal(self.mean_b, t.exp(self.log_sigma_b))\n",
    "        \n",
    "            w = self.eps_w.rsample()\n",
    "            b = self.eps_b.rsample()\n",
    "             \n",
    "        else:  # во время контроля - смотрим средние значения параметра        \n",
    "            w = self.mean \n",
    "            b = self.mean_b\n",
    "            \n",
    "        # функция активации \n",
    "        return self.act(t.matmul(x, w)+b)\n",
    "\n",
    "    def KLD(self):        \n",
    "        # подсчет дивергенции\n",
    "        size = self.in_, self.out_\n",
    "        out = self.out_\n",
    "        self.eps_w = t.distributions.Normal(self.mean, t.exp(self.log_sigma))\n",
    "        self.eps_b = t.distributions.Normal(self.mean_b,  t.exp(self.log_sigma_b))\n",
    "        self.h_w = t.distributions.Normal(t.zeros(size, device=device), t.ones(size, device=device)*prior_sigma)\n",
    "        self.h_b = t.distributions.Normal(t.zeros(out, device=device), t.ones(out, device=device)*prior_sigma)                \n",
    "        k1 = t.distributions.kl_divergence(self.eps_w,self.h_w).sum()        \n",
    "        k2 = t.distributions.kl_divergence(self.eps_b,self.h_b).sum()        \n",
    "        return k1+k2\n",
    "    \n",
    "#%mldev def_VarLayer"
   ]
  },
  {
   "cell_type": "code",
   "execution_count": 7,
   "metadata": {
    "executionInfo": {
     "elapsed": 7215,
     "status": "ok",
     "timestamp": 1621504149584,
     "user": {
      "displayName": "Руслан Кошкин",
      "photoUrl": "",
      "userId": "02826648336057215366"
     },
     "user_tz": -180
    },
    "id": "vxJVegJFwHIQ"
   },
   "outputs": [],
   "source": [
    "class LowRankNet(nn.Module):\n",
    "    def __init__(self, size, hidden, gain_const = 1.0, gain_lamb = 1.0,\n",
    "                 gain_lowrank = .0001,  act= F.relu):    \n",
    "        nn.Module.__init__(self)        \n",
    "        self.w = nn.Linear(1, hidden).to(device)\n",
    "        t.nn.init.xavier_uniform(self.w.weight, gain_lamb)\n",
    "        # проверка на вектор или матрица\n",
    "        if isinstance(size, tuple) and len(size) == 2: # если сайз неизменяемый список и его длина 2\n",
    "            self.in_, self.out_ = size\n",
    "            self.diagonal = False\n",
    "        else:\n",
    "            self.out_ = size\n",
    "            self.diagonal = True\n",
    "            \n",
    "        \n",
    "        self.one = t.ones(1,device=device) # для упрощения работы с лямбдой. Костыль, можно сделать проще\n",
    "        self.act = act\n",
    "        \n",
    "        if self.diagonal:\n",
    "            self.w_d = nn.Linear(hidden, self.out_).to(device)\n",
    "            t.nn.init.xavier_uniform(self.w_d.weight, gain_lowrank)\n",
    "            # независимая от параметра lambda часть\n",
    "            self.const = nn.Parameter(t.randn(self.out_, device=device)) \n",
    "            \n",
    "        else:\n",
    "            self.w_a1 = nn.Linear(hidden, self.in_).to(device)\n",
    "            t.nn.init.xavier_uniform(self.w_a1.weight, gain_lowrank)\n",
    "            \n",
    "            self.w_a2 = nn.Linear(hidden, self.out_).to(device)\n",
    "            t.nn.init.xavier_uniform(self.w_a2.weight, gain_lowrank)\n",
    "            \n",
    "            self.const = nn.Parameter(t.randn(self.in_, self.out_, device=device)) \n",
    "            t.nn.init.xavier_uniform(self.const,  gain_const)\n",
    "            \n",
    "            \n",
    "    def forward(self, lam):\n",
    "        h = self.act(self.w(self.one * lam))        \n",
    "        if self.diagonal:\n",
    "            return self.const + self.w_d(h)\n",
    "        else:\n",
    "            a1 = self.w_a1(h)\n",
    "            a2 = self.w_a2(h)\n",
    "         \n",
    "            return self.const +  t.matmul(a1.view(-1, 1), a2.view(1, -1))\n",
    "\n",
    "        \n",
    "class LinearApprNet(nn.Module):\n",
    "    def __init__(self, size,  gain_const = 1.0, gain_const2 = 0.000001,  act= lambda x: x):    \n",
    "        nn.Module.__init__(self)        \n",
    "        if isinstance(size, tuple) and len(size) == 2:\n",
    "            self.in_, self.out_ = size\n",
    "            self.diagonal = False\n",
    "        else:\n",
    "            self.out_ = size\n",
    "            self.diagonal = True\n",
    "            \n",
    "        \n",
    "        self.one = t.ones(1, device=device) # для упрощения работы с лямбдой. Костыль, можно сделать проще\n",
    "        self.act = act\n",
    "        \n",
    "        if self.diagonal:\n",
    "            # независимая от параметра lambda часть\n",
    "            self.const = nn.Parameter(t.randn(self.out_, device=device)) \n",
    "            self.const2 = nn.Parameter(t.ones(self.out_, device=device) * gain_const2) \n",
    "            \n",
    "            \n",
    "        else:\n",
    "            self.const = nn.Parameter(t.randn(self.in_, self.out_, device=device)) \n",
    "            t.nn.init.xavier_uniform(self.const,  gain_const)\n",
    "            self.const2 = nn.Parameter(t.randn(self.in_, self.out_, device=device)) \n",
    "            t.nn.init.xavier_uniform(self.const2,  gain_const2)\n",
    "            \n",
    "            \n",
    "    def forward(self, lam):        \n",
    "        if self.diagonal:\n",
    "            return self.const + self.const2 * lam\n",
    "        else:\n",
    "            return self.const + self.const2 * lam \n",
    "\n",
    "        \n",
    "class VarLayerLowRank(nn.Module): # вариационная однослойная сеть\n",
    "    def __init__(self, in_,  out_,   act=F.relu):         \n",
    "        nn.Module.__init__(self)                    \n",
    "        self.mean = LowRankNet((in_, out_), lam_hidden_num) # параметры средних            \n",
    "        self.log_sigma = LowRankNet((in_, out_), lam_hidden_num) # логарифм дисперсии\n",
    "        self.mean_b = LowRankNet( out_, lam_hidden_num) # то же самое для свободного коэффициента\n",
    "        self.log_sigma_b = LowRankNet( out_, lam_hidden_num)\n",
    "     \n",
    "        self.log_sigma.const.data*= 0 # забьем константу нужными нам значениями\n",
    "        self.log_sigma.const.data+= init_log_sigma\n",
    "     \n",
    "        self.log_sigma_b.const.data*= 0 # забьем константу нужными нам значениями\n",
    "        self.log_sigma_b.const.data+= init_log_sigma\n",
    "        \n",
    "        \n",
    "                \n",
    "        self.in_ = in_\n",
    "        self.out_ = out_\n",
    "        self.act = act\n",
    "        \n",
    "    def forward(self,x, l):\n",
    "        if self.training: # во время обучения - сэмплируем из нормального распределения\n",
    "            self.eps_w = t.distributions.Normal(self.mean(l), t.exp(self.log_sigma(l)))\n",
    "            self.eps_b = t.distributions.Normal(self.mean_b(l), t.exp(self.log_sigma_b(l)))\n",
    "        \n",
    "            w = self.eps_w.rsample()\n",
    "            b = self.eps_b.rsample()\n",
    "             \n",
    "        else:  # во время контроля - смотрим средние значения параметра        \n",
    "            w = self.mean(l) \n",
    "            b = self.mean_b(l)\n",
    "            \n",
    "        # функция активации \n",
    "        return self.act(t.matmul(x, w)+b)\n",
    "\n",
    "    def KLD(self, l):        \n",
    "        # подсчет дивергенции\n",
    "        size = self.in_, self.out_\n",
    "        out = self.out_\n",
    "        self.eps_w = t.distributions.Normal(self.mean(l), t.exp(self.log_sigma(l)))\n",
    "        self.eps_b = t.distributions.Normal(self.mean_b(l),  t.exp(self.log_sigma_b(l)))\n",
    "        self.h_w = t.distributions.Normal(t.zeros(size, device=device), t.ones(size, device=device)*prior_sigma)\n",
    "        self.h_b = t.distributions.Normal(t.zeros(out, device=device), t.ones(out, device=device)*prior_sigma)                \n",
    "        k1 = t.distributions.kl_divergence(self.eps_w,self.h_w).sum()        \n",
    "        k2 = t.distributions.kl_divergence(self.eps_b,self.h_b).sum()        \n",
    "        return k1+k2\n",
    "    \n",
    "\n",
    "class VarLayerLinearAppr(nn.Module): # вариационная однослойная сеть\n",
    "    def __init__(self, in_,  out_,   act=F.relu):         \n",
    "        nn.Module.__init__(self)                    \n",
    "        self.mean = LinearApprNet((in_, out_)) # параметры средних            \n",
    "        self.log_sigma = LinearApprNet((in_, out_)) # логарифм дисперсии\n",
    "        self.mean_b = LinearApprNet( out_) # то же самое для свободного коэффициента\n",
    "        self.log_sigma_b = LinearApprNet( out_)\n",
    "     \n",
    "        self.log_sigma.const.data*= 0 # забьем константу нужными нам значениями\n",
    "        self.log_sigma.const.data+= init_log_sigma\n",
    "     \n",
    "        self.log_sigma_b.const.data*= 0 # забьем константу нужными нам значениями\n",
    "        self.log_sigma_b.const.data+= init_log_sigma\n",
    "        \n",
    "        \n",
    "                \n",
    "        self.in_ = in_\n",
    "        self.out_ = out_\n",
    "        self.act = act\n",
    "        \n",
    "    def forward(self, x, l):\n",
    "        if self.training: # во время обучения - сэмплируем из нормального распределения\n",
    "            self.eps_w = t.distributions.Normal(self.mean(l), t.exp(self.log_sigma(l)))\n",
    "            self.eps_b = t.distributions.Normal(self.mean_b(l), t.exp(self.log_sigma_b(l)))\n",
    "        \n",
    "            w = self.eps_w.rsample()\n",
    "            b = self.eps_b.rsample()\n",
    "             \n",
    "        else:  # во время контроля - смотрим средние значения параметра        \n",
    "            w = self.mean(l) \n",
    "            b = self.mean_b(l)\n",
    "            \n",
    "        # функция активации \n",
    "        return self.act(t.matmul(x, w)+b)\n",
    "\n",
    "    def KLD(self, l):        \n",
    "        # подсчет дивергенции\n",
    "        size = self.in_, self.out_\n",
    "        out = self.out_\n",
    "        self.eps_w = t.distributions.Normal(self.mean(l), t.exp(self.log_sigma(l)))\n",
    "        self.eps_b = t.distributions.Normal(self.mean_b(l),  t.exp(self.log_sigma_b(l)))\n",
    "        self.h_w = t.distributions.Normal(t.zeros(size, device=device), t.ones(size, device=device)*prior_sigma)\n",
    "        self.h_b = t.distributions.Normal(t.zeros(out, device=device), t.ones(out, device=device)*prior_sigma)                \n",
    "        k1 = t.distributions.kl_divergence(self.eps_w,self.h_w).sum()        \n",
    "        k2 = t.distributions.kl_divergence(self.eps_b,self.h_b).sum()        \n",
    "        return k1+k2    \n",
    "\n",
    "#%mldev def_lot_of_classes"
   ]
  },
  {
   "cell_type": "code",
   "execution_count": 8,
   "metadata": {
    "executionInfo": {
     "elapsed": 7213,
     "status": "ok",
     "timestamp": 1621504149585,
     "user": {
      "displayName": "Руслан Кошкин",
      "photoUrl": "",
      "userId": "02826648336057215366"
     },
     "user_tz": -180
    },
    "id": "D7xr5lfXwHIU"
   },
   "outputs": [],
   "source": [
    "class VarSeqNet(nn.Sequential):    \n",
    "    # класс-обертка на случай, если у нас многослойная нейронная сеть\n",
    "    def KLD(self, lam = None):\n",
    "        k = 0\n",
    "        for l in self: \n",
    "            if lam is None:\n",
    "                k+=l.KLD()\n",
    "            else:\n",
    "                k+=l.KLD(lam)\n",
    "                \n",
    "        return k\n",
    "    \n",
    "    def forward(self, x, lam = None):\n",
    "        if lam is None:\n",
    "            for l in self:\n",
    "                x = l(x)\n",
    "            return x\n",
    "        else:\n",
    "            for l in self:\n",
    "                x = l(x, lam)\n",
    "            return x\n",
    "    \n",
    "#%mldev def_VarSeqNet"
   ]
  },
  {
   "cell_type": "code",
   "execution_count": 9,
   "metadata": {
    "executionInfo": {
     "elapsed": 7211,
     "status": "ok",
     "timestamp": 1621504149585,
     "user": {
      "displayName": "Руслан Кошкин",
      "photoUrl": "",
      "userId": "02826648336057215366"
     },
     "user_tz": -180
    },
    "id": "BYk7A6E9wHIU"
   },
   "outputs": [],
   "source": [
    "def train_batches(net, loss_fn, optimizer, lam, label):\n",
    "    tq = tqdm.tqdm(train_loader)\n",
    "    losses = []\n",
    "    for x,y in tq:            \n",
    "        x = x.to(device)\n",
    "        y = y.to(device)          \n",
    "        optimizer.zero_grad()  \n",
    "        loss = 0\n",
    "        if lam is None:\n",
    "            for _ in range(lambda_sample_num):  \n",
    "                p = t.rand(1).to(device)*3 -1\n",
    "                lam_param = 10**p[0]\n",
    "                \n",
    "                #t.rand(1).to(device)[0]*100.0                  \n",
    "                out = net(x, lam_param/100.0)\n",
    "                loss = loss + loss_fn(out, y)/lambda_sample_num\n",
    "                loss += net.KLD(lam_param/100.0)*lam_param/len(train_data)/lambda_sample_num\n",
    "                losses+=[loss.cpu().detach().numpy()]\n",
    "            # правдоподобие должно суммироваться по всей обучающей выборке\n",
    "            # в случае батчей - она приводится к тому же порядку \n",
    "        else:\n",
    "            out = net(x)\n",
    "            loss = loss + loss_fn(out, y)\n",
    "            loss += net.KLD()*lam/len(train_data)\n",
    "            losses+=[loss.cpu().detach().numpy()]\n",
    "        tq.set_description(label+str(np.mean(losses)))\n",
    "        loss.backward()       \n",
    "        clip_grad_value_(net.parameters(), 1.0) # для стабильности градиента. С этим можно играться\n",
    "        optimizer.step()\n",
    "\n",
    "#%mldev def_train_batches"
   ]
  },
  {
   "cell_type": "code",
   "execution_count": 10,
   "metadata": {
    "colab": {
     "base_uri": "https://localhost:8080/"
    },
    "executionInfo": {
     "elapsed": 918360,
     "status": "ok",
     "timestamp": 1621505060741,
     "user": {
      "displayName": "Руслан Кошкин",
      "photoUrl": "",
      "userId": "02826648336057215366"
     },
     "user_tz": -180
    },
    "id": "8o3LYJGqwHIV",
    "outputId": "da4b6b33-7ef5-406c-e8f7-02572d84b595"
   },
   "outputs": [
    {
     "name": "stderr",
     "output_type": "stream",
     "text": [
      "/usr/local/lib/python3.7/dist-packages/ipykernel_launcher.py:5: UserWarning: nn.init.xavier_uniform is now deprecated in favor of nn.init.xavier_uniform_.\n",
      "  \"\"\"\n",
      "lambda 0.1, epoch 0: 0.90501744: 100%|██████████| 938/938 [00:23<00:00, 39.22it/s]\n",
      "lambda 0.1, epoch 1: 0.47872293: 100%|██████████| 938/938 [00:23<00:00, 40.70it/s]\n",
      "lambda 0.1, epoch 2: 0.38231733: 100%|██████████| 938/938 [00:22<00:00, 41.66it/s]\n",
      "lambda 0.1, epoch 3: 0.32676628: 100%|██████████| 938/938 [00:22<00:00, 40.94it/s]\n",
      "lambda 0.1, epoch 4: 0.29439312: 100%|██████████| 938/938 [00:22<00:00, 41.32it/s]\n",
      "lambda 0.1, epoch 5: 0.2688559: 100%|██████████| 938/938 [00:22<00:00, 41.22it/s]\n",
      "lambda 0.1, epoch 6: 0.24797507: 100%|██████████| 938/938 [00:23<00:00, 40.55it/s]\n",
      "lambda 0.1, epoch 7: 0.23727848: 100%|██████████| 938/938 [00:22<00:00, 41.74it/s]\n",
      "lambda 0.1, epoch 8: 0.22195151: 100%|██████████| 938/938 [00:22<00:00, 41.93it/s]\n",
      "lambda 0.1, epoch 9: 0.21317287: 100%|██████████| 938/938 [00:22<00:00, 42.60it/s]\n",
      "lambda 1, epoch 0: 1.2300739: 100%|██████████| 938/938 [00:22<00:00, 41.97it/s]\n",
      "lambda 1, epoch 1: 0.7905721: 100%|██████████| 938/938 [00:22<00:00, 42.21it/s]\n",
      "lambda 1, epoch 2: 0.6900148: 100%|██████████| 938/938 [00:22<00:00, 42.37it/s]\n",
      "lambda 1, epoch 3: 0.6251368: 100%|██████████| 938/938 [00:22<00:00, 42.05it/s]\n",
      "lambda 1, epoch 4: 0.5821083: 100%|██████████| 938/938 [00:22<00:00, 42.62it/s]\n",
      "lambda 1, epoch 5: 0.55462795: 100%|██████████| 938/938 [00:22<00:00, 42.26it/s]\n",
      "lambda 1, epoch 6: 0.5285112: 100%|██████████| 938/938 [00:22<00:00, 41.97it/s]\n",
      "lambda 1, epoch 7: 0.5084441: 100%|██████████| 938/938 [00:22<00:00, 42.59it/s]\n",
      "lambda 1, epoch 8: 0.493351: 100%|██████████| 938/938 [00:22<00:00, 42.56it/s]\n",
      "lambda 1, epoch 9: 0.47481957: 100%|██████████| 938/938 [00:25<00:00, 37.38it/s]\n",
      "lambda 10, epoch 0: 3.895005: 100%|██████████| 938/938 [00:22<00:00, 41.61it/s]\n",
      "lambda 10, epoch 1: 2.6636672: 100%|██████████| 938/938 [00:22<00:00, 42.02it/s]\n",
      "lambda 10, epoch 2: 2.0872695: 100%|██████████| 938/938 [00:22<00:00, 41.35it/s]\n",
      "lambda 10, epoch 3: 1.7517834: 100%|██████████| 938/938 [00:22<00:00, 42.01it/s]\n",
      "lambda 10, epoch 4: 1.5434216: 100%|██████████| 938/938 [00:22<00:00, 41.44it/s]\n",
      "lambda 10, epoch 5: 1.3930615: 100%|██████████| 938/938 [00:22<00:00, 42.01it/s]\n",
      "lambda 10, epoch 6: 1.2977097: 100%|██████████| 938/938 [00:22<00:00, 41.47it/s]\n",
      "lambda 10, epoch 7: 1.2208523: 100%|██████████| 938/938 [00:22<00:00, 41.74it/s]\n",
      "lambda 10, epoch 8: 1.1660622: 100%|██████████| 938/938 [00:22<00:00, 41.10it/s]\n",
      "lambda 10, epoch 9: 1.1225775: 100%|██████████| 938/938 [00:23<00:00, 39.98it/s]\n",
      "lambda 100, epoch 0: 21.288973: 100%|██████████| 938/938 [00:23<00:00, 40.25it/s]\n",
      "lambda 100, epoch 1: 8.161208: 100%|██████████| 938/938 [00:23<00:00, 39.48it/s]\n",
      "lambda 100, epoch 2: 4.0948634: 100%|██████████| 938/938 [00:24<00:00, 38.78it/s]\n",
      "lambda 100, epoch 3: 2.9032557: 100%|██████████| 938/938 [00:22<00:00, 41.15it/s]\n",
      "lambda 100, epoch 4: 2.469131: 100%|██████████| 938/938 [00:24<00:00, 39.02it/s]\n",
      "lambda 100, epoch 5: 2.291666: 100%|██████████| 938/938 [00:22<00:00, 41.45it/s]\n",
      "lambda 100, epoch 6: 2.1993186: 100%|██████████| 938/938 [00:22<00:00, 40.89it/s]\n",
      "lambda 100, epoch 7: 2.1623113: 100%|██████████| 938/938 [00:22<00:00, 41.25it/s]\n",
      "lambda 100, epoch 8: 2.17091: 100%|██████████| 938/938 [00:22<00:00, 41.38it/s]\n",
      "lambda 100, epoch 9: 2.1479433: 100%|██████████| 938/938 [00:22<00:00, 41.29it/s]\n"
     ]
    }
   ],
   "source": [
    "t.manual_seed(0)\n",
    "for lam in lamb:\n",
    "    for start in range(start_num):                    \n",
    "            net = VarSeqNet(VarLayer(784,  hidden_num), VarLayer(hidden_num, 10, act=lambda x:x))\n",
    "            net = net.to(device)\n",
    "            optim = t.optim.Adam(net.parameters(), lr=5e-4)\n",
    "            loss_fn = nn.CrossEntropyLoss().to(device)            \n",
    "            for e in range(epoch_num):\n",
    "                label = 'lambda {}, epoch {}: '.format(lam, e)                \n",
    "                train_batches(net, loss_fn, optim, lam, label)\n",
    "            t.save(net.state_dict(), os.path.join(path_to_save, 'var_net_lam_{}_start_{}.cpk'.format(lam, start)))\n",
    "#%mldev train_batches"
   ]
  },
  {
   "cell_type": "code",
   "execution_count": 11,
   "metadata": {
    "colab": {
     "base_uri": "https://localhost:8080/"
    },
    "executionInfo": {
     "elapsed": 2092658,
     "status": "ok",
     "timestamp": 1621506235046,
     "user": {
      "displayName": "Руслан Кошкин",
      "photoUrl": "",
      "userId": "02826648336057215366"
     },
     "user_tz": -180
    },
    "id": "D6wNxyrCwHIW",
    "outputId": "566210b6-135d-43da-bdec-88da7cd8b417"
   },
   "outputs": [
    {
     "name": "stderr",
     "output_type": "stream",
     "text": [
      "/usr/local/lib/python3.7/dist-packages/ipykernel_launcher.py:6: UserWarning: nn.init.xavier_uniform is now deprecated in favor of nn.init.xavier_uniform_.\n",
      "  \n",
      "/usr/local/lib/python3.7/dist-packages/ipykernel_launcher.py:27: UserWarning: nn.init.xavier_uniform is now deprecated in favor of nn.init.xavier_uniform_.\n",
      "/usr/local/lib/python3.7/dist-packages/ipykernel_launcher.py:30: UserWarning: nn.init.xavier_uniform is now deprecated in favor of nn.init.xavier_uniform_.\n",
      "/usr/local/lib/python3.7/dist-packages/ipykernel_launcher.py:33: UserWarning: nn.init.xavier_uniform is now deprecated in favor of nn.init.xavier_uniform_.\n",
      "/usr/local/lib/python3.7/dist-packages/ipykernel_launcher.py:21: UserWarning: nn.init.xavier_uniform is now deprecated in favor of nn.init.xavier_uniform_.\n",
      "lowrank, epoch 0: 1.2618636: 100%|██████████| 938/938 [01:10<00:00, 13.31it/s]\n",
      "lowrank, epoch 1: 0.68056446: 100%|██████████| 938/938 [01:10<00:00, 13.26it/s]\n",
      "lowrank, epoch 2: 0.6521289: 100%|██████████| 938/938 [01:10<00:00, 13.22it/s]\n",
      "lowrank, epoch 3: 0.62255424: 100%|██████████| 938/938 [01:08<00:00, 13.61it/s]\n",
      "lowrank, epoch 4: 0.61637896: 100%|██████████| 938/938 [01:08<00:00, 13.73it/s]\n",
      "lowrank, epoch 5: 0.6093983: 100%|██████████| 938/938 [01:08<00:00, 13.75it/s]\n",
      "lowrank, epoch 6: 0.60337645: 100%|██████████| 938/938 [01:09<00:00, 13.54it/s]\n",
      "lowrank, epoch 7: 0.5942512: 100%|██████████| 938/938 [01:09<00:00, 13.50it/s]\n",
      "lowrank, epoch 8: 0.58805895: 100%|██████████| 938/938 [01:09<00:00, 13.59it/s]\n",
      "lowrank, epoch 9: 0.579878: 100%|██████████| 938/938 [01:09<00:00, 13.48it/s]\n",
      "/usr/local/lib/python3.7/dist-packages/ipykernel_launcher.py:69: UserWarning: nn.init.xavier_uniform is now deprecated in favor of nn.init.xavier_uniform_.\n",
      "/usr/local/lib/python3.7/dist-packages/ipykernel_launcher.py:71: UserWarning: nn.init.xavier_uniform is now deprecated in favor of nn.init.xavier_uniform_.\n",
      "linear, epoch 0: 2.4708014: 100%|██████████| 938/938 [00:48<00:00, 19.31it/s]\n",
      "linear, epoch 1: 1.2443273: 100%|██████████| 938/938 [00:48<00:00, 19.50it/s]\n",
      "linear, epoch 2: 0.86798453: 100%|██████████| 938/938 [00:49<00:00, 19.03it/s]\n",
      "linear, epoch 3: 0.72648925: 100%|██████████| 938/938 [00:48<00:00, 19.16it/s]\n",
      "linear, epoch 4: 0.68633705: 100%|██████████| 938/938 [00:47<00:00, 19.61it/s]\n",
      "linear, epoch 5: 0.64675003: 100%|██████████| 938/938 [00:47<00:00, 19.73it/s]\n",
      "linear, epoch 6: 0.6214666: 100%|██████████| 938/938 [00:47<00:00, 19.90it/s]\n",
      "linear, epoch 7: 0.6111229: 100%|██████████| 938/938 [00:47<00:00, 19.90it/s]\n",
      "linear, epoch 8: 0.60371226: 100%|██████████| 938/938 [00:47<00:00, 19.92it/s]\n",
      "linear, epoch 9: 0.59078604: 100%|██████████| 938/938 [00:47<00:00, 19.80it/s]\n"
     ]
    }
   ],
   "source": [
    "for mode in ['lowrank', 'linear']:\n",
    "    t.manual_seed(0)\n",
    "    for start in range(start_num): \n",
    "        if mode == 'lowrank':\n",
    "            net = VarSeqNet(VarLayerLowRank(784,  hidden_num), VarLayerLowRank(hidden_num, 10, act=lambda x:x))\n",
    "        else:\n",
    "            net = VarSeqNet(VarLayerLinearAppr(784,  hidden_num), VarLayerLinearAppr(hidden_num, 10, act=lambda x:x))\n",
    "            \n",
    "        net = net.to(device)\n",
    "        optim = t.optim.Adam(net.parameters(), lr=5e-4)\n",
    "        loss_fn = nn.CrossEntropyLoss().to(device)            \n",
    "        for e in range(epoch_num):\n",
    "            label = '{}, epoch {}: '.format(mode, e)                \n",
    "            train_batches(net, loss_fn, optim, None, label)\n",
    "        t.save(net.state_dict(), os.path.join(path_to_save, '{}_start_{}.cpk'.format(mode, start)))\n",
    "\n",
    "#%mldev more_train_batches"
   ]
  },
  {
   "cell_type": "code",
   "execution_count": 12,
   "metadata": {
    "executionInfo": {
     "elapsed": 2092658,
     "status": "ok",
     "timestamp": 1621506235048,
     "user": {
      "displayName": "Руслан Кошкин",
      "photoUrl": "",
      "userId": "02826648336057215366"
     },
     "user_tz": -180
    },
    "id": "Y8EaNaUQwHIW"
   },
   "outputs": [],
   "source": [
    "def test_acc(net): # точность классификации\n",
    "    acc = []    \n",
    "    correct = 0\n",
    "    net.eval()\n",
    "    for x,y in test_loader: \n",
    "        x = x.to(device)\n",
    "        y = y.to(device)  \n",
    "        out = net(x)    \n",
    "        correct += out.argmax(1).eq(y).sum().cpu().numpy()\n",
    "    acc = (correct / len(test_data))\n",
    "\n",
    "    return acc\n",
    "\n",
    "\n",
    "# будем удалять по 10% от модели и смотреть качество\n",
    "def delete_10(net):\n",
    "    acc_delete = []\n",
    "    mu = net[0].mean\n",
    "    sigma = t.exp(2*net[0].log_sigma)\n",
    "    prune_coef = (mu**2/sigma).cpu().detach().numpy()    \n",
    "    sorted_coefs = np.sort(prune_coef.flatten())\n",
    "    mu2 = net[1].mean\n",
    "    sigma2 = t.exp(2*net[1].log_sigma)\n",
    "    prune_coef2 = (mu2**2/sigma2).cpu().detach().numpy()    \n",
    "    sorted_coefs2 = np.sort(prune_coef2.flatten())\n",
    "    \n",
    "    \n",
    "    for j in range(10):\n",
    "        \n",
    "        ids = (prune_coef <= sorted_coefs[round(j/10*len(sorted_coefs))]) \n",
    "        net[0].mean.data*=(1-t.tensor(ids*1.0, device=device, dtype=t.float))\n",
    "        \n",
    "        ids2 = (prune_coef2 <= sorted_coefs2[round(j/10*len(sorted_coefs2))]) \n",
    "        net[1].mean.data*=(1-t.tensor(ids2*1.0, device=device, dtype=t.float))\n",
    "        \n",
    "        print ('nonzero params: ', (abs(net[0].mean)>0).float().mean())\n",
    "        acc_delete.append(test_acc(net))\n",
    "    return acc_delete    \n",
    "\n",
    "#%mldev def_funcs"
   ]
  },
  {
   "cell_type": "code",
   "execution_count": 13,
   "metadata": {
    "colab": {
     "base_uri": "https://localhost:8080/"
    },
    "executionInfo": {
     "elapsed": 2092650,
     "status": "ok",
     "timestamp": 1621506235048,
     "user": {
      "displayName": "Руслан Кошкин",
      "photoUrl": "",
      "userId": "02826648336057215366"
     },
     "user_tz": -180
    },
    "id": "qz1RGO2BwHIX",
    "outputId": "2747a4e9-f078-4a09-b55f-b29b819ad73d"
   },
   "outputs": [
    {
     "name": "stderr",
     "output_type": "stream",
     "text": [
      "/usr/local/lib/python3.7/dist-packages/ipykernel_launcher.py:5: UserWarning: nn.init.xavier_uniform is now deprecated in favor of nn.init.xavier_uniform_.\n",
      "  \"\"\"\n"
     ]
    }
   ],
   "source": [
    "net = VarSeqNet(VarLayer(784,  hidden_num), VarLayer(hidden_num, 10, act=lambda x:x))\n",
    "net = net.to(device)\n",
    "\n",
    "#%mldev net"
   ]
  },
  {
   "cell_type": "code",
   "execution_count": 14,
   "metadata": {
    "colab": {
     "base_uri": "https://localhost:8080/"
    },
    "executionInfo": {
     "elapsed": 2159094,
     "status": "ok",
     "timestamp": 1621506301498,
     "user": {
      "displayName": "Руслан Кошкин",
      "photoUrl": "",
      "userId": "02826648336057215366"
     },
     "user_tz": -180
    },
    "id": "_c4HSQnNwHIX",
    "outputId": "292724dd-4102-42ec-9a3c-6a63cb341c35"
   },
   "outputs": [
    {
     "name": "stdout",
     "output_type": "stream",
     "text": [
      "0.1 0\n",
      "nonzero params:  tensor(1.0000)\n",
      "nonzero params:  tensor(0.9000)\n",
      "nonzero params:  tensor(0.8000)\n",
      "nonzero params:  tensor(0.7000)\n",
      "nonzero params:  tensor(0.6000)\n",
      "nonzero params:  tensor(0.5000)\n",
      "nonzero params:  tensor(0.4000)\n",
      "nonzero params:  tensor(0.3000)\n",
      "nonzero params:  tensor(0.2000)\n",
      "nonzero params:  tensor(0.1000)\n",
      "1 0\n",
      "nonzero params:  tensor(1.0000)\n",
      "nonzero params:  tensor(0.9000)\n",
      "nonzero params:  tensor(0.8000)\n",
      "nonzero params:  tensor(0.7000)\n",
      "nonzero params:  tensor(0.6000)\n",
      "nonzero params:  tensor(0.5000)\n",
      "nonzero params:  tensor(0.4000)\n",
      "nonzero params:  tensor(0.3000)\n",
      "nonzero params:  tensor(0.2000)\n",
      "nonzero params:  tensor(0.1000)\n",
      "10 0\n",
      "nonzero params:  tensor(1.0000)\n",
      "nonzero params:  tensor(0.9000)\n",
      "nonzero params:  tensor(0.8000)\n",
      "nonzero params:  tensor(0.7000)\n",
      "nonzero params:  tensor(0.6000)\n",
      "nonzero params:  tensor(0.5000)\n",
      "nonzero params:  tensor(0.4000)\n",
      "nonzero params:  tensor(0.3000)\n",
      "nonzero params:  tensor(0.2000)\n",
      "nonzero params:  tensor(0.1000)\n",
      "100 0\n",
      "nonzero params:  tensor(1.0000)\n",
      "nonzero params:  tensor(0.9000)\n",
      "nonzero params:  tensor(0.8000)\n",
      "nonzero params:  tensor(0.7000)\n",
      "nonzero params:  tensor(0.6000)\n",
      "nonzero params:  tensor(0.5000)\n",
      "nonzero params:  tensor(0.4000)\n",
      "nonzero params:  tensor(0.3000)\n",
      "nonzero params:  tensor(0.2000)\n",
      "nonzero params:  tensor(0.1000)\n"
     ]
    }
   ],
   "source": [
    "lam_results = {}\n",
    "for lam in lamb:\n",
    "    lam_results[lam] = []\n",
    "    for s in range(start_num):\n",
    "        print (lam, s)\n",
    "        net.load_state_dict(t.load(os.path.join('saved/', 'var_net_lam_{}_start_{}.cpk'.format(lam, s))))\n",
    "        lam_results[lam].append(delete_10(net))\n",
    "#%mldev lamb_results"
   ]
  },
  {
   "cell_type": "code",
   "execution_count": 15,
   "metadata": {
    "executionInfo": {
     "elapsed": 2159095,
     "status": "ok",
     "timestamp": 1621506301502,
     "user": {
      "displayName": "Руслан Кошкин",
      "photoUrl": "",
      "userId": "02826648336057215366"
     },
     "user_tz": -180
    },
    "id": "xXEs6Vf3wHIX"
   },
   "outputs": [],
   "source": [
    "import json\n",
    "with open('results_var.json','w') as out:\n",
    "    out.write(json.dumps(lam_results))\n",
    "\n",
    "#%mldev write_results_file"
   ]
  },
  {
   "cell_type": "code",
   "execution_count": 16,
   "metadata": {
    "colab": {
     "base_uri": "https://localhost:8080/",
     "height": 746
    },
    "executionInfo": {
     "elapsed": 2160085,
     "status": "ok",
     "timestamp": 1621506302500,
     "user": {
      "displayName": "Руслан Кошкин",
      "photoUrl": "",
      "userId": "02826648336057215366"
     },
     "user_tz": -180
    },
    "id": "WGsttZd5wHIY",
    "outputId": "114c0cd5-d2df-43a8-cfd4-cd610675abaf"
   },
   "outputs": [
    {
     "data": {
      "image/png": "[encoded data removed]",
      "text/plain": [
       "<Figure size 864x864 with 1 Axes>"
      ]
     },
     "metadata": {
      "needs_background": "light",
      "tags": []
     },
     "output_type": "display_data"
    }
   ],
   "source": [
    "proc = [0,10,20,30,40,50,60,70,80,90]\n",
    "plt.rcParams['figure.figsize'] = 12, 12\n",
    "plt.rcParams.update({'font.size': 27})\n",
    "plt.rc('lines', linewidth=4)\n",
    "    \n",
    "    \n",
    "for lam in lamb:\n",
    "    plt.fill_between(proc, np.min(lam_results[lam], 0), np.max(lam_results[lam], 0), alpha=0.2)\n",
    "    plt.plot(proc, np.mean(lam_results[lam], 0), label='$\\lambda={}$'.format(lam))\n",
    "plt.ylabel('Точность классификации', fontsize = 27)\n",
    "plt.xlabel('Процент удаления', fontsize = 27)\n",
    "plt.tick_params(axis='both', which='major', labelsize=27)\n",
    "plt.legend(loc='lower left')\n",
    "plt.autoscale(enable=True, axis='x', tight=True)\n",
    "#plt.savefig('Hypernet_lowrank3 + 1')\n",
    "#plt.show()\n",
    "\n",
    "#%mldev plot"
   ]
  },
  {
   "cell_type": "code",
   "execution_count": 17,
   "metadata": {
    "executionInfo": {
     "elapsed": 2160081,
     "status": "ok",
     "timestamp": 1621506302501,
     "user": {
      "displayName": "Руслан Кошкин",
      "photoUrl": "",
      "userId": "02826648336057215366"
     },
     "user_tz": -180
    },
    "id": "xMZTElMewHIY"
   },
   "outputs": [],
   "source": [
    "def net_copy(net, new_net, lam):\n",
    "    lam_param = lam/100.0\n",
    "    for j in range(0, 2): # бежим по слоям        \n",
    "        new_net[j].mean.data*=0\n",
    "        new_net[j].mean.data+=net[j].mean(lam_param)\n",
    "        new_net[j].mean_b.data*=0\n",
    "        new_net[j].mean_b.data+=net[j].mean_b(lam_param)\n",
    "        new_net[j].log_sigma.data*=0\n",
    "        new_net[j].log_sigma.data+=net[j].log_sigma(lam_param)\n",
    "        new_net[j].log_sigma_b.data*=0\n",
    "        new_net[j].log_sigma_b.data+=net[j].log_sigma_b(lam_param)\n",
    "    \n",
    "#%mldev def_copy"
   ]
  },
  {
   "cell_type": "code",
   "execution_count": 18,
   "metadata": {
    "colab": {
     "base_uri": "https://localhost:8080/"
    },
    "executionInfo": {
     "elapsed": 2226164,
     "status": "ok",
     "timestamp": 1621506368594,
     "user": {
      "displayName": "Руслан Кошкин",
      "photoUrl": "",
      "userId": "02826648336057215366"
     },
     "user_tz": -180
    },
    "id": "jOQM-nKAwHIY",
    "outputId": "fb8f094c-fe3c-4077-f15f-62db6a81fa9b"
   },
   "outputs": [
    {
     "name": "stderr",
     "output_type": "stream",
     "text": [
      "/usr/local/lib/python3.7/dist-packages/ipykernel_launcher.py:6: UserWarning: nn.init.xavier_uniform is now deprecated in favor of nn.init.xavier_uniform_.\n",
      "  \n",
      "/usr/local/lib/python3.7/dist-packages/ipykernel_launcher.py:27: UserWarning: nn.init.xavier_uniform is now deprecated in favor of nn.init.xavier_uniform_.\n",
      "/usr/local/lib/python3.7/dist-packages/ipykernel_launcher.py:30: UserWarning: nn.init.xavier_uniform is now deprecated in favor of nn.init.xavier_uniform_.\n",
      "/usr/local/lib/python3.7/dist-packages/ipykernel_launcher.py:33: UserWarning: nn.init.xavier_uniform is now deprecated in favor of nn.init.xavier_uniform_.\n",
      "/usr/local/lib/python3.7/dist-packages/ipykernel_launcher.py:21: UserWarning: nn.init.xavier_uniform is now deprecated in favor of nn.init.xavier_uniform_.\n",
      "/usr/local/lib/python3.7/dist-packages/ipykernel_launcher.py:5: UserWarning: nn.init.xavier_uniform is now deprecated in favor of nn.init.xavier_uniform_.\n",
      "  \"\"\"\n"
     ]
    },
    {
     "name": "stdout",
     "output_type": "stream",
     "text": [
      "0.1 0\n",
      "nonzero params:  tensor(1.0000)\n",
      "nonzero params:  tensor(0.9000)\n",
      "nonzero params:  tensor(0.8000)\n",
      "nonzero params:  tensor(0.7000)\n",
      "nonzero params:  tensor(0.6000)\n",
      "nonzero params:  tensor(0.5000)\n",
      "nonzero params:  tensor(0.4000)\n",
      "nonzero params:  tensor(0.3000)\n",
      "nonzero params:  tensor(0.2000)\n",
      "nonzero params:  tensor(0.1000)\n",
      "1 0\n",
      "nonzero params:  tensor(1.0000)\n",
      "nonzero params:  tensor(0.9000)\n",
      "nonzero params:  tensor(0.8000)\n",
      "nonzero params:  tensor(0.7000)\n",
      "nonzero params:  tensor(0.6000)\n",
      "nonzero params:  tensor(0.5000)\n",
      "nonzero params:  tensor(0.4000)\n",
      "nonzero params:  tensor(0.3000)\n",
      "nonzero params:  tensor(0.2000)\n",
      "nonzero params:  tensor(0.1000)\n",
      "10 0\n",
      "nonzero params:  tensor(1.0000)\n",
      "nonzero params:  tensor(0.9000)\n",
      "nonzero params:  tensor(0.8000)\n",
      "nonzero params:  tensor(0.7000)\n",
      "nonzero params:  tensor(0.6000)\n",
      "nonzero params:  tensor(0.5000)\n",
      "nonzero params:  tensor(0.4000)\n",
      "nonzero params:  tensor(0.3000)\n",
      "nonzero params:  tensor(0.2000)\n",
      "nonzero params:  tensor(0.1000)\n",
      "100 0\n",
      "nonzero params:  tensor(1.0000)\n",
      "nonzero params:  tensor(0.9000)\n",
      "nonzero params:  tensor(0.8000)\n",
      "nonzero params:  tensor(0.7000)\n",
      "nonzero params:  tensor(0.6000)\n",
      "nonzero params:  tensor(0.5000)\n",
      "nonzero params:  tensor(0.4000)\n",
      "nonzero params:  tensor(0.3000)\n",
      "nonzero params:  tensor(0.2000)\n",
      "nonzero params:  tensor(0.1000)\n"
     ]
    }
   ],
   "source": [
    "hnet = VarSeqNet(VarLayerLowRank(784,  hidden_num), VarLayerLowRank(hidden_num, 10, act=lambda x:x))\n",
    "hnet = hnet.to(device)\n",
    "net = VarSeqNet(VarLayer(784,  hidden_num), VarLayer(hidden_num, 10, act=lambda x:x))\n",
    "net = net.to(device)\n",
    "    \n",
    "lam_results = {}\n",
    "for lam in lamb:\n",
    "    lam_results[lam] = []\n",
    "    for s in range(start_num):\n",
    "        print (lam, s)\n",
    "        hnet.load_state_dict(t.load(os.path.join('saved/', 'lowrank_start_{}.cpk'.format(s))))\n",
    "        \n",
    "        net_copy(hnet, net, lam)\n",
    "        lam_results[lam].append(delete_10(net))\n",
    "\n",
    "#%mldev lam_results_2"
   ]
  },
  {
   "cell_type": "code",
   "execution_count": 19,
   "metadata": {
    "executionInfo": {
     "elapsed": 2226162,
     "status": "ok",
     "timestamp": 1621506368595,
     "user": {
      "displayName": "Руслан Кошкин",
      "photoUrl": "",
      "userId": "02826648336057215366"
     },
     "user_tz": -180
    },
    "id": "4uMgy462wHIZ"
   },
   "outputs": [],
   "source": [
    "import json\n",
    "with open('results_lowrank.json','w') as out:\n",
    "    out.write(json.dumps(lam_results))\n",
    "\n",
    "#%mldev write_results_lowrank"
   ]
  },
  {
   "cell_type": "code",
   "execution_count": 19,
   "metadata": {
    "executionInfo": {
     "elapsed": 2226160,
     "status": "ok",
     "timestamp": 1621506368595,
     "user": {
      "displayName": "Руслан Кошкин",
      "photoUrl": "",
      "userId": "02826648336057215366"
     },
     "user_tz": -180
    },
    "id": "jgfpSffBwHIZ"
   },
   "outputs": [],
   "source": []
  },
  {
   "cell_type": "code",
   "execution_count": 20,
   "metadata": {
    "colab": {
     "base_uri": "https://localhost:8080/",
     "height": 746
    },
    "executionInfo": {
     "elapsed": 2226918,
     "status": "ok",
     "timestamp": 1621506369363,
     "user": {
      "displayName": "Руслан Кошкин",
      "photoUrl": "",
      "userId": "02826648336057215366"
     },
     "user_tz": -180
    },
    "id": "yOSVfHkhwHIb",
    "outputId": "761ce904-6a70-46c6-ae0f-ed53ac073e86"
   },
   "outputs": [
    {
     "data": {
      "image/png": "[encoded data removed]",
      "text/plain": [
       "<Figure size 864x864 with 1 Axes>"
      ]
     },
     "metadata": {
      "needs_background": "light",
      "tags": []
     },
     "output_type": "display_data"
    }
   ],
   "source": [
    "proc = [0,10,20,30,40,50,60,70,80,90]\n",
    "plt.rcParams['figure.figsize'] = 12, 12\n",
    "plt.rcParams.update({'font.size': 27})\n",
    "plt.rc('lines', linewidth=4)\n",
    "    \n",
    "    \n",
    "for lam in lamb:\n",
    "    plt.fill_between(proc, np.min(lam_results[lam], 0), np.max(lam_results[lam], 0), alpha=0.2)\n",
    "    plt.plot(proc, np.mean(lam_results[lam], 0), label='$\\lambda={}$'.format(lam))\n",
    "plt.ylabel('Точность классификации', fontsize = 27)\n",
    "plt.xlabel('Процент удаления', fontsize = 27)\n",
    "plt.tick_params(axis='both', which='major', labelsize=27)\n",
    "plt.legend(loc='lower left')\n",
    "plt.autoscale(enable=True, axis='x', tight=True)\n",
    "#plt.savefig('Hypernet_lowrank3 + 1')\n",
    "#plt.show()\n",
    "\n",
    "#%mldev plot_2"
   ]
  },
  {
   "cell_type": "code",
   "execution_count": 21,
   "metadata": {
    "colab": {
     "base_uri": "https://localhost:8080/"
    },
    "executionInfo": {
     "elapsed": 2293106,
     "status": "ok",
     "timestamp": 1621506435563,
     "user": {
      "displayName": "Руслан Кошкин",
      "photoUrl": "",
      "userId": "02826648336057215366"
     },
     "user_tz": -180
    },
    "id": "2EKCNs-swHIc",
    "outputId": "89ba3051-81a0-46a4-a25e-c7bb172a09f5"
   },
   "outputs": [
    {
     "name": "stderr",
     "output_type": "stream",
     "text": [
      "/usr/local/lib/python3.7/dist-packages/ipykernel_launcher.py:69: UserWarning: nn.init.xavier_uniform is now deprecated in favor of nn.init.xavier_uniform_.\n",
      "/usr/local/lib/python3.7/dist-packages/ipykernel_launcher.py:71: UserWarning: nn.init.xavier_uniform is now deprecated in favor of nn.init.xavier_uniform_.\n",
      "/usr/local/lib/python3.7/dist-packages/ipykernel_launcher.py:5: UserWarning: nn.init.xavier_uniform is now deprecated in favor of nn.init.xavier_uniform_.\n",
      "  \"\"\"\n"
     ]
    },
    {
     "name": "stdout",
     "output_type": "stream",
     "text": [
      "0.1 0\n",
      "nonzero params:  tensor(1.0000)\n",
      "nonzero params:  tensor(0.9000)\n",
      "nonzero params:  tensor(0.8000)\n",
      "nonzero params:  tensor(0.7000)\n",
      "nonzero params:  tensor(0.6000)\n",
      "nonzero params:  tensor(0.5000)\n",
      "nonzero params:  tensor(0.4000)\n",
      "nonzero params:  tensor(0.3000)\n",
      "nonzero params:  tensor(0.2000)\n",
      "nonzero params:  tensor(0.1000)\n",
      "1 0\n",
      "nonzero params:  tensor(1.0000)\n",
      "nonzero params:  tensor(0.9000)\n",
      "nonzero params:  tensor(0.8000)\n",
      "nonzero params:  tensor(0.7000)\n",
      "nonzero params:  tensor(0.6000)\n",
      "nonzero params:  tensor(0.5000)\n",
      "nonzero params:  tensor(0.4000)\n",
      "nonzero params:  tensor(0.3000)\n",
      "nonzero params:  tensor(0.2000)\n",
      "nonzero params:  tensor(0.1000)\n",
      "10 0\n",
      "nonzero params:  tensor(1.0000)\n",
      "nonzero params:  tensor(0.9000)\n",
      "nonzero params:  tensor(0.8000)\n",
      "nonzero params:  tensor(0.7000)\n",
      "nonzero params:  tensor(0.6000)\n",
      "nonzero params:  tensor(0.5000)\n",
      "nonzero params:  tensor(0.4000)\n",
      "nonzero params:  tensor(0.3000)\n",
      "nonzero params:  tensor(0.2000)\n",
      "nonzero params:  tensor(0.1000)\n",
      "100 0\n",
      "nonzero params:  tensor(1.0000)\n",
      "nonzero params:  tensor(0.9000)\n",
      "nonzero params:  tensor(0.8000)\n",
      "nonzero params:  tensor(0.7000)\n",
      "nonzero params:  tensor(0.6000)\n",
      "nonzero params:  tensor(0.5000)\n",
      "nonzero params:  tensor(0.4000)\n",
      "nonzero params:  tensor(0.3000)\n",
      "nonzero params:  tensor(0.2000)\n",
      "nonzero params:  tensor(0.1000)\n"
     ]
    }
   ],
   "source": [
    "hnet = VarSeqNet(VarLayerLinearAppr(784,  hidden_num), VarLayerLinearAppr(hidden_num, 10, act=lambda x:x))\n",
    "hnet = hnet.to(device)\n",
    "net = VarSeqNet(VarLayer(784,  hidden_num), VarLayer(hidden_num, 10, act=lambda x:x))\n",
    "net = net.to(device)\n",
    "    \n",
    "lam_results = {}\n",
    "for lam in lamb:\n",
    "    lam_results[lam] = []\n",
    "    for s in range(start_num):\n",
    "        print (lam, s)\n",
    "        hnet.load_state_dict(t.load(os.path.join('saved/', 'linear_start_{}.cpk'.format(s))))\n",
    "        \n",
    "        net_copy(hnet, net, lam)\n",
    "        lam_results[lam].append(delete_10(net))\n",
    "\n",
    "#%mldev third_results"
   ]
  },
  {
   "cell_type": "code",
   "execution_count": 22,
   "metadata": {
    "executionInfo": {
     "elapsed": 2293107,
     "status": "ok",
     "timestamp": 1621506435565,
     "user": {
      "displayName": "Руслан Кошкин",
      "photoUrl": "",
      "userId": "02826648336057215366"
     },
     "user_tz": -180
    },
    "id": "L8Wj0LWPwHIc"
   },
   "outputs": [],
   "source": [
    "import json\n",
    "with open('results_linear.json','w') as out:\n",
    "    out.write(json.dumps(lam_results))\n",
    "\n",
    "#%mldev write_results_linear"
   ]
  },
  {
   "cell_type": "code",
   "execution_count": 23,
   "metadata": {
    "colab": {
     "base_uri": "https://localhost:8080/",
     "height": 746
    },
    "executionInfo": {
     "elapsed": 2293738,
     "status": "ok",
     "timestamp": 1621506436203,
     "user": {
      "displayName": "Руслан Кошкин",
      "photoUrl": "",
      "userId": "02826648336057215366"
     },
     "user_tz": -180
    },
    "id": "8ckW40ykwHIc",
    "outputId": "cdd956b0-1488-421e-b231-7af31edd6188"
   },
   "outputs": [
    {
     "data": {
      "image/png": "[encoded data removed]",
      "text/plain": [
       "<Figure size 864x864 with 1 Axes>"
      ]
     },
     "metadata": {
      "needs_background": "light",
      "tags": []
     },
     "output_type": "display_data"
    }
   ],
   "source": [
    "proc = [0,10,20,30,40,50,60,70,80,90]\n",
    "plt.rcParams['figure.figsize'] = 12, 12\n",
    "plt.rcParams.update({'font.size': 27})\n",
    "plt.rc('lines', linewidth=4)\n",
    "    \n",
    "    \n",
    "for lam in lamb:\n",
    "    plt.fill_between(proc, np.min(lam_results[lam], 0), np.max(lam_results[lam], 0), alpha=0.2)\n",
    "    plt.plot(proc, np.mean(lam_results[lam], 0), label='$\\lambda={}$'.format(lam))\n",
    "plt.ylabel('Точность классификации', fontsize = 27)\n",
    "plt.xlabel('Процент удаления', fontsize = 27)\n",
    "plt.tick_params(axis='both', which='major', labelsize=27)\n",
    "plt.legend(loc='lower left')\n",
    "plt.autoscale(enable=True, axis='x', tight=True)\n",
    "#plt.savefig('Hypernet_lowrank3 + 1')\n",
    "#plt.show()\n",
    "\n",
    "#%mldev plot_linear"
   ]
  },
  {
   "cell_type": "code",
   "execution_count": 24,
   "metadata": {
    "colab": {
     "base_uri": "https://localhost:8080/"
    },
    "executionInfo": {
     "elapsed": 2446195,
     "status": "ok",
     "timestamp": 1621506588669,
     "user": {
      "displayName": "Руслан Кошкин",
      "photoUrl": "",
      "userId": "02826648336057215366"
     },
     "user_tz": -180
    },
    "id": "4VSDlYvswHId",
    "outputId": "5c96140f-670d-4ada-cbbe-4b1daef6a92e"
   },
   "outputs": [
    {
     "name": "stderr",
     "output_type": "stream",
     "text": [
      "/usr/local/lib/python3.7/dist-packages/ipykernel_launcher.py:6: UserWarning: nn.init.xavier_uniform is now deprecated in favor of nn.init.xavier_uniform_.\n",
      "  \n",
      "/usr/local/lib/python3.7/dist-packages/ipykernel_launcher.py:27: UserWarning: nn.init.xavier_uniform is now deprecated in favor of nn.init.xavier_uniform_.\n",
      "/usr/local/lib/python3.7/dist-packages/ipykernel_launcher.py:30: UserWarning: nn.init.xavier_uniform is now deprecated in favor of nn.init.xavier_uniform_.\n",
      "/usr/local/lib/python3.7/dist-packages/ipykernel_launcher.py:33: UserWarning: nn.init.xavier_uniform is now deprecated in favor of nn.init.xavier_uniform_.\n",
      "/usr/local/lib/python3.7/dist-packages/ipykernel_launcher.py:21: UserWarning: nn.init.xavier_uniform is now deprecated in favor of nn.init.xavier_uniform_.\n",
      "/usr/local/lib/python3.7/dist-packages/ipykernel_launcher.py:5: UserWarning: nn.init.xavier_uniform is now deprecated in favor of nn.init.xavier_uniform_.\n",
      "  \"\"\"\n",
      "finetune lowrank, lam:0.1 0.46290913: 100%|██████████| 938/938 [00:22<00:00, 41.51it/s]\n"
     ]
    },
    {
     "name": "stdout",
     "output_type": "stream",
     "text": [
      "nonzero params:  tensor(1.0000)\n",
      "nonzero params:  tensor(0.9000)\n",
      "nonzero params:  tensor(0.8000)\n",
      "nonzero params:  tensor(0.7000)\n",
      "nonzero params:  tensor(0.6000)\n",
      "nonzero params:  tensor(0.5000)\n",
      "nonzero params:  tensor(0.4000)\n",
      "nonzero params:  tensor(0.3000)\n",
      "nonzero params:  tensor(0.2000)\n",
      "nonzero params:  tensor(0.1000)\n"
     ]
    },
    {
     "name": "stderr",
     "output_type": "stream",
     "text": [
      "finetune lowrank, lam:1 0.37523943: 100%|██████████| 938/938 [00:21<00:00, 44.38it/s]\n"
     ]
    },
    {
     "name": "stdout",
     "output_type": "stream",
     "text": [
      "nonzero params:  tensor(1.0000)\n",
      "nonzero params:  tensor(0.9000)\n",
      "nonzero params:  tensor(0.8000)\n",
      "nonzero params:  tensor(0.7000)\n",
      "nonzero params:  tensor(0.6000)\n",
      "nonzero params:  tensor(0.5000)\n",
      "nonzero params:  tensor(0.4000)\n",
      "nonzero params:  tensor(0.3000)\n",
      "nonzero params:  tensor(0.2000)\n",
      "nonzero params:  tensor(0.1000)\n"
     ]
    },
    {
     "name": "stderr",
     "output_type": "stream",
     "text": [
      "finetune lowrank, lam:10 0.62488914: 100%|██████████| 938/938 [00:21<00:00, 44.28it/s]\n"
     ]
    },
    {
     "name": "stdout",
     "output_type": "stream",
     "text": [
      "nonzero params:  tensor(1.0000)\n",
      "nonzero params:  tensor(0.9000)\n",
      "nonzero params:  tensor(0.8000)\n",
      "nonzero params:  tensor(0.7000)\n",
      "nonzero params:  tensor(0.6000)\n",
      "nonzero params:  tensor(0.5000)\n",
      "nonzero params:  tensor(0.4000)\n",
      "nonzero params:  tensor(0.3000)\n",
      "nonzero params:  tensor(0.2000)\n",
      "nonzero params:  tensor(0.1000)\n"
     ]
    },
    {
     "name": "stderr",
     "output_type": "stream",
     "text": [
      "finetune lowrank, lam:100 1.4857925: 100%|██████████| 938/938 [00:21<00:00, 44.30it/s]\n"
     ]
    },
    {
     "name": "stdout",
     "output_type": "stream",
     "text": [
      "nonzero params:  tensor(1.0000)\n",
      "nonzero params:  tensor(0.9000)\n",
      "nonzero params:  tensor(0.8000)\n",
      "nonzero params:  tensor(0.7000)\n",
      "nonzero params:  tensor(0.6000)\n",
      "nonzero params:  tensor(0.5000)\n",
      "nonzero params:  tensor(0.4000)\n",
      "nonzero params:  tensor(0.3000)\n",
      "nonzero params:  tensor(0.2000)\n",
      "nonzero params:  tensor(0.1000)\n"
     ]
    }
   ],
   "source": [
    "hnet = VarSeqNet(VarLayerLowRank(784,  hidden_num), VarLayerLowRank(hidden_num, 10, act=lambda x:x))\n",
    "hnet = hnet.to(device)\n",
    "net = VarSeqNet(VarLayer(784,  hidden_num), VarLayer(hidden_num, 10, act=lambda x:x))\n",
    "net = net.to(device)\n",
    "    \n",
    "lam_results = {}\n",
    "t.manual_seed(0)\n",
    "for lam in lamb:    \n",
    "    lam_results[lam] = []\n",
    "    for s in range(start_num):\n",
    "        \n",
    "        hnet.load_state_dict(t.load(os.path.join('saved/', 'lowrank_start_{}.cpk'.format(s))))        \n",
    "        net_copy(hnet, net, lam)\n",
    "        \n",
    "        optim = t.optim.Adam(net.parameters(), lr=5e-4)\n",
    "        loss_fn = nn.CrossEntropyLoss().to(device)            \n",
    "        label = 'finetune lowrank, lam:{} '.format(lam)                \n",
    "        train_batches(net, loss_fn, optim, lam, label)        \n",
    "        lam_results[lam].append(delete_10(net))\n",
    "        \n",
    "#%mldev lam_results_3"
   ]
  },
  {
   "cell_type": "code",
   "execution_count": 25,
   "metadata": {
    "executionInfo": {
     "elapsed": 2446194,
     "status": "ok",
     "timestamp": 1621506588671,
     "user": {
      "displayName": "Руслан Кошкин",
      "photoUrl": "",
      "userId": "02826648336057215366"
     },
     "user_tz": -180
    },
    "id": "nihN9KLfwHId"
   },
   "outputs": [],
   "source": [
    "import json\n",
    "with open('results_lowrank_finetune.json','w') as out:\n",
    "    out.write(json.dumps(lam_results))\n",
    "\n",
    "#%mldev results_lowrank_finetune"
   ]
  },
  {
   "cell_type": "code",
   "execution_count": 26,
   "metadata": {
    "colab": {
     "base_uri": "https://localhost:8080/",
     "height": 746
    },
    "executionInfo": {
     "elapsed": 2446952,
     "status": "ok",
     "timestamp": 1621506589436,
     "user": {
      "displayName": "Руслан Кошкин",
      "photoUrl": "",
      "userId": "02826648336057215366"
     },
     "user_tz": -180
    },
    "id": "iFApCupawHId",
    "outputId": "bedb7b78-9bb8-44ab-dec1-e6c3c236b31d"
   },
   "outputs": [
    {
     "data": {
      "image/png": "[encoded data removed]",
      "text/plain": [
       "<Figure size 864x864 with 1 Axes>"
      ]
     },
     "metadata": {
      "needs_background": "light",
      "tags": []
     },
     "output_type": "display_data"
    }
   ],
   "source": [
    "proc = [0,10,20,30,40,50,60,70,80,90]\n",
    "plt.rcParams['figure.figsize'] = 12, 12\n",
    "plt.rcParams.update({'font.size': 27})\n",
    "plt.rc('lines', linewidth=4)\n",
    "    \n",
    "    \n",
    "for lam in lamb:\n",
    "    plt.fill_between(proc, np.min(lam_results[lam], 0), np.max(lam_results[lam], 0), alpha=0.2)\n",
    "    plt.plot(proc, np.mean(lam_results[lam], 0), label='$\\lambda={}$'.format(lam))\n",
    "plt.ylabel('Точность классификации', fontsize = 27)\n",
    "plt.xlabel('Процент удаления', fontsize = 27)\n",
    "plt.tick_params(axis='both', which='major', labelsize=27)\n",
    "plt.legend(loc='lower left')\n",
    "plt.autoscale(enable=True, axis='x', tight=True)\n",
    "#plt.savefig('Hypernet_lowrank3 + 1')\n",
    "#plt.show()\n",
    "\n",
    "\n",
    "#%mldev plot_4"
   ]
  },
  {
   "cell_type": "code",
   "execution_count": 27,
   "metadata": {
    "colab": {
     "base_uri": "https://localhost:8080/"
    },
    "executionInfo": {
     "elapsed": 2605641,
     "status": "ok",
     "timestamp": 1621506748132,
     "user": {
      "displayName": "Руслан Кошкин",
      "photoUrl": "",
      "userId": "02826648336057215366"
     },
     "user_tz": -180
    },
    "id": "Koe1aYsnwHIe",
    "outputId": "85fb3afb-74e1-49b4-b08c-22cfa8614636"
   },
   "outputs": [
    {
     "name": "stderr",
     "output_type": "stream",
     "text": [
      "/usr/local/lib/python3.7/dist-packages/ipykernel_launcher.py:69: UserWarning: nn.init.xavier_uniform is now deprecated in favor of nn.init.xavier_uniform_.\n",
      "/usr/local/lib/python3.7/dist-packages/ipykernel_launcher.py:71: UserWarning: nn.init.xavier_uniform is now deprecated in favor of nn.init.xavier_uniform_.\n",
      "/usr/local/lib/python3.7/dist-packages/ipykernel_launcher.py:5: UserWarning: nn.init.xavier_uniform is now deprecated in favor of nn.init.xavier_uniform_.\n",
      "  \"\"\"\n",
      "finetune linear, lam:0.1 0.39203674: 100%|██████████| 938/938 [00:23<00:00, 40.32it/s]\n"
     ]
    },
    {
     "name": "stdout",
     "output_type": "stream",
     "text": [
      "nonzero params:  tensor(1.0000)\n",
      "nonzero params:  tensor(0.9000)\n",
      "nonzero params:  tensor(0.8000)\n",
      "nonzero params:  tensor(0.7000)\n",
      "nonzero params:  tensor(0.6000)\n",
      "nonzero params:  tensor(0.5000)\n",
      "nonzero params:  tensor(0.4000)\n",
      "nonzero params:  tensor(0.3000)\n",
      "nonzero params:  tensor(0.2000)\n",
      "nonzero params:  tensor(0.1000)\n"
     ]
    },
    {
     "name": "stderr",
     "output_type": "stream",
     "text": [
      "finetune linear, lam:1 0.2911772: 100%|██████████| 938/938 [00:21<00:00, 43.00it/s]\n"
     ]
    },
    {
     "name": "stdout",
     "output_type": "stream",
     "text": [
      "nonzero params:  tensor(1.0000)\n",
      "nonzero params:  tensor(0.9000)\n",
      "nonzero params:  tensor(0.8000)\n",
      "nonzero params:  tensor(0.7000)\n",
      "nonzero params:  tensor(0.6000)\n",
      "nonzero params:  tensor(0.5000)\n",
      "nonzero params:  tensor(0.4000)\n",
      "nonzero params:  tensor(0.3000)\n",
      "nonzero params:  tensor(0.2000)\n",
      "nonzero params:  tensor(0.1000)\n"
     ]
    },
    {
     "name": "stderr",
     "output_type": "stream",
     "text": [
      "finetune linear, lam:10 0.60780686: 100%|██████████| 938/938 [00:22<00:00, 42.49it/s]\n"
     ]
    },
    {
     "name": "stdout",
     "output_type": "stream",
     "text": [
      "nonzero params:  tensor(1.0000)\n",
      "nonzero params:  tensor(0.9000)\n",
      "nonzero params:  tensor(0.8000)\n",
      "nonzero params:  tensor(0.7000)\n",
      "nonzero params:  tensor(0.6000)\n",
      "nonzero params:  tensor(0.5000)\n",
      "nonzero params:  tensor(0.4000)\n",
      "nonzero params:  tensor(0.3000)\n",
      "nonzero params:  tensor(0.2000)\n",
      "nonzero params:  tensor(0.1000)\n"
     ]
    },
    {
     "name": "stderr",
     "output_type": "stream",
     "text": [
      "finetune linear, lam:100 1.6393541: 100%|██████████| 938/938 [00:22<00:00, 42.06it/s]\n"
     ]
    },
    {
     "name": "stdout",
     "output_type": "stream",
     "text": [
      "nonzero params:  tensor(0.9797)\n",
      "nonzero params:  tensor(0.9000)\n",
      "nonzero params:  tensor(0.8000)\n",
      "nonzero params:  tensor(0.7000)\n",
      "nonzero params:  tensor(0.6000)\n",
      "nonzero params:  tensor(0.5000)\n",
      "nonzero params:  tensor(0.4000)\n",
      "nonzero params:  tensor(0.3000)\n",
      "nonzero params:  tensor(0.2000)\n",
      "nonzero params:  tensor(0.1000)\n"
     ]
    }
   ],
   "source": [
    "hnet = VarSeqNet(VarLayerLinearAppr(784,  hidden_num), VarLayerLinearAppr(hidden_num, 10, act=lambda x:x))\n",
    "hnet = hnet.to(device)\n",
    "net = VarSeqNet(VarLayer(784,  hidden_num), VarLayer(hidden_num, 10, act=lambda x:x))\n",
    "net = net.to(device)\n",
    "t.manual_seed(0)    \n",
    "lam_results = {}\n",
    "for lam in lamb:\n",
    "    lam_results[lam] = []\n",
    "    for s in range(start_num):\n",
    "        hnet.load_state_dict(t.load(os.path.join('saved/', 'linear_start_{}.cpk'.format(s))))        \n",
    "        net_copy(hnet, net, lam)\n",
    "        \n",
    "        optim = t.optim.Adam(net.parameters(), lr=5e-4)\n",
    "        loss_fn = nn.CrossEntropyLoss().to(device)            \n",
    "        label = 'finetune linear, lam:{} '.format(lam)                \n",
    "        train_batches(net, loss_fn, optim, lam, label)        \n",
    "        lam_results[lam].append(delete_10(net))\n",
    "        \n",
    "#%mldev lam_results_4"
   ]
  },
  {
   "cell_type": "code",
   "execution_count": 28,
   "metadata": {
    "executionInfo": {
     "elapsed": 2605640,
     "status": "ok",
     "timestamp": 1621506748134,
     "user": {
      "displayName": "Руслан Кошкин",
      "photoUrl": "",
      "userId": "02826648336057215366"
     },
     "user_tz": -180
    },
    "id": "oVwqzIAewHIe"
   },
   "outputs": [],
   "source": [
    "import json\n",
    "with open('results_linear_finetune.json','w') as out:\n",
    "    out.write(json.dumps(lam_results))\n",
    "\n",
    "#%mldev new_results_linear"
   ]
  },
  {
   "cell_type": "code",
   "execution_count": 29,
   "metadata": {
    "colab": {
     "base_uri": "https://localhost:8080/",
     "height": 0
    },
    "executionInfo": {
     "elapsed": 2606271,
     "status": "ok",
     "timestamp": 1621506748772,
     "user": {
      "displayName": "Руслан Кошкин",
      "photoUrl": "",
      "userId": "02826648336057215366"
     },
     "user_tz": -180
    },
    "id": "dFvwM29ZwHIe",
    "outputId": "a34726a7-eb38-46ad-dfee-850db3732af1"
   },
   "outputs": [
    {
     "data": {
      "image/png": "[encoded data removed]",
      "text/plain": [
       "<Figure size 864x864 with 1 Axes>"
      ]
     },
     "metadata": {
      "needs_background": "light",
      "tags": []
     },
     "output_type": "display_data"
    }
   ],
   "source": [
    "proc = [0,10,20,30,40,50,60,70,80,90]\n",
    "plt.rcParams['figure.figsize'] = 12, 12\n",
    "plt.rcParams.update({'font.size': 27})\n",
    "plt.rc('lines', linewidth=4)\n",
    "    \n",
    "    \n",
    "for lam in lamb:\n",
    "    plt.fill_between(proc, np.min(lam_results[lam], 0), np.max(lam_results[lam], 0), alpha=0.2)\n",
    "    plt.plot(proc, np.mean(lam_results[lam], 0), label='$\\lambda={}$'.format(lam))\n",
    "plt.ylabel('Точность классификации', fontsize = 27)\n",
    "plt.xlabel('Процент удаления', fontsize = 27)\n",
    "plt.tick_params(axis='both', which='major', labelsize=27)\n",
    "plt.legend(loc='lower left')\n",
    "plt.autoscale(enable=True, axis='x', tight=True)\n",
    "#plt.savefig('Hypernet_lowrank3 + 1')\n",
    "#plt.show()\n",
    "\n",
    "\n",
    "#%mldev plot_resluts_linear"
   ]
  },
  {
   "cell_type": "code",
   "execution_count": 30,
   "metadata": {
    "colab": {
     "base_uri": "https://localhost:8080/"
    },
    "executionInfo": {
     "elapsed": 2697281,
     "status": "ok",
     "timestamp": 1621506839790,
     "user": {
      "displayName": "Руслан Кошкин",
      "photoUrl": "",
      "userId": "02826648336057215366"
     },
     "user_tz": -180
    },
    "id": "VqKv_qwDwHIe",
    "outputId": "c823e563-ade0-4ad8-98c3-eb52bd9d7e2b"
   },
   "outputs": [
    {
     "name": "stderr",
     "output_type": "stream",
     "text": [
      "/usr/local/lib/python3.7/dist-packages/ipykernel_launcher.py:5: UserWarning: nn.init.xavier_uniform is now deprecated in favor of nn.init.xavier_uniform_.\n",
      "  \"\"\"\n",
      "lambda 0.1 0.90501744: 100%|██████████| 938/938 [00:23<00:00, 40.48it/s]\n",
      "lambda 1 1.2232126: 100%|██████████| 938/938 [00:23<00:00, 40.00it/s]\n",
      "lambda 10 3.9350436: 100%|██████████| 938/938 [00:22<00:00, 41.31it/s]\n",
      "lambda 100 20.829199: 100%|██████████| 938/938 [00:22<00:00, 42.30it/s]\n"
     ]
    }
   ],
   "source": [
    "for lam in lamb:\n",
    "    t.manual_seed(0) \n",
    "    for start in range(start_num):                    \n",
    "            net = VarSeqNet(VarLayer(784,  hidden_num), VarLayer(hidden_num, 10, act=lambda x:x))\n",
    "            net = net.to(device)\n",
    "            optim = t.optim.Adam(net.parameters(), lr=5e-4)\n",
    "            loss_fn = nn.CrossEntropyLoss().to(device)                        \n",
    "            label = 'lambda {} '.format(lam)                \n",
    "            train_batches(net, loss_fn, optim, lam, label)\n",
    "            t.save(net.state_dict(), os.path.join(path_to_save, 'var_1e_net_lam_{}_start_{}.cpk'.format(lam, start)))\n",
    "\n",
    "#%mldev train_batches_again"
   ]
  },
  {
   "cell_type": "code",
   "execution_count": 31,
   "metadata": {
    "colab": {
     "base_uri": "https://localhost:8080/"
    },
    "executionInfo": {
     "elapsed": 2763689,
     "status": "ok",
     "timestamp": 1621506906206,
     "user": {
      "displayName": "Руслан Кошкин",
      "photoUrl": "",
      "userId": "02826648336057215366"
     },
     "user_tz": -180
    },
    "id": "hS57zuBFwHIf",
    "outputId": "3bc2242f-e10b-4884-824e-106dc63d537e"
   },
   "outputs": [
    {
     "name": "stdout",
     "output_type": "stream",
     "text": [
      "0.1 0\n",
      "nonzero params:  tensor(1.0000)\n",
      "nonzero params:  tensor(0.9000)\n",
      "nonzero params:  tensor(0.8000)\n",
      "nonzero params:  tensor(0.7000)\n",
      "nonzero params:  tensor(0.6000)\n",
      "nonzero params:  tensor(0.5000)\n",
      "nonzero params:  tensor(0.4000)\n",
      "nonzero params:  tensor(0.3000)\n",
      "nonzero params:  tensor(0.2000)\n",
      "nonzero params:  tensor(0.1000)\n",
      "1 0\n",
      "nonzero params:  tensor(1.0000)\n",
      "nonzero params:  tensor(0.9000)\n",
      "nonzero params:  tensor(0.8000)\n",
      "nonzero params:  tensor(0.7000)\n",
      "nonzero params:  tensor(0.6000)\n",
      "nonzero params:  tensor(0.5000)\n",
      "nonzero params:  tensor(0.4000)\n",
      "nonzero params:  tensor(0.3000)\n",
      "nonzero params:  tensor(0.2000)\n",
      "nonzero params:  tensor(0.1000)\n",
      "10 0\n",
      "nonzero params:  tensor(1.0000)\n",
      "nonzero params:  tensor(0.9000)\n",
      "nonzero params:  tensor(0.8000)\n",
      "nonzero params:  tensor(0.7000)\n",
      "nonzero params:  tensor(0.6000)\n",
      "nonzero params:  tensor(0.5000)\n",
      "nonzero params:  tensor(0.4000)\n",
      "nonzero params:  tensor(0.3000)\n",
      "nonzero params:  tensor(0.2000)\n",
      "nonzero params:  tensor(0.1000)\n",
      "100 0\n",
      "nonzero params:  tensor(1.0000)\n",
      "nonzero params:  tensor(0.9000)\n",
      "nonzero params:  tensor(0.8000)\n",
      "nonzero params:  tensor(0.7000)\n",
      "nonzero params:  tensor(0.6000)\n",
      "nonzero params:  tensor(0.5000)\n",
      "nonzero params:  tensor(0.4000)\n",
      "nonzero params:  tensor(0.3000)\n",
      "nonzero params:  tensor(0.2000)\n",
      "nonzero params:  tensor(0.1000)\n"
     ]
    }
   ],
   "source": [
    "lam_results = {}\n",
    "for lam in lamb:\n",
    "    lam_results[lam] = []\n",
    "    for s in range(start_num):\n",
    "        print (lam, s)\n",
    "        net.load_state_dict(t.load(os.path.join('saved/', 'var_1e_net_lam_{}_start_{}.cpk'.format(lam, s))))\n",
    "        lam_results[lam].append(delete_10(net))\n",
    "#%mldev save_results"
   ]
  },
  {
   "cell_type": "code",
   "execution_count": 32,
   "metadata": {
    "executionInfo": {
     "elapsed": 2763689,
     "status": "ok",
     "timestamp": 1621506906208,
     "user": {
      "displayName": "Руслан Кошкин",
      "photoUrl": "",
      "userId": "02826648336057215366"
     },
     "user_tz": -180
    },
    "id": "Fe5S3uLrwHIf"
   },
   "outputs": [],
   "source": [
    "import json\n",
    "with open('results_1e.json','w') as out:\n",
    "    out.write(json.dumps(lam_results))\n",
    "#%mldev save_results_1e"
   ]
  },
  {
   "cell_type": "code",
   "execution_count": 33,
   "metadata": {
    "colab": {
     "base_uri": "https://localhost:8080/",
     "height": 0
    },
    "executionInfo": {
     "elapsed": 2764402,
     "status": "ok",
     "timestamp": 1621506906929,
     "user": {
      "displayName": "Руслан Кошкин",
      "photoUrl": "",
      "userId": "02826648336057215366"
     },
     "user_tz": -180
    },
    "id": "wk4o-JsJwHIf",
    "outputId": "a6cd6f40-b093-4d49-8114-854867936a4b"
   },
   "outputs": [
    {
     "data": {
      "image/png": "[encoded data removed]",
      "text/plain": [
       "<Figure size 864x864 with 1 Axes>"
      ]
     },
     "metadata": {
      "needs_background": "light",
      "tags": []
     },
     "output_type": "display_data"
    }
   ],
   "source": [
    "proc = [0,10,20,30,40,50,60,70,80,90]\n",
    "plt.rcParams['figure.figsize'] = 12, 12\n",
    "plt.rcParams.update({'font.size': 27})\n",
    "plt.rc('lines', linewidth=4)\n",
    "    \n",
    "    \n",
    "for lam in lamb:\n",
    "    plt.fill_between(proc, np.min(lam_results[lam], 0), np.max(lam_results[lam], 0), alpha=0.2)\n",
    "    plt.plot(proc, np.mean(lam_results[lam], 0), label='$\\lambda={}$'.format(lam))\n",
    "plt.ylabel('Точность классификации', fontsize = 27)\n",
    "plt.xlabel('Процент удаления', fontsize = 27)\n",
    "plt.tick_params(axis='both', which='major', labelsize=27)\n",
    "plt.legend(loc='lower left')\n",
    "plt.autoscale(enable=True, axis='x', tight=True)\n",
    "#plt.savefig('Hypernet_lowrank3 + 1')\n",
    "#plt.show()\n",
    "\n",
    "#%mldev plot_results_1e"
   ]
  },
  {
   "cell_type": "code",
   "execution_count": 34,
   "metadata": {
    "colab": {
     "base_uri": "https://localhost:8080/"
    },
    "executionInfo": {
     "elapsed": 2764392,
     "status": "ok",
     "timestamp": 1621506906930,
     "user": {
      "displayName": "Руслан Кошкин",
      "photoUrl": "",
      "userId": "02826648336057215366"
     },
     "user_tz": -180
    },
    "id": "MjOHgVV9wHIf",
    "outputId": "560ab736-b91f-44f3-b4f1-f507f5d40f8e"
   },
   "outputs": [
    {
     "name": "stdout",
     "output_type": "stream",
     "text": [
      "mode: results_var\n",
      "0.1 0.88454 0.15511966477529532\n",
      "1 0.88429 0.13546377707712126\n",
      "10 0.86743 0.04628153087355689\n",
      "100 0.7244900000000001 0.03357830996342729\n",
      "\n",
      "mode: results_1e\n",
      "0.1 0.8246499999999999 0.13216414982891542\n",
      "1 0.8290199999999999 0.13119023439265592\n",
      "10 0.82585 0.11772985390290774\n",
      "100 0.7199899999999999 0.13454075553526523\n",
      "\n",
      "mode: results_lowrank\n",
      "0.1 0.85992 0.03876621725162258\n",
      "1 0.86082 0.03822964294889504\n",
      "10 0.8557300000000001 0.028974611300240066\n",
      "100 0.79599 0.04214590015648022\n",
      "\n",
      "mode: results_linear\n",
      "0.1 0.8765499999999999 0.0637800478206155\n",
      "1 0.8760200000000001 0.06368905400459328\n",
      "10 0.86984 0.06380312218065821\n",
      "100 0.6896500000000001 0.03513938673340785\n",
      "\n",
      "mode: results_lowrank_finetune\n",
      "0.1 0.8800500000000001 0.039689501130651665\n",
      "1 0.8976600000000001 0.03886919602976115\n",
      "10 0.8838000000000001 0.039855865314906924\n",
      "100 0.8369500000000001 0.036236838990176844\n",
      "\n",
      "mode: results_linear_finetune\n",
      "0.1 0.8930700000000001 0.06331971336005873\n",
      "1 0.8889400000000001 0.08369503211063366\n",
      "10 0.87087 0.06973904286696228\n",
      "100 0.8186 0.05704237021723412\n",
      "\n"
     ]
    }
   ],
   "source": [
    "#calculating accuracy\n",
    "for mode in ['results_var','results_1e', 'results_lowrank', 'results_linear', 'results_lowrank_finetune', 'results_linear_finetune']:\n",
    "    print ('mode:', mode)\n",
    "    with open(mode+'.json') as inp:\n",
    "        data = json.loads(inp.read())\n",
    "    for lam in lamb:\n",
    "        lam = str(lam)\n",
    "        print (lam, np.mean(data[lam][0]), np.std(data[lam][0]))\n",
    "    print()\n",
    "\n",
    "#%mldev check_all_results"
   ]
  },
  {
   "cell_type": "code",
   "execution_count": 35,
   "metadata": {
    "colab": {
     "base_uri": "https://localhost:8080/"
    },
    "executionInfo": {
     "elapsed": 2764385,
     "status": "ok",
     "timestamp": 1621506906931,
     "user": {
      "displayName": "Руслан Кошкин",
      "photoUrl": "",
      "userId": "02826648336057215366"
     },
     "user_tz": -180
    },
    "id": "gq5Wisl-wHIg",
    "outputId": "152c6bc1-6b55-40d8-8b68-23437fcbf938"
   },
   "outputs": [
    {
     "name": "stdout",
     "output_type": "stream",
     "text": [
      "mode: results_var\n",
      "0.1 2.082830025884383 0.0\n",
      "1 1.8733555860985667 0.0\n",
      "10 1.2129416542574794 0.0\n",
      "100 1.1471681284376396 0.0\n",
      "\n",
      "mode: results_1e\n",
      "0.1 1.996662958843159 0.0\n",
      "1 1.9955426788500112 0.0\n",
      "10 1.8350665557404326 0.0\n",
      "100 2.266666666666667 0.0\n",
      "\n",
      "mode: results_lowrank\n",
      "0.1 1.1770540142072108 0.0\n",
      "1 1.174662568488574 0.0\n",
      "10 1.1329959776826262 0.0\n",
      "100 1.2232592592592593 0.0\n",
      "\n",
      "mode: results_linear\n",
      "0.1 1.2851513019000704 0.0\n",
      "1 1.2834013796987187 0.0\n",
      "10 1.2840312278211496 0.0\n",
      "100 1.1909167367535742 0.0\n",
      "\n",
      "mode: results_lowrank_finetune\n",
      "0.1 1.1776590198123045 0.0\n",
      "1 1.1630628338845077 0.0\n",
      "10 1.174538793667408 0.0\n",
      "100 1.1657284086228203 0.0\n",
      "\n",
      "mode: results_linear_finetune\n",
      "0.1 1.2741625480505216 0.0\n",
      "1 1.3738084763161755 0.0\n",
      "10 1.3135103926096998 0.0\n",
      "100 1.2784177023340406 0.0\n",
      "\n"
     ]
    }
   ],
   "source": [
    "#calculating stability\n",
    "for mode in ['results_var','results_1e', 'results_lowrank', 'results_linear', 'results_lowrank_finetune', 'results_linear_finetune']:\n",
    "    print ('mode:', mode)\n",
    "    with open(mode+'.json') as inp:\n",
    "        data = json.loads(inp.read())\n",
    "        \n",
    "    for lam in lamb:\n",
    "        lam = str(lam)\n",
    "        v_0 = np.array(data[lam])[:,0]\n",
    "        v_last = np.array(data[lam])[:,-1]\n",
    "        \n",
    "        stab = v_0/v_last\n",
    "        print (lam, np.mean(stab), np.std(stab))\n",
    "    print()\n",
    "\n",
    "#%mldev calc_stab"
   ]
  },
  {
   "cell_type": "code",
   "execution_count": 36,
   "metadata": {
    "colab": {
     "base_uri": "https://localhost:8080/"
    },
    "executionInfo": {
     "elapsed": 2809516,
     "status": "ok",
     "timestamp": 1621506952070,
     "user": {
      "displayName": "Руслан Кошкин",
      "photoUrl": "",
      "userId": "02826648336057215366"
     },
     "user_tz": -180
    },
    "id": "uWxNV2fSwHIg",
    "outputId": "4a189868-0e0d-46cd-be00-662fd2147a57"
   },
   "outputs": [
    {
     "name": "stdout",
     "output_type": "stream",
     "text": [
      "ordinal model\n"
     ]
    },
    {
     "name": "stderr",
     "output_type": "stream",
     "text": [
      "/usr/local/lib/python3.7/dist-packages/ipykernel_launcher.py:5: UserWarning: nn.init.xavier_uniform is now deprecated in favor of nn.init.xavier_uniform_.\n",
      "  \"\"\"\n"
     ]
    },
    {
     "name": "stdout",
     "output_type": "stream",
     "text": [
      "0.1 11636.422167110442\n",
      "1 28454.74894952774\n",
      "10 67300.60690879822\n",
      "100 127862.57944107056\n"
     ]
    }
   ],
   "source": [
    "print ('ordinal model')\n",
    "net = VarSeqNet(VarLayer(784,  hidden_num), VarLayer(hidden_num, 10, act=lambda x:x)).to(device)\n",
    "loss_fn = nn.CrossEntropyLoss().to(device)   \n",
    "\n",
    "for lam in lamb:\n",
    "    lam_results[lam] = []\n",
    "    k = []\n",
    "    ll = []\n",
    "    for s in range(start_num):        \n",
    "        net.load_state_dict(t.load(os.path.join('saved/', 'var_net_lam_{}_start_{}.cpk'.format(lam, s))))                 \n",
    "        t.manual_seed(0)\n",
    "        k+= [net.KLD().cpu().detach().numpy()]\n",
    "        for x,y in train_loader:\n",
    "            x = x.to(device)\n",
    "            y = y.to(device)\n",
    "            ll += [loss_fn(net(x), y).cpu().detach().numpy()]\n",
    "    print (lam, np.mean(ll)*len(train_data) + lam * np.mean(k))\n",
    "            \n",
    "#%mldev ordinal_model"
   ]
  },
  {
   "cell_type": "code",
   "execution_count": 37,
   "metadata": {
    "colab": {
     "base_uri": "https://localhost:8080/"
    },
    "executionInfo": {
     "elapsed": 2854580,
     "status": "ok",
     "timestamp": 1621506997143,
     "user": {
      "displayName": "Руслан Кошкин",
      "photoUrl": "",
      "userId": "02826648336057215366"
     },
     "user_tz": -180
    },
    "id": "bo1yCFZBwHIg",
    "outputId": "429c6add-5fbb-418d-c276-38e715b272a3"
   },
   "outputs": [
    {
     "name": "stdout",
     "output_type": "stream",
     "text": [
      "1e model\n"
     ]
    },
    {
     "name": "stderr",
     "output_type": "stream",
     "text": [
      "/usr/local/lib/python3.7/dist-packages/ipykernel_launcher.py:5: UserWarning: nn.init.xavier_uniform is now deprecated in favor of nn.init.xavier_uniform_.\n",
      "  \"\"\"\n"
     ]
    },
    {
     "name": "stdout",
     "output_type": "stream",
     "text": [
      "0.1 31847.787357139587\n",
      "1 51028.57569313049\n",
      "10 189892.44519233704\n",
      "100 724184.2309951782\n"
     ]
    }
   ],
   "source": [
    "print ('1e model')\n",
    "net = VarSeqNet(VarLayer(784,  hidden_num), VarLayer(hidden_num, 10, act=lambda x:x)).to(device)\n",
    "loss_fn = nn.CrossEntropyLoss().to(device)   \n",
    "\n",
    "for lam in lamb:\n",
    "    lam_results[lam] = []\n",
    "    k = []\n",
    "    ll = []\n",
    "    for s in range(start_num):        \n",
    "        net.load_state_dict(t.load(os.path.join('saved/', 'var_1e_net_lam_{}_start_{}.cpk'.format(lam, s))))                 \n",
    "        t.manual_seed(0)\n",
    "        k+= [net.KLD().cpu().detach().numpy()]\n",
    "        for x,y in train_loader:\n",
    "            x = x.to(device)\n",
    "            y = y.to(device)\n",
    "            ll += [loss_fn(net(x), y).cpu().detach().numpy()]\n",
    "    print (lam, np.mean(ll)*len(train_data) + lam * np.mean(k))\n",
    "            \n",
    "#%mldev 1e_model"
   ]
  },
  {
   "cell_type": "code",
   "execution_count": 38,
   "metadata": {
    "colab": {
     "base_uri": "https://localhost:8080/"
    },
    "executionInfo": {
     "elapsed": 3033546,
     "status": "ok",
     "timestamp": 1621507176116,
     "user": {
      "displayName": "Руслан Кошкин",
      "photoUrl": "",
      "userId": "02826648336057215366"
     },
     "user_tz": -180
    },
    "id": "fiq0bmSkwHIh",
    "outputId": "90651cf4-cecc-4057-a5fd-99d0cb432cd4",
    "scrolled": true
   },
   "outputs": [
    {
     "name": "stdout",
     "output_type": "stream",
     "text": [
      "lr model\n"
     ]
    },
    {
     "name": "stderr",
     "output_type": "stream",
     "text": [
      "/usr/local/lib/python3.7/dist-packages/ipykernel_launcher.py:5: UserWarning: nn.init.xavier_uniform is now deprecated in favor of nn.init.xavier_uniform_.\n",
      "  \"\"\"\n",
      "/usr/local/lib/python3.7/dist-packages/ipykernel_launcher.py:6: UserWarning: nn.init.xavier_uniform is now deprecated in favor of nn.init.xavier_uniform_.\n",
      "  \n",
      "/usr/local/lib/python3.7/dist-packages/ipykernel_launcher.py:27: UserWarning: nn.init.xavier_uniform is now deprecated in favor of nn.init.xavier_uniform_.\n",
      "/usr/local/lib/python3.7/dist-packages/ipykernel_launcher.py:30: UserWarning: nn.init.xavier_uniform is now deprecated in favor of nn.init.xavier_uniform_.\n",
      "/usr/local/lib/python3.7/dist-packages/ipykernel_launcher.py:33: UserWarning: nn.init.xavier_uniform is now deprecated in favor of nn.init.xavier_uniform_.\n",
      "/usr/local/lib/python3.7/dist-packages/ipykernel_launcher.py:21: UserWarning: nn.init.xavier_uniform is now deprecated in favor of nn.init.xavier_uniform_.\n"
     ]
    },
    {
     "name": "stdout",
     "output_type": "stream",
     "text": [
      "0.1 32748.416359710693\n",
      "1 35721.01872253418\n",
      "10 58386.29849433899\n"
     ]
    },
    {
     "name": "stderr",
     "output_type": "stream",
     "text": [
      "lambda 100 0.53805435:   1%|          | 5/938 [00:00<00:19, 46.66it/s]"
     ]
    },
    {
     "name": "stdout",
     "output_type": "stream",
     "text": [
      "100 184449.08323287964\n",
      "lr ft model\n"
     ]
    },
    {
     "name": "stderr",
     "output_type": "stream",
     "text": [
      "lambda 100 0.46290913: 100%|██████████| 938/938 [00:22<00:00, 42.35it/s]\n",
      "lambda 100 0.5866074:   1%|          | 5/938 [00:00<00:19, 46.79it/s] "
     ]
    },
    {
     "name": "stdout",
     "output_type": "stream",
     "text": [
      "0.1 25674.737982940675\n"
     ]
    },
    {
     "name": "stderr",
     "output_type": "stream",
     "text": [
      "lambda 100 0.52789026: 100%|██████████| 938/938 [00:21<00:00, 42.64it/s]\n",
      "lambda 100 0.9470822:   1%|          | 5/938 [00:00<00:20, 44.87it/s]"
     ]
    },
    {
     "name": "stdout",
     "output_type": "stream",
     "text": [
      "1 30339.555904388428\n"
     ]
    },
    {
     "name": "stderr",
     "output_type": "stream",
     "text": [
      "lambda 100 0.9470242: 100%|██████████| 938/938 [00:22<00:00, 42.26it/s]\n",
      "lambda 100 3.106627:   1%|          | 5/938 [00:00<00:20, 44.47it/s] "
     ]
    },
    {
     "name": "stdout",
     "output_type": "stream",
     "text": [
      "10 57720.34362792969\n"
     ]
    },
    {
     "name": "stderr",
     "output_type": "stream",
     "text": [
      "lambda 100 2.421834: 100%|██████████| 938/938 [00:22<00:00, 41.24it/s]\n"
     ]
    },
    {
     "name": "stdout",
     "output_type": "stream",
     "text": [
      "100 139647.32370376587\n"
     ]
    }
   ],
   "source": [
    "print ('lr model')\n",
    "net = VarSeqNet(VarLayer(784,  hidden_num), VarLayer(hidden_num, 10, act=lambda x:x)).to(device)\n",
    "hnet = VarSeqNet(VarLayerLowRank(784,  hidden_num), VarLayerLowRank(hidden_num, 10, act=lambda x:x)).to(device)\n",
    "loss_fn = nn.CrossEntropyLoss().to(device)   \n",
    "\n",
    "for lam in lamb:\n",
    "    lam_results[lam] = []\n",
    "    k = []\n",
    "    ll = []\n",
    "    for s in range(start_num):     \n",
    "        hnet.load_state_dict(t.load(os.path.join('saved/', 'lowrank_start_{}.cpk'.format(s))))        \n",
    "        net_copy(hnet, net, lam)\n",
    "        t.manual_seed(0)\n",
    "        k+= [net.KLD().cpu().detach().numpy()]\n",
    "        for x,y in train_loader:\n",
    "            x = x.to(device)\n",
    "            y = y.to(device)\n",
    "            ll += [loss_fn(net(x), y).cpu().detach().numpy()]\n",
    "    print (lam, np.mean(ll)*len(train_data) + lam * np.mean(k))\n",
    "            \n",
    "print ('lr ft model')\n",
    "for lam in lamb:\n",
    "    lam_results[lam] = []\n",
    "    k = []\n",
    "    ll = []\n",
    "    for s in range(start_num):     \n",
    "        hnet.load_state_dict(t.load(os.path.join('saved/', 'lowrank_start_{}.cpk'.format(s))))        \n",
    "        net_copy(hnet, net, lam)\n",
    "        t.manual_seed(0)\n",
    "        optim = t.optim.Adam(net.parameters(), lr=5e-4)        \n",
    "        train_batches(net, loss_fn, optim, lam, label)   \n",
    "        \n",
    "        k+= [net.KLD().cpu().detach().numpy()]\n",
    "        for x,y in train_loader:\n",
    "            x = x.to(device)\n",
    "            y = y.to(device)\n",
    "            ll += [loss_fn(net(x), y).cpu().detach().numpy()]  \n",
    "        \n",
    "    print (lam, np.mean(ll)*len(train_data) + lam * np.mean(k))\n",
    "            \n",
    "#%mldev lr_model"
   ]
  },
  {
   "cell_type": "code",
   "execution_count": 39,
   "metadata": {
    "colab": {
     "base_uri": "https://localhost:8080/"
    },
    "executionInfo": {
     "elapsed": 3212561,
     "status": "ok",
     "timestamp": 1621507355141,
     "user": {
      "displayName": "Руслан Кошкин",
      "photoUrl": "",
      "userId": "02826648336057215366"
     },
     "user_tz": -180
    },
    "id": "OuPRBHS5wHIh",
    "outputId": "f77ded80-3eb8-4854-f986-7eb9e480622a"
   },
   "outputs": [
    {
     "name": "stdout",
     "output_type": "stream",
     "text": [
      "linear model\n"
     ]
    },
    {
     "name": "stderr",
     "output_type": "stream",
     "text": [
      "/usr/local/lib/python3.7/dist-packages/ipykernel_launcher.py:5: UserWarning: nn.init.xavier_uniform is now deprecated in favor of nn.init.xavier_uniform_.\n",
      "  \"\"\"\n",
      "/usr/local/lib/python3.7/dist-packages/ipykernel_launcher.py:69: UserWarning: nn.init.xavier_uniform is now deprecated in favor of nn.init.xavier_uniform_.\n",
      "/usr/local/lib/python3.7/dist-packages/ipykernel_launcher.py:71: UserWarning: nn.init.xavier_uniform is now deprecated in favor of nn.init.xavier_uniform_.\n"
     ]
    },
    {
     "name": "stdout",
     "output_type": "stream",
     "text": [
      "0.1 26009.872548484804\n",
      "1 30307.931462287903\n",
      "10 65435.2241230011\n"
     ]
    },
    {
     "name": "stderr",
     "output_type": "stream",
     "text": [
      "lambda 100 0.40790287:   1%|          | 5/938 [00:00<00:19, 47.26it/s]"
     ]
    },
    {
     "name": "stdout",
     "output_type": "stream",
     "text": [
      "100 219454.20665740967\n",
      "lr ft model\n"
     ]
    },
    {
     "name": "stderr",
     "output_type": "stream",
     "text": [
      "lambda 100 0.39203674: 100%|██████████| 938/938 [00:22<00:00, 41.95it/s]\n",
      "lambda 100 0.46746227:   1%|          | 5/938 [00:00<00:20, 45.25it/s]"
     ]
    },
    {
     "name": "stdout",
     "output_type": "stream",
     "text": [
      "0.1 21276.391169166563\n"
     ]
    },
    {
     "name": "stderr",
     "output_type": "stream",
     "text": [
      "lambda 100 0.48223406: 100%|██████████| 938/938 [00:22<00:00, 41.84it/s]\n",
      "lambda 100 1.0660293:   1%|          | 5/938 [00:00<00:21, 42.59it/s]"
     ]
    },
    {
     "name": "stdout",
     "output_type": "stream",
     "text": [
      "1 27620.042120933533\n"
     ]
    },
    {
     "name": "stderr",
     "output_type": "stream",
     "text": [
      "lambda 100 1.0551317: 100%|██████████| 938/938 [00:22<00:00, 41.91it/s]\n",
      "lambda 100 3.6026683:   1%|          | 5/938 [00:00<00:20, 45.41it/s]"
     ]
    },
    {
     "name": "stdout",
     "output_type": "stream",
     "text": [
      "10 62135.320167541504\n"
     ]
    },
    {
     "name": "stderr",
     "output_type": "stream",
     "text": [
      "lambda 100 2.6037238: 100%|██████████| 938/938 [00:22<00:00, 42.41it/s]\n"
     ]
    },
    {
     "name": "stdout",
     "output_type": "stream",
     "text": [
      "100 139354.55255508423\n"
     ]
    }
   ],
   "source": [
    "print ('linear model')\n",
    "net = VarSeqNet(VarLayer(784,  hidden_num), VarLayer(hidden_num, 10, act=lambda x:x)).to(device)\n",
    "hnet = VarSeqNet(VarLayerLinearAppr(784,  hidden_num), VarLayerLinearAppr(hidden_num, 10, act=lambda x:x)).to(device)\n",
    "loss_fn = nn.CrossEntropyLoss().to(device)   \n",
    "\n",
    "for lam in lamb:\n",
    "    lam_results[lam] = []\n",
    "    k = []\n",
    "    ll = []\n",
    "    for s in range(start_num):     \n",
    "        hnet.load_state_dict(t.load(os.path.join('saved/', 'linear_start_{}.cpk'.format(s))))        \n",
    "        net_copy(hnet, net, lam)\n",
    "        t.manual_seed(0)\n",
    "        k+= [net.KLD().cpu().detach().numpy()]\n",
    "        for x,y in train_loader:\n",
    "            x = x.to(device)\n",
    "            y = y.to(device)\n",
    "            ll += [loss_fn(net(x), y).cpu().detach().numpy()]\n",
    "    print (lam, np.mean(ll)*len(train_data) + lam * np.mean(k))\n",
    "            \n",
    "print ('lr ft model')\n",
    "for lam in lamb:\n",
    "    lam_results[lam] = []\n",
    "    k = []\n",
    "    ll = []\n",
    "    for s in range(start_num):     \n",
    "        hnet.load_state_dict(t.load(os.path.join('saved/', 'linear_start_{}.cpk'.format(s))))        \n",
    "        net_copy(hnet, net, lam)\n",
    "        t.manual_seed(0)\n",
    "        optim = t.optim.Adam(net.parameters(), lr=5e-4)        \n",
    "        train_batches(net, loss_fn, optim, lam, label)   \n",
    "        \n",
    "        k+= [net.KLD().cpu().detach().numpy()]\n",
    "        for x,y in train_loader:\n",
    "            x = x.to(device)\n",
    "            y = y.to(device)\n",
    "            ll += [loss_fn(net(x), y).cpu().detach().numpy()]  \n",
    "        \n",
    "    print (lam, np.mean(ll)*len(train_data) + lam * np.mean(k))\n",
    "            \n",
    "#%mldev linear_model   "
   ]
  },
  {
   "cell_type": "code",
   "execution_count": 40,
   "metadata": {
    "colab": {
     "base_uri": "https://localhost:8080/"
    },
    "executionInfo": {
     "elapsed": 3212552,
     "status": "ok",
     "timestamp": 1621507355143,
     "user": {
      "displayName": "Руслан Кошкин",
      "photoUrl": "",
      "userId": "02826648336057215366"
     },
     "user_tz": -180
    },
    "id": "mKlf96jJwHIh",
    "outputId": "9dc664f3-a13a-4d49-fbaf-93418fdc9dda"
   },
   "outputs": [
    {
     "name": "stdout",
     "output_type": "stream",
     "text": [
      "ordinal 2983590400\n",
      "1e 298359040\n",
      "low rank 1666150640\n",
      "low rank finetune 1740740400\n",
      "linear 1491795200\n",
      "linear fine tune 1566384960\n"
     ]
    },
    {
     "name": "stderr",
     "output_type": "stream",
     "text": [
      "/usr/local/lib/python3.7/dist-packages/ipykernel_launcher.py:5: UserWarning: nn.init.xavier_uniform is now deprecated in favor of nn.init.xavier_uniform_.\n",
      "  \"\"\"\n",
      "/usr/local/lib/python3.7/dist-packages/ipykernel_launcher.py:6: UserWarning: nn.init.xavier_uniform is now deprecated in favor of nn.init.xavier_uniform_.\n",
      "  \n",
      "/usr/local/lib/python3.7/dist-packages/ipykernel_launcher.py:27: UserWarning: nn.init.xavier_uniform is now deprecated in favor of nn.init.xavier_uniform_.\n",
      "/usr/local/lib/python3.7/dist-packages/ipykernel_launcher.py:30: UserWarning: nn.init.xavier_uniform is now deprecated in favor of nn.init.xavier_uniform_.\n",
      "/usr/local/lib/python3.7/dist-packages/ipykernel_launcher.py:33: UserWarning: nn.init.xavier_uniform is now deprecated in favor of nn.init.xavier_uniform_.\n",
      "/usr/local/lib/python3.7/dist-packages/ipykernel_launcher.py:21: UserWarning: nn.init.xavier_uniform is now deprecated in favor of nn.init.xavier_uniform_.\n",
      "/usr/local/lib/python3.7/dist-packages/ipykernel_launcher.py:69: UserWarning: nn.init.xavier_uniform is now deprecated in favor of nn.init.xavier_uniform_.\n",
      "/usr/local/lib/python3.7/dist-packages/ipykernel_launcher.py:71: UserWarning: nn.init.xavier_uniform is now deprecated in favor of nn.init.xavier_uniform_.\n"
     ]
    }
   ],
   "source": [
    "# количество оптимизаций параметров\n",
    "# количество батчей * количество эпох * количество параметров, домноженное на количество элементов в lamb\n",
    "net = VarSeqNet(VarLayer(784,  hidden_num), VarLayer(hidden_num, 10, act=lambda x:x))\n",
    "p_num = 0\n",
    "for p in net.parameters():\n",
    "    size = p.size()\n",
    "    if len(size)==1:\n",
    "        p_num += size[0]\n",
    "    elif len(size) == 2:\n",
    "        p_num += np.prod(size)    \n",
    "p_num_var = p_num\n",
    "\n",
    "print ('ordinal', len(train_loader)*epoch_num*(p_num)*len(lamb))\n",
    "print ('1e', len(train_loader)*p_num * len(lamb))\n",
    "\n",
    "hnet = VarSeqNet(VarLayerLowRank(784,  hidden_num), VarLayerLowRank(hidden_num, 10, act=lambda x:x))\n",
    "p_num = 0\n",
    "for p in hnet.parameters():\n",
    "    size = p.size()\n",
    "    if len(size)==1:\n",
    "        p_num += size[0]\n",
    "    elif len(size) == 2:\n",
    "        p_num += np.prod(size)    \n",
    "    \n",
    "print ('low rank', len(train_loader)*epoch_num*(p_num))\n",
    "print ('low rank finetune', len(train_loader)*epoch_num*(p_num) + len(train_loader)*p_num_var)\n",
    "\n",
    "hnet = VarSeqNet(VarLayerLinearAppr(784,  hidden_num), VarLayerLinearAppr(hidden_num, 10, act=lambda x:x))\n",
    "p_num = 0\n",
    "for p in hnet.parameters():\n",
    "    size = p.size()\n",
    "    if len(size)==1:\n",
    "        p_num += size[0]\n",
    "    elif len(size) == 2:\n",
    "        p_num += np.prod(size)    \n",
    "    \n",
    "print ('linear', len(train_loader)*epoch_num*(p_num))\n",
    "print ('linear fine tune', len(train_loader)*epoch_num*(p_num) + len(train_loader)*p_num_var)\n",
    "\n",
    "#%mldev batches"
   ]
  },
  {
   "cell_type": "code",
   "execution_count": 41,
   "metadata": {
    "colab": {
     "base_uri": "https://localhost:8080/"
    },
    "executionInfo": {
     "elapsed": 3212545,
     "status": "ok",
     "timestamp": 1621507355143,
     "user": {
      "displayName": "Руслан Кошкин",
      "photoUrl": "",
      "userId": "02826648336057215366"
     },
     "user_tz": -180
    },
    "id": "gsZUo83zwHIi",
    "outputId": "c602f39f-533a-4e28-9263-a87b9a201976"
   },
   "outputs": [
    {
     "name": "stdout",
     "output_type": "stream",
     "text": [
      "mode: results_var\n",
      "0.1 0.88454 0.15511966477529532\n",
      "1 0.88429 0.13546377707712126\n",
      "10 0.86743 0.04628153087355689\n",
      "100 0.7244900000000001 0.03357830996342729\n",
      "\n",
      "mode: results_1e\n",
      "0.1 0.8246499999999999 0.13216414982891542\n",
      "1 0.8290199999999999 0.13119023439265592\n",
      "10 0.82585 0.11772985390290774\n",
      "100 0.7199899999999999 0.13454075553526523\n",
      "\n",
      "mode: results_lowrank\n",
      "0.1 0.85992 0.03876621725162258\n",
      "1 0.86082 0.03822964294889504\n",
      "10 0.8557300000000001 0.028974611300240066\n",
      "100 0.79599 0.04214590015648022\n",
      "\n",
      "mode: results_linear\n",
      "0.1 0.8765499999999999 0.0637800478206155\n",
      "1 0.8760200000000001 0.06368905400459328\n",
      "10 0.86984 0.06380312218065821\n",
      "100 0.6896500000000001 0.03513938673340785\n",
      "\n",
      "mode: results_lowrank_finetune\n",
      "0.1 0.8800500000000001 0.039689501130651665\n",
      "1 0.8976600000000001 0.03886919602976115\n",
      "10 0.8838000000000001 0.039855865314906924\n",
      "100 0.8369500000000001 0.036236838990176844\n",
      "\n",
      "mode: results_linear_finetune\n",
      "0.1 0.8930700000000001 0.06331971336005873\n",
      "1 0.8889400000000001 0.08369503211063366\n",
      "10 0.87087 0.06973904286696228\n",
      "100 0.8186 0.05704237021723412\n",
      "\n"
     ]
    }
   ],
   "source": [
    "#new plots\n",
    "for mode in ['results_var','results_1e', 'results_lowrank', 'results_linear', 'results_lowrank_finetune', 'results_linear_finetune']:\n",
    "    print ('mode:', mode)\n",
    "    with open(mode+'.json') as inp:\n",
    "        data = json.loads(inp.read())\n",
    "    for lam in lamb:\n",
    "        lam = str(lam)\n",
    "        print (lam, np.mean(data[lam][0]), np.std(data[lam][0]))\n",
    "    print()\n",
    "\n",
    "#%mldev new_plots"
   ]
  },
  {
   "cell_type": "code",
   "execution_count": 42,
   "metadata": {
    "colab": {
     "base_uri": "https://localhost:8080/",
     "height": 0
    },
    "executionInfo": {
     "elapsed": 3215497,
     "status": "ok",
     "timestamp": 1621507358102,
     "user": {
      "displayName": "Руслан Кошкин",
      "photoUrl": "",
      "userId": "02826648336057215366"
     },
     "user_tz": -180
    },
    "id": "n3Dtt3sdwHIi",
    "outputId": "b285e569-2956-457f-f6a4-40e3751b4e40"
   },
   "outputs": [
    {
     "name": "stdout",
     "output_type": "stream",
     "text": [
      "mode: results_var\n",
      "mode: results_1e\n",
      "mode: results_lowrank\n",
      "mode: results_lowrank_finetune\n",
      "mode: results_linear\n",
      "mode: results_linear_finetune\n"
     ]
    },
    {
     "name": "stderr",
     "output_type": "stream",
     "text": [
      "The PostScript backend does not support transparency; partially transparent artists will be rendered opaque.\n",
      "The PostScript backend does not support transparency; partially transparent artists will be rendered opaque.\n"
     ]
    },
    {
     "data": {
      "image/png": "[encoded data removed]",
      "text/plain": [
       "<Figure size 1440x864 with 7 Axes>"
      ]
     },
     "metadata": {
      "needs_background": "light",
      "tags": []
     },
     "output_type": "display_data"
    }
   ],
   "source": [
    "plt.rcParams['figure.figsize'] = 20, 12\n",
    "plt.rcParams.update({'font.size': 27})\n",
    "plt.rc('lines', linewidth=4)\n",
    "    \n",
    "fig, axs = plt.subplots(2, 3)\n",
    "coords = [(0,0), (1,0), (0,1), (1,1), (0,2), (1,2)]\n",
    "titles = ['(а)', '(б)', '(в)', '(г)', '(д)', '(е)']\n",
    "ls = {\n",
    "    '0.1':'-',\n",
    "    '1':'--',\n",
    "    '10':':',\n",
    "    '100':'-.'\n",
    "}\n",
    "roc = np.array([0,10,20,30,40,50,60,70,80,90])\n",
    "for id, mode in enumerate(['results_var','results_1e', 'results_lowrank', 'results_lowrank_finetune', 'results_linear', 'results_linear_finetune']):\n",
    "    print ('mode:', mode)\n",
    "    with open(mode+'.json') as inp:\n",
    "        lam_results = json.loads(inp.read())\n",
    "    current_ax = axs[coords[id][0], coords[id][1]]\n",
    "    p\n",
    "\n",
    "\n",
    "    for lam in lamb:\n",
    "        lam = str(lam)\n",
    "        \n",
    "        # вызываем plot и errorbar два раза:\n",
    "        # (здесь это оказалось ненужным, но оставил на случай переделок:\n",
    "        # если ошибки разных графиков сильно накладываются, их разносят небольшим сдвигом\n",
    "        # а сами линии средних значений оставляют на месте)\n",
    "        current_ax.errorbar(proc, np.mean(lam_results[lam], 0), \n",
    "                            yerr = np.std(lam_results[lam], 0), \n",
    "                            ls = ls[lam],  elinewidth=0, ecolor='black', color=(0,0,0,0), lw=1)\n",
    "        current_ax.plot(proc, np.mean(lam_results[lam], 0), label='$\\lambda={}$'.format(lam), ls = ls[lam], c='k',\n",
    "                       lw=2)\n",
    "        \n",
    "        #current_ax.set_title(titles[id], y=-0.05)\n",
    "        if id in [1,3,5]:\n",
    "            current_ax.text(40, .38, titles[id])\n",
    "        else:\n",
    "            current_ax.text(40, .42, titles[id])\n",
    "        current_ax.set_ylim((0.5, 1.0))\n",
    "        if id != 0 and id != 1:\n",
    "            current_ax.set_yticklabels([])\n",
    "        if id not in [1,3,5]:\n",
    "            current_ax.set_xticklabels([])\n",
    "        if id == 5:\n",
    "            current_ax.legend(bbox_to_anchor=(1.1, 1.3))\n",
    "fig.add_subplot(111, frame_on=False)\n",
    "plt.tick_params(labelcolor=\"none\", bottom=False, left=False)\n",
    "\n",
    "plt.ylabel('Точность классификации', fontsize = 27)\n",
    "plt.xlabel('Процент удаления параметров', fontsize = 27)\n",
    "plt.tick_params(axis='both', which='major', labelsize=27)\n",
    "ax = plt.gca() \n",
    "ax.xaxis.set_label_coords(0.5, -0.15) \n",
    "#plt.autoscale(enable=True, axis='x', tight=False)\n",
    "#fig.tight_layout()\n",
    "plt.savefig('hypernets.eps', bbox_inches = 'tight')\n",
    "#plt.show()\n",
    "\n",
    "#%mldev last_plots"
   ]
  },
  {
   "cell_type": "code",
   "execution_count": 42,
   "metadata": {
    "executionInfo": {
     "elapsed": 3215495,
     "status": "ok",
     "timestamp": 1621507358103,
     "user": {
      "displayName": "Руслан Кошкин",
      "photoUrl": "",
      "userId": "02826648336057215366"
     },
     "user_tz": -180
    },
    "id": "PJT_Nl7PwHIi"
   },
   "outputs": [],
   "source": []
  }
 ],
 "metadata": {
  "colab": {
   "collapsed_sections": [],
   "name": "mnist_hypernets.ipynb",
   "provenance": []
  },
  "kernelspec": {
   "display_name": "Python 3",
   "language": "python",
   "name": "python3"
  },
  "language_info": {
   "codemirror_mode": {
    "name": "ipython",
    "version": 3
   },
   "file_extension": ".py",
   "mimetype": "text/x-python",
   "name": "python",
   "nbconvert_exporter": "python",
   "pygments_lexer": "ipython3",
   "version": "3.6.9"
  },
  "widgets": {
   "application/vnd.jupyter.widget-state+json": {
    "02eb4d33a7484935bff6d11e200bc23a": {
     "model_module": "@jupyter-widgets/controls",
     "model_name": "HTMLModel",
     "state": {
      "_dom_classes": [],
      "_model_module": "@jupyter-widgets/controls",
      "_model_module_version": "1.5.0",
      "_model_name": "HTMLModel",
      "_view_count": null,
      "_view_module": "@jupyter-widgets/controls",
      "_view_module_version": "1.5.0",
      "_view_name": "HTMLView",
      "description": "",
      "description_tooltip": null,
      "layout": "IPY_MODEL_68ed445c1aa64a75bc63013dcec8f77b",
      "placeholder": "​",
      "style": "IPY_MODEL_b745470bcb9a488b8dc14f5af532ad4b",
      "value": " 9913344/? [00:49&lt;00:00, 200334.90it/s]"
     }
    },
    "056404f375044cea8261f19cfb9ca8db": {
     "model_module": "@jupyter-widgets/controls",
     "model_name": "HTMLModel",
     "state": {
      "_dom_classes": [],
      "_model_module": "@jupyter-widgets/controls",
      "_model_module_version": "1.5.0",
      "_model_name": "HTMLModel",
      "_view_count": null,
      "_view_module": "@jupyter-widgets/controls",
      "_view_module_version": "1.5.0",
      "_view_name": "HTMLView",
      "description": "",
      "description_tooltip": null,
      "layout": "IPY_MODEL_29c386956a1449eebb15b1cdc50fbb3a",
      "placeholder": "​",
      "style": "IPY_MODEL_137ae69b70a64bc3bbc0c4824ddd0b07",
      "value": " 5120/? [00:00&lt;00:00, 12672.86it/s]"
     }
    },
    "07eb737ed0b84e0899a1fd93649b41b9": {
     "model_module": "@jupyter-widgets/base",
     "model_name": "LayoutModel",
     "state": {
      "_model_module": "@jupyter-widgets/base",
      "_model_module_version": "1.2.0",
      "_model_name": "LayoutModel",
      "_view_count": null,
      "_view_module": "@jupyter-widgets/base",
      "_view_module_version": "1.2.0",
      "_view_name": "LayoutView",
      "align_content": null,
      "align_items": null,
      "align_self": null,
      "border": null,
      "bottom": null,
      "display": null,
      "flex": null,
      "flex_flow": null,
      "grid_area": null,
      "grid_auto_columns": null,
      "grid_auto_flow": null,
      "grid_auto_rows": null,
      "grid_column": null,
      "grid_gap": null,
      "grid_row": null,
      "grid_template_areas": null,
      "grid_template_columns": null,
      "grid_template_rows": null,
      "height": null,
      "justify_content": null,
      "justify_items": null,
      "left": null,
      "margin": null,
      "max_height": null,
      "max_width": null,
      "min_height": null,
      "min_width": null,
      "object_fit": null,
      "object_position": null,
      "order": null,
      "overflow": null,
      "overflow_x": null,
      "overflow_y": null,
      "padding": null,
      "right": null,
      "top": null,
      "visibility": null,
      "width": null
     }
    },
    "12bd2212d44b477d8b3880e06da88a7e": {
     "model_module": "@jupyter-widgets/base",
     "model_name": "LayoutModel",
     "state": {
      "_model_module": "@jupyter-widgets/base",
      "_model_module_version": "1.2.0",
      "_model_name": "LayoutModel",
      "_view_count": null,
      "_view_module": "@jupyter-widgets/base",
      "_view_module_version": "1.2.0",
      "_view_name": "LayoutView",
      "align_content": null,
      "align_items": null,
      "align_self": null,
      "border": null,
      "bottom": null,
      "display": null,
      "flex": null,
      "flex_flow": null,
      "grid_area": null,
      "grid_auto_columns": null,
      "grid_auto_flow": null,
      "grid_auto_rows": null,
      "grid_column": null,
      "grid_gap": null,
      "grid_row": null,
      "grid_template_areas": null,
      "grid_template_columns": null,
      "grid_template_rows": null,
      "height": null,
      "justify_content": null,
      "justify_items": null,
      "left": null,
      "margin": null,
      "max_height": null,
      "max_width": null,
      "min_height": null,
      "min_width": null,
      "object_fit": null,
      "object_position": null,
      "order": null,
      "overflow": null,
      "overflow_x": null,
      "overflow_y": null,
      "padding": null,
      "right": null,
      "top": null,
      "visibility": null,
      "width": null
     }
    },
    "137ae69b70a64bc3bbc0c4824ddd0b07": {
     "model_module": "@jupyter-widgets/controls",
     "model_name": "DescriptionStyleModel",
     "state": {
      "_model_module": "@jupyter-widgets/controls",
      "_model_module_version": "1.5.0",
      "_model_name": "DescriptionStyleModel",
      "_view_count": null,
      "_view_module": "@jupyter-widgets/base",
      "_view_module_version": "1.2.0",
      "_view_name": "StyleView",
      "description_width": ""
     }
    },
    "17c127c278644b8195be05c96eb3e76a": {
     "model_module": "@jupyter-widgets/controls",
     "model_name": "ProgressStyleModel",
     "state": {
      "_model_module": "@jupyter-widgets/controls",
      "_model_module_version": "1.5.0",
      "_model_name": "ProgressStyleModel",
      "_view_count": null,
      "_view_module": "@jupyter-widgets/base",
      "_view_module_version": "1.2.0",
      "_view_name": "StyleView",
      "bar_color": null,
      "description_width": "initial"
     }
    },
    "1d1a330c8e3e46be8afc0a37c291e511": {
     "model_module": "@jupyter-widgets/base",
     "model_name": "LayoutModel",
     "state": {
      "_model_module": "@jupyter-widgets/base",
      "_model_module_version": "1.2.0",
      "_model_name": "LayoutModel",
      "_view_count": null,
      "_view_module": "@jupyter-widgets/base",
      "_view_module_version": "1.2.0",
      "_view_name": "LayoutView",
      "align_content": null,
      "align_items": null,
      "align_self": null,
      "border": null,
      "bottom": null,
      "display": null,
      "flex": null,
      "flex_flow": null,
      "grid_area": null,
      "grid_auto_columns": null,
      "grid_auto_flow": null,
      "grid_auto_rows": null,
      "grid_column": null,
      "grid_gap": null,
      "grid_row": null,
      "grid_template_areas": null,
      "grid_template_columns": null,
      "grid_template_rows": null,
      "height": null,
      "justify_content": null,
      "justify_items": null,
      "left": null,
      "margin": null,
      "max_height": null,
      "max_width": null,
      "min_height": null,
      "min_width": null,
      "object_fit": null,
      "object_position": null,
      "order": null,
      "overflow": null,
      "overflow_x": null,
      "overflow_y": null,
      "padding": null,
      "right": null,
      "top": null,
      "visibility": null,
      "width": null
     }
    },
    "1d22478947a8445fac9edae3bc1df317": {
     "model_module": "@jupyter-widgets/controls",
     "model_name": "ProgressStyleModel",
     "state": {
      "_model_module": "@jupyter-widgets/controls",
      "_model_module_version": "1.5.0",
      "_model_name": "ProgressStyleModel",
      "_view_count": null,
      "_view_module": "@jupyter-widgets/base",
      "_view_module_version": "1.2.0",
      "_view_name": "StyleView",
      "bar_color": null,
      "description_width": "initial"
     }
    },
    "206b7e06c7ce4adeacbecd68d86c79f8": {
     "model_module": "@jupyter-widgets/controls",
     "model_name": "DescriptionStyleModel",
     "state": {
      "_model_module": "@jupyter-widgets/controls",
      "_model_module_version": "1.5.0",
      "_model_name": "DescriptionStyleModel",
      "_view_count": null,
      "_view_module": "@jupyter-widgets/base",
      "_view_module_version": "1.2.0",
      "_view_name": "StyleView",
      "description_width": ""
     }
    },
    "2216ea0187a345a5bebea02ff9dd37e3": {
     "model_module": "@jupyter-widgets/controls",
     "model_name": "HBoxModel",
     "state": {
      "_dom_classes": [],
      "_model_module": "@jupyter-widgets/controls",
      "_model_module_version": "1.5.0",
      "_model_name": "HBoxModel",
      "_view_count": null,
      "_view_module": "@jupyter-widgets/controls",
      "_view_module_version": "1.5.0",
      "_view_name": "HBoxView",
      "box_style": "",
      "children": [
       "IPY_MODEL_90ed39d2cffd4cc69a001b218ba5cec7",
       "IPY_MODEL_6b2c1b34273c4e5d86f9481c2fc72ef5"
      ],
      "layout": "IPY_MODEL_1d1a330c8e3e46be8afc0a37c291e511"
     }
    },
    "29c386956a1449eebb15b1cdc50fbb3a": {
     "model_module": "@jupyter-widgets/base",
     "model_name": "LayoutModel",
     "state": {
      "_model_module": "@jupyter-widgets/base",
      "_model_module_version": "1.2.0",
      "_model_name": "LayoutModel",
      "_view_count": null,
      "_view_module": "@jupyter-widgets/base",
      "_view_module_version": "1.2.0",
      "_view_name": "LayoutView",
      "align_content": null,
      "align_items": null,
      "align_self": null,
      "border": null,
      "bottom": null,
      "display": null,
      "flex": null,
      "flex_flow": null,
      "grid_area": null,
      "grid_auto_columns": null,
      "grid_auto_flow": null,
      "grid_auto_rows": null,
      "grid_column": null,
      "grid_gap": null,
      "grid_row": null,
      "grid_template_areas": null,
      "grid_template_columns": null,
      "grid_template_rows": null,
      "height": null,
      "justify_content": null,
      "justify_items": null,
      "left": null,
      "margin": null,
      "max_height": null,
      "max_width": null,
      "min_height": null,
      "min_width": null,
      "object_fit": null,
      "object_position": null,
      "order": null,
      "overflow": null,
      "overflow_x": null,
      "overflow_y": null,
      "padding": null,
      "right": null,
      "top": null,
      "visibility": null,
      "width": null
     }
    },
    "3754d64fa515401892c7fa2fcb869299": {
     "model_module": "@jupyter-widgets/controls",
     "model_name": "FloatProgressModel",
     "state": {
      "_dom_classes": [],
      "_model_module": "@jupyter-widgets/controls",
      "_model_module_version": "1.5.0",
      "_model_name": "FloatProgressModel",
      "_view_count": null,
      "_view_module": "@jupyter-widgets/controls",
      "_view_module_version": "1.5.0",
      "_view_name": "ProgressView",
      "bar_style": "success",
      "description": "",
      "description_tooltip": null,
      "layout": "IPY_MODEL_fdaad93134f84fc299837ee8ddece251",
      "max": 9912422,
      "min": 0,
      "orientation": "horizontal",
      "style": "IPY_MODEL_17c127c278644b8195be05c96eb3e76a",
      "value": 9912422
     }
    },
    "6457bb71005a47d6aa97b584cb0437d8": {
     "model_module": "@jupyter-widgets/base",
     "model_name": "LayoutModel",
     "state": {
      "_model_module": "@jupyter-widgets/base",
      "_model_module_version": "1.2.0",
      "_model_name": "LayoutModel",
      "_view_count": null,
      "_view_module": "@jupyter-widgets/base",
      "_view_module_version": "1.2.0",
      "_view_name": "LayoutView",
      "align_content": null,
      "align_items": null,
      "align_self": null,
      "border": null,
      "bottom": null,
      "display": null,
      "flex": null,
      "flex_flow": null,
      "grid_area": null,
      "grid_auto_columns": null,
      "grid_auto_flow": null,
      "grid_auto_rows": null,
      "grid_column": null,
      "grid_gap": null,
      "grid_row": null,
      "grid_template_areas": null,
      "grid_template_columns": null,
      "grid_template_rows": null,
      "height": null,
      "justify_content": null,
      "justify_items": null,
      "left": null,
      "margin": null,
      "max_height": null,
      "max_width": null,
      "min_height": null,
      "min_width": null,
      "object_fit": null,
      "object_position": null,
      "order": null,
      "overflow": null,
      "overflow_x": null,
      "overflow_y": null,
      "padding": null,
      "right": null,
      "top": null,
      "visibility": null,
      "width": null
     }
    },
    "6540ebfa3e484ed49b339fcc9620113e": {
     "model_module": "@jupyter-widgets/base",
     "model_name": "LayoutModel",
     "state": {
      "_model_module": "@jupyter-widgets/base",
      "_model_module_version": "1.2.0",
      "_model_name": "LayoutModel",
      "_view_count": null,
      "_view_module": "@jupyter-widgets/base",
      "_view_module_version": "1.2.0",
      "_view_name": "LayoutView",
      "align_content": null,
      "align_items": null,
      "align_self": null,
      "border": null,
      "bottom": null,
      "display": null,
      "flex": null,
      "flex_flow": null,
      "grid_area": null,
      "grid_auto_columns": null,
      "grid_auto_flow": null,
      "grid_auto_rows": null,
      "grid_column": null,
      "grid_gap": null,
      "grid_row": null,
      "grid_template_areas": null,
      "grid_template_columns": null,
      "grid_template_rows": null,
      "height": null,
      "justify_content": null,
      "justify_items": null,
      "left": null,
      "margin": null,
      "max_height": null,
      "max_width": null,
      "min_height": null,
      "min_width": null,
      "object_fit": null,
      "object_position": null,
      "order": null,
      "overflow": null,
      "overflow_x": null,
      "overflow_y": null,
      "padding": null,
      "right": null,
      "top": null,
      "visibility": null,
      "width": null
     }
    },
    "68ed445c1aa64a75bc63013dcec8f77b": {
     "model_module": "@jupyter-widgets/base",
     "model_name": "LayoutModel",
     "state": {
      "_model_module": "@jupyter-widgets/base",
      "_model_module_version": "1.2.0",
      "_model_name": "LayoutModel",
      "_view_count": null,
      "_view_module": "@jupyter-widgets/base",
      "_view_module_version": "1.2.0",
      "_view_name": "LayoutView",
      "align_content": null,
      "align_items": null,
      "align_self": null,
      "border": null,
      "bottom": null,
      "display": null,
      "flex": null,
      "flex_flow": null,
      "grid_area": null,
      "grid_auto_columns": null,
      "grid_auto_flow": null,
      "grid_auto_rows": null,
      "grid_column": null,
      "grid_gap": null,
      "grid_row": null,
      "grid_template_areas": null,
      "grid_template_columns": null,
      "grid_template_rows": null,
      "height": null,
      "justify_content": null,
      "justify_items": null,
      "left": null,
      "margin": null,
      "max_height": null,
      "max_width": null,
      "min_height": null,
      "min_width": null,
      "object_fit": null,
      "object_position": null,
      "order": null,
      "overflow": null,
      "overflow_x": null,
      "overflow_y": null,
      "padding": null,
      "right": null,
      "top": null,
      "visibility": null,
      "width": null
     }
    },
    "6a436b9b4b2449269547df5cb245c0dd": {
     "model_module": "@jupyter-widgets/controls",
     "model_name": "HBoxModel",
     "state": {
      "_dom_classes": [],
      "_model_module": "@jupyter-widgets/controls",
      "_model_module_version": "1.5.0",
      "_model_name": "HBoxModel",
      "_view_count": null,
      "_view_module": "@jupyter-widgets/controls",
      "_view_module_version": "1.5.0",
      "_view_name": "HBoxView",
      "box_style": "",
      "children": [
       "IPY_MODEL_cfdeab087889439aafd1b8111b0651d8",
       "IPY_MODEL_cf4787356fcc44f88a652e8a4b6bfbdc"
      ],
      "layout": "IPY_MODEL_c9ab449ad6624c408090d938ef492f48"
     }
    },
    "6b2c1b34273c4e5d86f9481c2fc72ef5": {
     "model_module": "@jupyter-widgets/controls",
     "model_name": "HTMLModel",
     "state": {
      "_dom_classes": [],
      "_model_module": "@jupyter-widgets/controls",
      "_model_module_version": "1.5.0",
      "_model_name": "HTMLModel",
      "_view_count": null,
      "_view_module": "@jupyter-widgets/controls",
      "_view_module_version": "1.5.0",
      "_view_name": "HTMLView",
      "description": "",
      "description_tooltip": null,
      "layout": "IPY_MODEL_a20afc31a384426fbca32bd0edd6e7ed",
      "placeholder": "​",
      "style": "IPY_MODEL_206b7e06c7ce4adeacbecd68d86c79f8",
      "value": " 1649664/? [00:00&lt;00:00, 1664753.26it/s]"
     }
    },
    "70b699114db1435ca4b1130f49e6bc67": {
     "model_module": "@jupyter-widgets/controls",
     "model_name": "ProgressStyleModel",
     "state": {
      "_model_module": "@jupyter-widgets/controls",
      "_model_module_version": "1.5.0",
      "_model_name": "ProgressStyleModel",
      "_view_count": null,
      "_view_module": "@jupyter-widgets/base",
      "_view_module_version": "1.2.0",
      "_view_name": "StyleView",
      "bar_color": null,
      "description_width": "initial"
     }
    },
    "90ed39d2cffd4cc69a001b218ba5cec7": {
     "model_module": "@jupyter-widgets/controls",
     "model_name": "FloatProgressModel",
     "state": {
      "_dom_classes": [],
      "_model_module": "@jupyter-widgets/controls",
      "_model_module_version": "1.5.0",
      "_model_name": "FloatProgressModel",
      "_view_count": null,
      "_view_module": "@jupyter-widgets/controls",
      "_view_module_version": "1.5.0",
      "_view_name": "ProgressView",
      "bar_style": "success",
      "description": "",
      "description_tooltip": null,
      "layout": "IPY_MODEL_b4971802c3164ac9b60fde7ca526499a",
      "max": 1648877,
      "min": 0,
      "orientation": "horizontal",
      "style": "IPY_MODEL_70b699114db1435ca4b1130f49e6bc67",
      "value": 1648877
     }
    },
    "a20afc31a384426fbca32bd0edd6e7ed": {
     "model_module": "@jupyter-widgets/base",
     "model_name": "LayoutModel",
     "state": {
      "_model_module": "@jupyter-widgets/base",
      "_model_module_version": "1.2.0",
      "_model_name": "LayoutModel",
      "_view_count": null,
      "_view_module": "@jupyter-widgets/base",
      "_view_module_version": "1.2.0",
      "_view_name": "LayoutView",
      "align_content": null,
      "align_items": null,
      "align_self": null,
      "border": null,
      "bottom": null,
      "display": null,
      "flex": null,
      "flex_flow": null,
      "grid_area": null,
      "grid_auto_columns": null,
      "grid_auto_flow": null,
      "grid_auto_rows": null,
      "grid_column": null,
      "grid_gap": null,
      "grid_row": null,
      "grid_template_areas": null,
      "grid_template_columns": null,
      "grid_template_rows": null,
      "height": null,
      "justify_content": null,
      "justify_items": null,
      "left": null,
      "margin": null,
      "max_height": null,
      "max_width": null,
      "min_height": null,
      "min_width": null,
      "object_fit": null,
      "object_position": null,
      "order": null,
      "overflow": null,
      "overflow_x": null,
      "overflow_y": null,
      "padding": null,
      "right": null,
      "top": null,
      "visibility": null,
      "width": null
     }
    },
    "abb9843e8f1c4b8db8913c179d3b1a4c": {
     "model_module": "@jupyter-widgets/controls",
     "model_name": "ProgressStyleModel",
     "state": {
      "_model_module": "@jupyter-widgets/controls",
      "_model_module_version": "1.5.0",
      "_model_name": "ProgressStyleModel",
      "_view_count": null,
      "_view_module": "@jupyter-widgets/base",
      "_view_module_version": "1.2.0",
      "_view_name": "StyleView",
      "bar_color": null,
      "description_width": "initial"
     }
    },
    "b4971802c3164ac9b60fde7ca526499a": {
     "model_module": "@jupyter-widgets/base",
     "model_name": "LayoutModel",
     "state": {
      "_model_module": "@jupyter-widgets/base",
      "_model_module_version": "1.2.0",
      "_model_name": "LayoutModel",
      "_view_count": null,
      "_view_module": "@jupyter-widgets/base",
      "_view_module_version": "1.2.0",
      "_view_name": "LayoutView",
      "align_content": null,
      "align_items": null,
      "align_self": null,
      "border": null,
      "bottom": null,
      "display": null,
      "flex": null,
      "flex_flow": null,
      "grid_area": null,
      "grid_auto_columns": null,
      "grid_auto_flow": null,
      "grid_auto_rows": null,
      "grid_column": null,
      "grid_gap": null,
      "grid_row": null,
      "grid_template_areas": null,
      "grid_template_columns": null,
      "grid_template_rows": null,
      "height": null,
      "justify_content": null,
      "justify_items": null,
      "left": null,
      "margin": null,
      "max_height": null,
      "max_width": null,
      "min_height": null,
      "min_width": null,
      "object_fit": null,
      "object_position": null,
      "order": null,
      "overflow": null,
      "overflow_x": null,
      "overflow_y": null,
      "padding": null,
      "right": null,
      "top": null,
      "visibility": null,
      "width": null
     }
    },
    "b577fd8ee1f84deb8aec138ca9e7caea": {
     "model_module": "@jupyter-widgets/controls",
     "model_name": "FloatProgressModel",
     "state": {
      "_dom_classes": [],
      "_model_module": "@jupyter-widgets/controls",
      "_model_module_version": "1.5.0",
      "_model_name": "FloatProgressModel",
      "_view_count": null,
      "_view_module": "@jupyter-widgets/controls",
      "_view_module_version": "1.5.0",
      "_view_name": "ProgressView",
      "bar_style": "success",
      "description": "",
      "description_tooltip": null,
      "layout": "IPY_MODEL_12bd2212d44b477d8b3880e06da88a7e",
      "max": 4542,
      "min": 0,
      "orientation": "horizontal",
      "style": "IPY_MODEL_abb9843e8f1c4b8db8913c179d3b1a4c",
      "value": 4542
     }
    },
    "b745470bcb9a488b8dc14f5af532ad4b": {
     "model_module": "@jupyter-widgets/controls",
     "model_name": "DescriptionStyleModel",
     "state": {
      "_model_module": "@jupyter-widgets/controls",
      "_model_module_version": "1.5.0",
      "_model_name": "DescriptionStyleModel",
      "_view_count": null,
      "_view_module": "@jupyter-widgets/base",
      "_view_module_version": "1.2.0",
      "_view_name": "StyleView",
      "description_width": ""
     }
    },
    "bba7a9d28b5043e7a70271f475d86dd0": {
     "model_module": "@jupyter-widgets/controls",
     "model_name": "HBoxModel",
     "state": {
      "_dom_classes": [],
      "_model_module": "@jupyter-widgets/controls",
      "_model_module_version": "1.5.0",
      "_model_name": "HBoxModel",
      "_view_count": null,
      "_view_module": "@jupyter-widgets/controls",
      "_view_module_version": "1.5.0",
      "_view_name": "HBoxView",
      "box_style": "",
      "children": [
       "IPY_MODEL_3754d64fa515401892c7fa2fcb869299",
       "IPY_MODEL_02eb4d33a7484935bff6d11e200bc23a"
      ],
      "layout": "IPY_MODEL_6457bb71005a47d6aa97b584cb0437d8"
     }
    },
    "c379e105d9554f06a8826e5b6f641613": {
     "model_module": "@jupyter-widgets/base",
     "model_name": "LayoutModel",
     "state": {
      "_model_module": "@jupyter-widgets/base",
      "_model_module_version": "1.2.0",
      "_model_name": "LayoutModel",
      "_view_count": null,
      "_view_module": "@jupyter-widgets/base",
      "_view_module_version": "1.2.0",
      "_view_name": "LayoutView",
      "align_content": null,
      "align_items": null,
      "align_self": null,
      "border": null,
      "bottom": null,
      "display": null,
      "flex": null,
      "flex_flow": null,
      "grid_area": null,
      "grid_auto_columns": null,
      "grid_auto_flow": null,
      "grid_auto_rows": null,
      "grid_column": null,
      "grid_gap": null,
      "grid_row": null,
      "grid_template_areas": null,
      "grid_template_columns": null,
      "grid_template_rows": null,
      "height": null,
      "justify_content": null,
      "justify_items": null,
      "left": null,
      "margin": null,
      "max_height": null,
      "max_width": null,
      "min_height": null,
      "min_width": null,
      "object_fit": null,
      "object_position": null,
      "order": null,
      "overflow": null,
      "overflow_x": null,
      "overflow_y": null,
      "padding": null,
      "right": null,
      "top": null,
      "visibility": null,
      "width": null
     }
    },
    "c9ab449ad6624c408090d938ef492f48": {
     "model_module": "@jupyter-widgets/base",
     "model_name": "LayoutModel",
     "state": {
      "_model_module": "@jupyter-widgets/base",
      "_model_module_version": "1.2.0",
      "_model_name": "LayoutModel",
      "_view_count": null,
      "_view_module": "@jupyter-widgets/base",
      "_view_module_version": "1.2.0",
      "_view_name": "LayoutView",
      "align_content": null,
      "align_items": null,
      "align_self": null,
      "border": null,
      "bottom": null,
      "display": null,
      "flex": null,
      "flex_flow": null,
      "grid_area": null,
      "grid_auto_columns": null,
      "grid_auto_flow": null,
      "grid_auto_rows": null,
      "grid_column": null,
      "grid_gap": null,
      "grid_row": null,
      "grid_template_areas": null,
      "grid_template_columns": null,
      "grid_template_rows": null,
      "height": null,
      "justify_content": null,
      "justify_items": null,
      "left": null,
      "margin": null,
      "max_height": null,
      "max_width": null,
      "min_height": null,
      "min_width": null,
      "object_fit": null,
      "object_position": null,
      "order": null,
      "overflow": null,
      "overflow_x": null,
      "overflow_y": null,
      "padding": null,
      "right": null,
      "top": null,
      "visibility": null,
      "width": null
     }
    },
    "cf4787356fcc44f88a652e8a4b6bfbdc": {
     "model_module": "@jupyter-widgets/controls",
     "model_name": "HTMLModel",
     "state": {
      "_dom_classes": [],
      "_model_module": "@jupyter-widgets/controls",
      "_model_module_version": "1.5.0",
      "_model_name": "HTMLModel",
      "_view_count": null,
      "_view_module": "@jupyter-widgets/controls",
      "_view_module_version": "1.5.0",
      "_view_name": "HTMLView",
      "description": "",
      "description_tooltip": null,
      "layout": "IPY_MODEL_07eb737ed0b84e0899a1fd93649b41b9",
      "placeholder": "​",
      "style": "IPY_MODEL_f89c6f62e64b4851810cd53251b3786a",
      "value": " 29696/? [00:48&lt;00:00, 613.27it/s]"
     }
    },
    "cfdeab087889439aafd1b8111b0651d8": {
     "model_module": "@jupyter-widgets/controls",
     "model_name": "FloatProgressModel",
     "state": {
      "_dom_classes": [],
      "_model_module": "@jupyter-widgets/controls",
      "_model_module_version": "1.5.0",
      "_model_name": "FloatProgressModel",
      "_view_count": null,
      "_view_module": "@jupyter-widgets/controls",
      "_view_module_version": "1.5.0",
      "_view_name": "ProgressView",
      "bar_style": "success",
      "description": "",
      "description_tooltip": null,
      "layout": "IPY_MODEL_6540ebfa3e484ed49b339fcc9620113e",
      "max": 28881,
      "min": 0,
      "orientation": "horizontal",
      "style": "IPY_MODEL_1d22478947a8445fac9edae3bc1df317",
      "value": 28881
     }
    },
    "ed6373965b904fca94fe0eac92a2a77a": {
     "model_module": "@jupyter-widgets/controls",
     "model_name": "HBoxModel",
     "state": {
      "_dom_classes": [],
      "_model_module": "@jupyter-widgets/controls",
      "_model_module_version": "1.5.0",
      "_model_name": "HBoxModel",
      "_view_count": null,
      "_view_module": "@jupyter-widgets/controls",
      "_view_module_version": "1.5.0",
      "_view_name": "HBoxView",
      "box_style": "",
      "children": [
       "IPY_MODEL_b577fd8ee1f84deb8aec138ca9e7caea",
       "IPY_MODEL_056404f375044cea8261f19cfb9ca8db"
      ],
      "layout": "IPY_MODEL_c379e105d9554f06a8826e5b6f641613"
     }
    },
    "f89c6f62e64b4851810cd53251b3786a": {
     "model_module": "@jupyter-widgets/controls",
     "model_name": "DescriptionStyleModel",
     "state": {
      "_model_module": "@jupyter-widgets/controls",
      "_model_module_version": "1.5.0",
      "_model_name": "DescriptionStyleModel",
      "_view_count": null,
      "_view_module": "@jupyter-widgets/base",
      "_view_module_version": "1.2.0",
      "_view_name": "StyleView",
      "description_width": ""
     }
    },
    "fdaad93134f84fc299837ee8ddece251": {
     "model_module": "@jupyter-widgets/base",
     "model_name": "LayoutModel",
     "state": {
      "_model_module": "@jupyter-widgets/base",
      "_model_module_version": "1.2.0",
      "_model_name": "LayoutModel",
      "_view_count": null,
      "_view_module": "@jupyter-widgets/base",
      "_view_module_version": "1.2.0",
      "_view_name": "LayoutView",
      "align_content": null,
      "align_items": null,
      "align_self": null,
      "border": null,
      "bottom": null,
      "display": null,
      "flex": null,
      "flex_flow": null,
      "grid_area": null,
      "grid_auto_columns": null,
      "grid_auto_flow": null,
      "grid_auto_rows": null,
      "grid_column": null,
      "grid_gap": null,
      "grid_row": null,
      "grid_template_areas": null,
      "grid_template_columns": null,
      "grid_template_rows": null,
      "height": null,
      "justify_content": null,
      "justify_items": null,
      "left": null,
      "margin": null,
      "max_height": null,
      "max_width": null,
      "min_height": null,
      "min_width": null,
      "object_fit": null,
      "object_position": null,
      "order": null,
      "overflow": null,
      "overflow_x": null,
      "overflow_y": null,
      "padding": null,
      "right": null,
      "top": null,
      "visibility": null,
      "width": null
     }
    }
   }
  }
 },
 "nbformat": 4,
 "nbformat_minor": 1
}
