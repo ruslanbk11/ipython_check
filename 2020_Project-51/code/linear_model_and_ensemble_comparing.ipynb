{
 "cells": [
  {
   "cell_type": "code",
   "execution_count": 1,
   "metadata": {
    "colab": {
     "base_uri": "https://localhost:8080/",
     "height": 269
    },
    "colab_type": "code",
    "id": "jfCyZx1v5J5X",
    "outputId": "162ffd1c-2e2e-416e-8d06-57e469e81fbe"
   },
   "outputs": [
    {
     "name": "stdout",
     "output_type": "stream",
     "text": [
      "fatal: destination path 'MixtureLib' already exists and is not an empty directory.\n",
      "Processing ./MixtureLib/src\n",
      "Requirement already satisfied: torch>=1.3.1+cpu in /usr/local/lib/python3.6/dist-packages (from mixturelib==0.3.0) (1.4.0)\n",
      "Requirement already satisfied: numpy>=1.18.1 in /usr/local/lib/python3.6/dist-packages (from mixturelib==0.3.0) (1.18.2)\n",
      "Building wheels for collected packages: mixturelib\n",
      "  Building wheel for mixturelib (setup.py) ... \u001b[?25l\u001b[?25hdone\n",
      "  Created wheel for mixturelib: filename=mixturelib-0.3.0-cp36-none-any.whl size=13748 sha256=ab0e3eff5b037e4de72e2fe41f39832b9738146de71fe845d2917c54c1fba22d\n",
      "  Stored in directory: /tmp/pip-ephem-wheel-cache-2fzle91n/wheels/8f/0e/0e/7b633cbf34c93d96d5b40677655ae6cda78087b2231b3cb1dc\n",
      "Successfully built mixturelib\n",
      "Installing collected packages: mixturelib\n",
      "  Found existing installation: mixturelib 0.3.0\n",
      "    Uninstalling mixturelib-0.3.0:\n",
      "      Successfully uninstalled mixturelib-0.3.0\n",
      "Successfully installed mixturelib-0.3.0\n"
     ]
    },
    {
     "data": {
      "text/plain": [
       "device(type='cpu')"
      ]
     },
     "execution_count": 1,
     "metadata": {
      "tags": []
     },
     "output_type": "execute_result"
    }
   ],
   "source": [
    "!git clone https://github.com/andriygav/MixtureLib.git\n",
    "!python3 -m pip install MixtureLib/src/.\n",
    "\n",
    "from mixturelib.local_models import EachModelLinear\n",
    "from mixturelib.hyper_models import HyperExpertNN, HyperModelDirichlet\n",
    "from mixturelib.mixture import MixtureEM\n",
    "\n",
    "import matplotlib.pyplot as plt\n",
    "from matplotlib import gridspec\n",
    "import pylab\n",
    "from sklearn import metrics\n",
    "\n",
    "\n",
    "from tqdm import tqdm_notebook as tqdm\n",
    "import numpy as np\n",
    "import torch\n",
    "\n",
    "device = torch.device(\"cuda\" if torch.cuda.is_available() else \"cpu\")\n",
    "device"
   ]
  },
  {
   "cell_type": "code",
   "execution_count": 5,
   "metadata": {
    "colab": {},
    "colab_type": "code",
    "id": "glYRlFe95RTB"
   },
   "outputs": [],
   "source": [
    "def f_1(x):\n",
    "    return 20*x[0] + np.random.randn()\n",
    "\n",
    "def f_2(x):\n",
    "    return 50*x[0] + np.random.randn()\n",
    "nn = 200 #число объектов каждого класса\n",
    "n = 2 #общее число признаков"
   ]
  },
  {
   "cell_type": "markdown",
   "metadata": {
    "colab_type": "text",
    "id": "69SEVr6cKAz0"
   },
   "source": [
    "###Заполнение случайными признаками"
   ]
  },
  {
   "cell_type": "code",
   "execution_count": 0,
   "metadata": {
    "colab": {},
    "colab_type": "code",
    "id": "NJuVgkoF5fqq"
   },
   "outputs": [],
   "source": [
    "nn = 200 \n",
    "#порождение данных со случайным заполнением признака\n",
    "x1 = np.random.randn(nn, 1)\n",
    "x2 = np.random.randn(nn, 1)\n",
    "y1 = np.array([f_1(x) for x in x1])\n",
    "y2 = np.array([f_2(x) for x in x2])\n",
    "\n",
    "#две выборки, когда признаки заполняются случайно\n",
    "X1 = np.hstack([x1, np.random.normal(0, 0.2, (nn, 1))]) \n",
    "X2 = np.hstack([np.random.normal(0, 0.2, (nn, 1)), x2])\n",
    "\n",
    "X = np.vstack([X1, X2])\n",
    "Y = np.hstack([y1, y2])"
   ]
  },
  {
   "cell_type": "code",
   "execution_count": 4,
   "metadata": {
    "colab": {
     "base_uri": "https://localhost:8080/",
     "height": 323
    },
    "colab_type": "code",
    "id": "pFqlexWz5l6B",
    "outputId": "dacb11bb-b20c-471c-a4fe-d89d402c5cbb"
   },
   "outputs": [
    {
     "data": {
      "image/png": "[encoded data removed]",
      "text/plain": [
       "<Figure size 360x360 with 1 Axes>"
      ]
     },
     "metadata": {
      "needs_background": "light",
      "tags": []
     },
     "output_type": "display_data"
    }
   ],
   "source": [
    "FONT_SIZE = 12\n",
    "\n",
    "plt.rcParams['lines.linewidth'] = 3\n",
    "plt.rcParams['lines.markersize'] = 6\n",
    "plt.rcParams['xtick.labelsize'] = FONT_SIZE\n",
    "plt.rcParams['ytick.labelsize'] = FONT_SIZE\n",
    "plt.rcParams['legend.fontsize'] = FONT_SIZE\n",
    "plt.rcParams['axes.titlesize']=FONT_SIZE\n",
    "plt.rcParams['axes.labelsize']=FONT_SIZE\n",
    "plt.rcParams['figure.figsize'] = (5.0, 5.0)\n",
    "plt.rcParams['font.size'] = FONT_SIZE\n",
    "##############################################\n",
    "\n",
    "_ = plt.plot(X[:, 0], X[:, 1], '.')"
   ]
  },
  {
   "cell_type": "code",
   "execution_count": 0,
   "metadata": {
    "colab": {},
    "colab_type": "code",
    "id": "6JARW6gV6p12"
   },
   "outputs": [],
   "source": [
    "torch.random.manual_seed(42)\n",
    "first_model = EachModelLinear(input_dim=2)\n",
    "second_model = EachModelLinear(input_dim=2)\n",
    "\n",
    "list_of_models = [first_model, second_model]"
   ]
  },
  {
   "cell_type": "code",
   "execution_count": 0,
   "metadata": {
    "colab": {},
    "colab_type": "code",
    "id": "T3fzFK9e7S6s"
   },
   "outputs": [],
   "source": [
    "HpMd = HyperExpertNN(input_dim=2, hidden_dim=5,output_dim=2, epochs=1000)\n",
    "\n",
    "mixture = MixtureEM(HyperParameters={'beta': 1.},\n",
    "                    HyperModel=HpMd,\n",
    "                    ListOfModels=list_of_models,\n",
    "                    model_type='sample')"
   ]
  },
  {
   "cell_type": "code",
   "execution_count": 0,
   "metadata": {
    "colab": {},
    "colab_type": "code",
    "id": "I1ij8M2h7cUA"
   },
   "outputs": [],
   "source": [
    "real_second_w = np.array([[10.], [0.]])\n",
    "real_first_w = np.array([[0.], [50.]])\n",
    "X_tr = torch.FloatTensor(X)\n",
    "Y_tr = torch.FloatTensor(Y).view([-1,1])"
   ]
  },
  {
   "cell_type": "code",
   "execution_count": 0,
   "metadata": {
    "colab": {},
    "colab_type": "code",
    "id": "ydVnbjye7j07"
   },
   "outputs": [],
   "source": [
    "mixture.fit(X_tr, Y_tr)\n",
    "predicted_first_w = mixture.ListOfModels[0].W.numpy()\n",
    "predicted_second_w = mixture.ListOfModels[1].W.numpy()\n",
    "weights = []\n",
    "weights.append([predicted_first_w[0][0], predicted_first_w[1][0]])\n",
    "weights.append([predicted_second_w[0][0], predicted_second_w[1][0]])"
   ]
  },
  {
   "cell_type": "code",
   "execution_count": 9,
   "metadata": {
    "colab": {
     "base_uri": "https://localhost:8080/",
     "height": 34
    },
    "colab_type": "code",
    "id": "MDSjrnxk7pAl",
    "outputId": "ad3cdc81-c9c6-4d1a-82a0-e06144bc4351"
   },
   "outputs": [
    {
     "name": "stdout",
     "output_type": "stream",
     "text": [
      "[24.092901, 46.87235] [14.922601, 49.043407]\n"
     ]
    }
   ],
   "source": [
    "print(weights[0], weights[1])\n",
    "w1 = weights[0][0]\n",
    "w2 = weights[1][1]"
   ]
  },
  {
   "cell_type": "code",
   "execution_count": 11,
   "metadata": {},
   "outputs": [],
   "source": [
    "import matplotlib.pyplot as plt\n",
    "from matplotlib import gridspec\n",
    "import pylab\n",
    "from sklearn import metrics\n",
    "import matplotlib.pyplot as plt\n",
    "from mpl_toolkits.mplot3d import Axes3D\n",
    "import numpy as np"
   ]
  },
  {
   "cell_type": "code",
   "execution_count": 12,
   "metadata": {
    "colab": {},
    "colab_type": "code",
    "id": "dVPkqkx78JqW"
   },
   "outputs": [],
   "source": [
    "plt.rcParams['lines.linewidth'] = 3\n",
    "plt.rcParams['lines.markersize'] = 6\n",
    "plt.rcParams['xtick.labelsize'] = 10\n",
    "plt.rcParams['ytick.labelsize'] = 10\n",
    "plt.rcParams['legend.fontsize'] = 36\n",
    "plt.rcParams['axes.titlesize']=36\n",
    "plt.rcParams['axes.labelsize']=36\n",
    "plt.rcParams['figure.figsize'] = (8.0, 8.0)\n",
    "plt.rcParams['font.size'] = 40"
   ]
  },
  {
   "cell_type": "code",
   "execution_count": null,
   "metadata": {
    "colab": {
     "base_uri": "https://localhost:8080/",
     "height": 466
    },
    "colab_type": "code",
    "id": "kcGwQjaW8wyI",
    "outputId": "501a461c-8931-49ea-83aa-c2c6bb57d1eb"
   },
   "outputs": [],
   "source": [
    "fig = plt.figure(figsize=(10, 8))\n",
    "\n",
    "b = [0 for i in range(n)]\n",
    "\n",
    "ax = fig.add_subplot(111, projection='3d')\n",
    "\n",
    "xx, yy = np.meshgrid(range(-5, 5), range(-5, 5))\n",
    "\n",
    "z1 = 0.0001 * np.array(xx) + w2* np.array(yy)\n",
    "z2 = w1 * np.array(xx) + 0.0001*np.array(yy)\n",
    "ax.scatter(X[0:200, 0],X[0:200, 1], y1, alpha=0.5, color='blue')\n",
    "ax.scatter(X[200:400, 0],X[200:400, 1], y2, alpha=0.5, color='red')\n",
    "#ax.scatter(y, x, z2, color='red')\n",
    "#ax.scatter(y11, x, z2, color='red')\n",
    "#ax.scatter(y22, x, z2, color='red')\n",
    "ax.plot_surface(xx, yy, z1, alpha = 0.1, color = 'red')\n",
    "ax.plot_surface(xx, yy, z2, alpha = 0.1, color = 'blue')\n",
    "ax.view_init(30,40)\n",
    "ax.set_xlabel('$x_1$', fontsize=15, fontweight=\"bold\")\n",
    "ax.set_ylabel('$x_2$', fontsize=15, fontweight=\"bold\")\n",
    "ax.set_zlabel('$y$', fontsize=15, fontweight=\"bold\")\n",
    "#ax.set_title('', fontsize=15, fontweight=\"bold\")\n",
    "pylab.savefig('experiment2_random.pdf')"
   ]
  },
  {
   "cell_type": "markdown",
   "metadata": {
    "colab_type": "text",
    "id": "MIsK_44bJ8fm"
   },
   "source": [
    "### Заполнение нулями"
   ]
  },
  {
   "cell_type": "code",
   "execution_count": 0,
   "metadata": {
    "colab": {},
    "colab_type": "code",
    "id": "kQdoLTpH86lJ"
   },
   "outputs": [],
   "source": [
    "nn = 200 \n",
    "#порождение данных с нулевым заполнением\n",
    "x1 = np.random.randn(nn, 1)\n",
    "x2 = np.random.randn(nn, 1)\n",
    "y1 = np.array([f_1(x) for x in x1])\n",
    "y2 = np.array([f_2(x) for x in x2])\n",
    "\n",
    "#две выборки, когда признаки заполняются случайно\n",
    "X1 = np.hstack([x1, np.zeros((nn,1))]) \n",
    "X2 = np.hstack([np.zeros((nn,1)), x2])\n",
    "\n",
    "X = np.vstack([X1, X2])\n",
    "Y = np.hstack([y1, y2])"
   ]
  },
  {
   "cell_type": "code",
   "execution_count": 19,
   "metadata": {
    "colab": {
     "base_uri": "https://localhost:8080/",
     "height": 323
    },
    "colab_type": "code",
    "id": "TDIqND0LGxEO",
    "outputId": "322d008d-991a-4dd0-b09e-44297d70fc5d"
   },
   "outputs": [
    {
     "data": {
      "image/png": "[encoded data removed]",
      "text/plain": [
       "<Figure size 360x360 with 1 Axes>"
      ]
     },
     "metadata": {
      "needs_background": "light",
      "tags": []
     },
     "output_type": "display_data"
    }
   ],
   "source": [
    "FONT_SIZE = 12\n",
    "\n",
    "plt.rcParams['lines.linewidth'] = 3\n",
    "plt.rcParams['lines.markersize'] = 6\n",
    "plt.rcParams['xtick.labelsize'] = FONT_SIZE\n",
    "plt.rcParams['ytick.labelsize'] = FONT_SIZE\n",
    "plt.rcParams['legend.fontsize'] = FONT_SIZE\n",
    "plt.rcParams['axes.titlesize']=FONT_SIZE\n",
    "plt.rcParams['axes.labelsize']=FONT_SIZE\n",
    "plt.rcParams['figure.figsize'] = (5.0, 5.0)\n",
    "plt.rcParams['font.size'] = FONT_SIZE\n",
    "##############################################\n",
    "\n",
    "_ = plt.plot(X[:, 0], X[:, 1], '.')"
   ]
  },
  {
   "cell_type": "code",
   "execution_count": 0,
   "metadata": {
    "colab": {},
    "colab_type": "code",
    "id": "PyFEsMAZJ00U"
   },
   "outputs": [],
   "source": [
    "real_second_w = np.array([[10.], [0.]])\n",
    "real_first_w = np.array([[0.], [50.]])\n",
    "X_tr = torch.FloatTensor(X)\n",
    "Y_tr = torch.FloatTensor(Y).view([-1,1])"
   ]
  },
  {
   "cell_type": "code",
   "execution_count": 0,
   "metadata": {
    "colab": {},
    "colab_type": "code",
    "id": "Ne-bz3sWKL30"
   },
   "outputs": [],
   "source": [
    "mixture.fit(X_tr, Y_tr)\n",
    "predicted_first_w = mixture.ListOfModels[0].W.numpy()\n",
    "predicted_second_w = mixture.ListOfModels[1].W.numpy()\n",
    "weights = []\n",
    "weights.append([predicted_first_w[0][0], predicted_first_w[1][0]])\n",
    "weights.append([predicted_second_w[0][0], predicted_second_w[1][0]])"
   ]
  },
  {
   "cell_type": "code",
   "execution_count": 22,
   "metadata": {
    "colab": {
     "base_uri": "https://localhost:8080/",
     "height": 34
    },
    "colab_type": "code",
    "id": "Wu0GIe7bKO-2",
    "outputId": "d2188e57-0fbd-4761-a495-f71ac547d750"
   },
   "outputs": [
    {
     "name": "stdout",
     "output_type": "stream",
     "text": [
      "[20.012548, 49.81826] [20.040556, 49.962093]\n"
     ]
    }
   ],
   "source": [
    "print(weights[0], weights[1])\n",
    "w1 = weights[0][0]\n",
    "w2 = weights[1][1]"
   ]
  },
  {
   "cell_type": "code",
   "execution_count": null,
   "metadata": {
    "colab": {
     "base_uri": "https://localhost:8080/",
     "height": 466
    },
    "colab_type": "code",
    "id": "cuHOkNvpKQ6j",
    "outputId": "b23be201-bc22-41f2-b776-1b82e780c2aa"
   },
   "outputs": [],
   "source": [
    "fig = plt.figure(figsize=(10, 8))\n",
    "\n",
    "b = [0 for i in range(n)]\n",
    "\n",
    "ax = fig.add_subplot(111, projection='3d')\n",
    "\n",
    "xx, yy = np.meshgrid(range(-5, 5), range(-5, 5))\n",
    "\n",
    "z1 = 0.0001 * np.array(xx) + w2* np.array(yy)\n",
    "z2 = w1 * np.array(xx) + 0.0001*np.array(yy)\n",
    "ax.scatter(X[0:200, 0],X[0:200, 1], y1, alpha=0.5, color='blue')\n",
    "ax.scatter(X[200:400, 0],X[200:400, 1], y2, alpha=0.5, color='red')\n",
    "#ax.scatter(y, x, z2, color='red')\n",
    "#ax.scatter(y11, x, z2, color='red')\n",
    "#ax.scatter(y22, x, z2, color='red')\n",
    "ax.plot_surface(xx, yy, z1, alpha = 0.1, color = 'red')\n",
    "ax.plot_surface(xx, yy, z2, alpha = 0.1, color = 'blue')\n",
    "ax.view_init(30,40)\n",
    "ax.set_xlabel('$x_1$', fontsize=30, fontweight=\"bold\")\n",
    "ax.set_ylabel('$x_2$', fontsize=30, fontweight=\"bold\")\n",
    "ax.set_zlabel('$y$', fontsize=30, fontweight=\"bold\")\n",
    "#ax.set_title('', fontsize=15, fontweight=\"bold\")\n",
    "pylab.savefig('experiment2_zeros.pdf')"
   ]
  },
  {
   "cell_type": "code",
   "execution_count": 0,
   "metadata": {
    "colab": {},
    "colab_type": "code",
    "id": "2s-6ySLAKmMR"
   },
   "outputs": [],
   "source": []
  }
 ],
 "metadata": {
  "colab": {
   "collapsed_sections": [],
   "name": "linear_model_and_ensemble_comparing.ipynb",
   "provenance": []
  },
  "kernelspec": {
   "display_name": "Python 3",
   "language": "python",
   "name": "python3"
  },
  "language_info": {
   "codemirror_mode": {
    "name": "ipython",
    "version": 3
   },
   "file_extension": ".py",
   "mimetype": "text/x-python",
   "name": "python",
   "nbconvert_exporter": "python",
   "pygments_lexer": "ipython3",
   "version": "3.7.4"
  }
 },
 "nbformat": 4,
 "nbformat_minor": 1
}
