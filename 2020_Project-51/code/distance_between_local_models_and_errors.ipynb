{
 "cells": [
  {
   "cell_type": "code",
   "execution_count": null,
   "metadata": {
    "colab": {
     "base_uri": "https://localhost:8080/",
     "height": 313
    },
    "colab_type": "code",
    "id": "lIFLuPwaBzj4",
    "outputId": "9e46d95b-eafd-448a-b383-81c328ab16ed"
   },
   "outputs": [],
   "source": [
    "!git clone https://github.com/andriygav/MixtureLib.git\n",
    "!python3 -m pip install MixtureLib/src/.\n",
    "\n",
    "from mixturelib.local_models import EachModelLinear\n",
    "from mixturelib.hyper_models import HyperExpertNN, HyperModelDirichlet\n",
    "from mixturelib.mixture import MixtureEM\n",
    "\n",
    "import matplotlib.pyplot as plt\n",
    "from matplotlib import gridspec\n",
    "import pylab\n",
    "from sklearn import metrics\n",
    "\n",
    "from tqdm import tqdm_notebook as tqdm\n",
    "import numpy as np\n",
    "import torch\n",
    "\n",
    "device = torch.device(\"cuda\" if torch.cuda.is_available() else \"cpu\")\n",
    "device"
   ]
  },
  {
   "cell_type": "markdown",
   "metadata": {
    "colab_type": "text",
    "id": "vnAX0EiyMUWO"
   },
   "source": [
    "### Линейная модель"
   ]
  },
  {
   "cell_type": "code",
   "execution_count": 0,
   "metadata": {
    "colab": {},
    "colab_type": "code",
    "id": "Dxlju-n3Cew4"
   },
   "outputs": [],
   "source": [
    "def f_1(x):\n",
    "    return 10*x[0] + np.random.randn()\n",
    "\n",
    "def f_2(x):\n",
    "    return 50*x[0] + np.random.randn()\n",
    "\n",
    "def cor_Pearson(a, b):\n",
    "    a_mean = np.mean(a)\n",
    "    b_mean = np.mean(b)\n",
    "    first_sum = 0\n",
    "    second_sum = 0\n",
    "    third_sum = 0\n",
    "    for i in range(len(a)):\n",
    "        first_sum += (float(a[i]) - float(a_mean))*(float(b[i]) - float(b_mean))\n",
    "        second_sum += (float(a[i]) - float(a_mean))**2\n",
    "        third_sum += (float(b[i]) - float(b_mean))**2\n",
    "    return first_sum/(second_sum*third_sum)**(0.5)\n",
    "\n",
    "N = 200\n",
    "n = 2\n",
    "nn = 200\n",
    "\n",
    "errors = []\n",
    "correlations = []\n",
    "sigmas = [0.0,0.1,0.2,0.3,0.4,0.5,0.6,0.7,0.8,0.9,\n",
    "          1.0,0.03,0.04,0.05,0.06,0.07,0.08,0.09,\n",
    "          0.15,0.25,0.35,0.45,0.55,0.65,0.75,0.85,\n",
    "          0.95,0.11,0.12,0.13,0.14,0.15,0.22,0.27,\n",
    "          0.32,0.37,0.42,0.47,0.52,0.57,0.62,0.67,\n",
    "          0.72,0.77,0.82,0.87,0.92,0.97]"
   ]
  },
  {
   "cell_type": "code",
   "execution_count": 0,
   "metadata": {
    "colab": {},
    "colab_type": "code",
    "id": "ixL9mZ1sC1Do"
   },
   "outputs": [],
   "source": [
    "torch.random.manual_seed(42)\n",
    "first_model = EachModelLinear(input_dim=2)\n",
    "second_model = EachModelLinear(input_dim=2)\n",
    "\n",
    "list_of_models = [first_model, second_model]\n",
    "\n",
    "HpMd = HyperExpertNN(input_dim=2, hidden_dim=5,output_dim=2, epochs=1000)\n",
    "\n",
    "mixture = MixtureEM(HyperParameters={'beta': 1.},\n",
    "                    HyperModel=HpMd,\n",
    "                    ListOfModels=list_of_models,\n",
    "                    model_type='sample')"
   ]
  },
  {
   "cell_type": "code",
   "execution_count": null,
   "metadata": {
    "colab": {
     "base_uri": "https://localhost:8080/",
     "height": 398
    },
    "colab_type": "code",
    "id": "w9_xVbh7C5Rt",
    "outputId": "0a33b462-0eed-4a3b-e8d1-d4d236f3489a"
   },
   "outputs": [],
   "source": [
    "for i, sigma in enumerate(sigmas):\n",
    "    #порождение данных\n",
    "    x1 = np.random.normal(0, 1, (200, 1))\n",
    "    x2 = np.random.normal(0, 1, (200, 1))\n",
    "    y1 = np.array([f_1(x) for x in x1])\n",
    "    y2 = np.array([f_2(x) for x in x2])\n",
    "    s1 = np.random.normal(0, sigma, 200).reshape((200, 1))\n",
    "    s2 = np.random.normal(0, sigma, 200).reshape((200, 1))\n",
    "    X1 = np.hstack([x1, s1]) \n",
    "    X2 = np.hstack([s2, x2])\n",
    "    X = np.vstack([X1, X2])\n",
    "    Y = np.hstack([y1, y2])\n",
    "    real_second_w = np.array([[10.], [0.]])\n",
    "    real_first_w = np.array([[0.], [50.]])\n",
    "    X_tr = torch.FloatTensor(X)\n",
    "    Y_tr = torch.FloatTensor(Y).view([-1,1])\n",
    "    #обучение модели\n",
    "    torch.random.manual_seed(42)\n",
    "    mixture.fit(X_tr, Y_tr)\n",
    "    predicted_first_w = mixture.ListOfModels[0].W.numpy()\n",
    "    predicted_second_w = mixture.ListOfModels[1].W.numpy()\n",
    "    weights = []\n",
    "    weights.append([predicted_first_w[0][0], predicted_first_w[1][0]])\n",
    "    weights.append([predicted_second_w[0][0], predicted_second_w[1][0]])\n",
    "    #расчет расстояния между оптимальными локальными моделями, ошибка ансамбля\n",
    "    Y1 = X.dot(weights[0])\n",
    "    Y2 = X.dot(weights[1])\n",
    "    correlations.append(cor_Pearson(Y1, Y2))\n",
    "    pi = mixture.HyperModel.PredictPi(X_tr, None)\n",
    "    #общая ошибка ансамбля\n",
    "    er = torch.cat([pi[:, k].view([-1,1])*(Y_tr - local_model(X_tr))**2 for k, local_model in enumerate(mixture.ListOfModels)], dim=1).sum()\n",
    "    errors.append(float(er))\n",
    "    print(sigma, cor_Pearson(Y1, Y2), float(er))\n"
   ]
  },
  {
   "cell_type": "code",
   "execution_count": 0,
   "metadata": {
    "colab": {},
    "colab_type": "code",
    "id": "1U_P5HANEF44"
   },
   "outputs": [],
   "source": [
    "#график зависимости расстояния от параметра шума\n",
    "fig = plt.figure(figsize=(10,8))   \n",
    "\n",
    "plt.scatter(sigmas, correlations, color='darkblue', alpha=0.7)  \n",
    "\n",
    "print (fig.axes)\n",
    "plt.xlabel('$\\sigma$', fontsize=20)\n",
    "plt.ylabel('Pearson correlation', fontsize=20)\n",
    "plt.plot(np.full(13, 0.15), np.arange(-0.2, 1.1, 0.1), 'b--', alpha=0.3)\n",
    "plt.minorticks_on()\n",
    "plt.grid(which='major', color='black', alpha =0.3)\n",
    "plt.grid(which='minor', color='grey', alpha=0.2)\n",
    "plt.xlim([-0.02, 1.02])\n",
    "plt.ylim([-0.15, 1.02])\n",
    "pylab.savefig('Pearson_cor_sigma_for_linear_models.pdf')\n",
    "plt.show()"
   ]
  },
  {
   "cell_type": "code",
   "execution_count": 0,
   "metadata": {
    "colab": {},
    "colab_type": "code",
    "id": "W0ELLDx2FaN2"
   },
   "outputs": [],
   "source": [
    "fig = plt.figure(figsize=(10,8))\n",
    "\n",
    "plt.scatter(sigmas, errors)  \n",
    "\n",
    "print (fig.axes)\n",
    "plt.legend(loc='best')\n",
    "plt.xlabel('$\\sigma$')\n",
    "plt.ylabel('Error')\n",
    "\n",
    "\n",
    "\n",
    "pylab.savefig('Errors_sigma_for_linear.pdf')\n",
    "plt.show()"
   ]
  },
  {
   "cell_type": "markdown",
   "metadata": {
    "colab_type": "text",
    "id": "yewU88YbMS5u"
   },
   "source": [
    "###Boston and Servo"
   ]
  },
  {
   "cell_type": "code",
   "execution_count": 0,
   "metadata": {
    "colab": {},
    "colab_type": "code",
    "id": "7UH9x5d6MZzB"
   },
   "outputs": [],
   "source": [
    "from sklearn.datasets import load_boston\n",
    "import pandas as pd  \n",
    "import seaborn as sns\n",
    "from sklearn.preprocessing import scale\n",
    "from sklearn.model_selection import train_test_split\n",
    "\n",
    "boston_dataset = load_boston()\n",
    "boston = pd.DataFrame(boston_dataset.data, columns=boston_dataset.feature_names)\n",
    "X_boston = pd.DataFrame(boston_dataset.data, columns=boston_dataset.feature_names).values\n",
    "y_boston = boston['MEDV'] = boston_dataset.target\n",
    "#Servo\n",
    "def LoadData(url = \"https://raw.githubusercontent.com/ttgadaev/SampleSizeEstimation/master/datasets/servo.csv\",\n",
    "             path = None):\n",
    "    \"\"\"\n",
    "    return X, y\n",
    "    \"\"\"\n",
    "    if path is not None:\n",
    "        if os.path.exists(path):\n",
    "            data = pd.read_csv(path, header=0)\n",
    "        else:\n",
    "            data = pd.read_csv(url, header=0)\n",
    "            data.to_csv(path, header=True, index=False)\n",
    "    else:\n",
    "        data = pd.read_csv(url, header=0)\n",
    "\n",
    "    y = data['answer'].values\n",
    "    del data['answer']\n",
    "    X = data.values\n",
    "    return X, y\n",
    "\n",
    "X_servo, y_servo = LoadData(url = \"https://raw.githubusercontent.com/ttgadaev/SampleSizeEstimation/master/datasets/servo.csv\")\n",
    "\n",
    "X_servo[np.where(X_servo == 'A')] = 1\n",
    "X_servo[np.where(X_servo == 'B')] = 2\n",
    "X_servo[np.where(X_servo == 'C')] = 3\n",
    "X_servo[np.where(X_servo == 'D')] = 4\n",
    "X_servo[np.where(X_servo == 'E')] = 5\n",
    "X_servo = np.array(X_servo, dtype = np.float64)"
   ]
  },
  {
   "cell_type": "code",
   "execution_count": 0,
   "metadata": {
    "colab": {},
    "colab_type": "code",
    "id": "x9Q8uvJuOttm"
   },
   "outputs": [],
   "source": [
    "torch.random.manual_seed(42)\n",
    "first_model = EachModelLinear(input_dim=13)\n",
    "second_model = EachModelLinear(input_dim=13)\n",
    "\n",
    "list_of_models = [first_model, second_model]\n",
    "HpMd = HyperExpertNN(input_dim=13, hidden_dim=5,output_dim=2, epochs=1000)\n",
    "mixture = MixtureEM(HyperParameters={'beta': 1.},\n",
    "                    HyperModel=HpMd,\n",
    "                    ListOfModels=list_of_models,\n",
    "                    model_type='sample')"
   ]
  },
  {
   "cell_type": "code",
   "execution_count": 0,
   "metadata": {
    "colab": {},
    "colab_type": "code",
    "id": "a4UwlDggMd8g"
   },
   "outputs": [],
   "source": [
    "sigmas1 = sigmas\n",
    "correlations1 = []\n",
    "errors1 = []\n",
    "errors_model1 = []\n",
    "errors_model2 = []"
   ]
  },
  {
   "cell_type": "code",
   "execution_count": 0,
   "metadata": {
    "colab": {},
    "colab_type": "code",
    "id": "E9iF6-EEMn4e"
   },
   "outputs": [],
   "source": [
    "for i, sigma in enumerate(sigmas1):\n",
    "    #Порождение данных\n",
    "    X1 = X_boston\n",
    "    X1 = scale(X1)\n",
    "    X2 = X_servo\n",
    "    s = np.zeros((167, 9))\n",
    "    for i in range(9):\n",
    "        s[:,i] = np.random.normal(0, sigma, 167)\n",
    "    X2 = np.hstack([X2, s])\n",
    "    X2 = scale(X2)\n",
    "    X = np.vstack([X1, X2])\n",
    "    Y = np.hstack([y_boston, y_servo])\n",
    "    X = scale(X)\n",
    "    Y = scale(Y)\n",
    "    torch.random.manual_seed(42)\n",
    "    X_tr = torch.FloatTensor(X)\n",
    "    Y_tr = torch.FloatTensor(Y).view([-1,1])\n",
    "    #print(X_tr.shape, Y_tr.shape)\n",
    "    #Обучение ансамбля\n",
    "    torch.random.manual_seed(42)\n",
    "    mixture.fit(X_tr, Y_tr)\n",
    "    predict_1 = []\n",
    "    predict_2 = []    \n",
    "    for i in range(13):\n",
    "        predict_1.append(mixture.ListOfModels[0].W[i][0])\n",
    "    predict_1 = np.array(predict_1)\n",
    "    for i in range(13):\n",
    "        predict_2.append(mixture.ListOfModels[1].W[i][0])\n",
    "    predict_2 = np.array(predict_2)\n",
    "    #----------distance between local models---------------\n",
    "    temp = []\n",
    "    Y1 = X.dot(predict_1)\n",
    "    Y2 = X.dot(predict_2)\n",
    "    pi = mixture.HyperModel.PredictPi(X_tr, None)\n",
    "    er = torch.cat([pi[:, k].view([-1,1])*(Y_tr - local_model(X_tr))**2 for k, local_model in enumerate(mixture.ListOfModels)], dim=1).sum()\n",
    "    local_model = mixture.ListOfModels[0]\n",
    "    er1 = torch.cat([pi[:, 0].view([-1,1])*(Y_tr - local_model(X_tr))**2], dim=1).sum()\n",
    "    local_model = mixture.ListOfModels[1]\n",
    "    er2 = torch.cat([pi[:, 1].view([-1,1])*(Y_tr - local_model(X_tr))**2], dim=1).sum()\n",
    "    errors1.append(float(er))\n",
    "    errors_model1.append(float(er1))\n",
    "    errors_model2.append(float(er2))\n",
    "    correlations1.append(cor_Pearson(Y1, Y2))\n",
    "    print(sigma, cor_Pearson(Y1, Y2), float(er))"
   ]
  },
  {
   "cell_type": "code",
   "execution_count": 0,
   "metadata": {
    "colab": {},
    "colab_type": "code",
    "id": "Ox7eLZitOqnd"
   },
   "outputs": [],
   "source": [
    "fig = plt.figure(figsize=(10,8))   \n",
    "plt.scatter(sigmas1, correlations1)  \n",
    "\n",
    "# После нанесения графического элемента в виде маркера\n",
    "# список текущих областей состоит из одной области\n",
    "print (fig.axes)\n",
    "plt.legend(loc='best')\n",
    "plt.xlabel('$\\sigma$')\n",
    "plt.ylabel('Pearson correlation')\n",
    "# смотри преамбулу\n",
    "\n",
    "\n",
    "pylab.savefig('Pearson_cor_sigma.pdf')\n",
    "plt.show()"
   ]
  },
  {
   "cell_type": "code",
   "execution_count": 0,
   "metadata": {
    "colab": {},
    "colab_type": "code",
    "id": "jdOSpbTOPBP9"
   },
   "outputs": [],
   "source": [
    "fig = plt.figure(figsize=(10,8))   \n",
    "plt.scatter(sigmas1, errors1)  \n",
    "\n",
    "# После нанесения графического элемента в виде маркера\n",
    "# список текущих областей состоит из одной области\n",
    "print (fig.axes)\n",
    "plt.legend(loc='best')\n",
    "plt.xlabel('$\\sigma$')\n",
    "plt.ylabel('Pearson correlation')\n",
    "# смотри преамбулу\n",
    "\n",
    "\n",
    "pylab.savefig('Ensemble_errors_sigma.pdf')\n",
    "plt.show()"
   ]
  },
  {
   "cell_type": "code",
   "execution_count": 0,
   "metadata": {
    "colab": {},
    "colab_type": "code",
    "id": "5JoBoQFhPBW-"
   },
   "outputs": [],
   "source": [
    "fig = plt.figure(figsize=(10,8))   \n",
    "plt.scatter(sigmas1, errors_model1)  \n",
    "\n",
    "# После нанесения графического элемента в виде маркера\n",
    "# список текущих областей состоит из одной области\n",
    "print (fig.axes)\n",
    "plt.legend(loc='best')\n",
    "plt.xlabel('$\\sigma$')\n",
    "plt.ylabel('Pearson correlation')\n",
    "# смотри преамбулу\n",
    "\n",
    "\n",
    "pylab.savefig('Ensemble_errors_model1_sigma.pdf')\n",
    "plt.show()"
   ]
  },
  {
   "cell_type": "code",
   "execution_count": 0,
   "metadata": {
    "colab": {},
    "colab_type": "code",
    "id": "6ccay-LQPBcH"
   },
   "outputs": [],
   "source": [
    "fig = plt.figure(figsize=(10,8))   \n",
    "plt.scatter(sigmas1, errors_model2)  \n",
    "\n",
    "# После нанесения графического элемента в виде маркера\n",
    "# список текущих областей состоит из одной области\n",
    "print (fig.axes)\n",
    "plt.legend(loc='best')\n",
    "plt.xlabel('$\\sigma$')\n",
    "plt.ylabel('Pearson correlation')\n",
    "# смотри преамбулу\n",
    "\n",
    "\n",
    "pylab.savefig('Ensemble_errors_model2_sigma.pdf')\n",
    "plt.show()"
   ]
  }
 ],
 "metadata": {
  "colab": {
   "collapsed_sections": [],
   "name": "distance_between_local_models_and_errors.ipynb",
   "provenance": []
  },
  "kernelspec": {
   "display_name": "Python 3",
   "language": "python",
   "name": "python3"
  },
  "language_info": {
   "codemirror_mode": {
    "name": "ipython",
    "version": 3
   },
   "file_extension": ".py",
   "mimetype": "text/x-python",
   "name": "python",
   "nbconvert_exporter": "python",
   "pygments_lexer": "ipython3",
   "version": "3.7.4"
  }
 },
 "nbformat": 4,
 "nbformat_minor": 1
}
