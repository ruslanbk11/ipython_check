{
 "cells": [
  {
   "cell_type": "markdown",
   "metadata": {
    "id": "aEcgyEmJp1hE"
   },
   "source": [
    "```yaml\n",
    "#%mldev nb_context\n",
    "\n",
    "pipeline:\n",
    "  - imports\n",
    "  - lin_model\n",
    "  - mixture\n",
    "  - print_sigma\n",
    "  - plot\n",
    "  - plot_2\n",
    "  - x_servo\n",
    "  - mixture_2\n",
    "  - params\n",
    "  - print_sigmas_2\n",
    "  - Pearson\n",
    "  - fig_3\n",
    "  - plt_1\n",
    "  - plt_final\n",
    "\n",
    "```"
   ]
  },
  {
   "cell_type": "code",
   "execution_count": 1,
   "metadata": {
    "colab": {
     "base_uri": "https://localhost:8080/"
    },
    "executionInfo": {
     "elapsed": 10406,
     "status": "ok",
     "timestamp": 1621504146927,
     "user": {
      "displayName": "Руслан Кошкин",
      "photoUrl": "",
      "userId": "02826648336057215366"
     },
     "user_tz": -180
    },
    "id": "lIFLuPwaBzj4",
    "outputId": "64bfab06-050e-4f1d-af25-77579ad1f7e0"
   },
   "outputs": [
    {
     "name": "stdout",
     "output_type": "stream",
     "text": [
      "Cloning into 'MixtureLib'...\n",
      "remote: Enumerating objects: 1595, done.\u001b[K\n",
      "remote: Counting objects: 100% (154/154), done.\u001b[K\n",
      "remote: Compressing objects: 100% (100/100), done.\u001b[K\n",
      "remote: Total 1595 (delta 69), reused 101 (delta 51), pack-reused 1441\u001b[K\n",
      "Receiving objects: 100% (1595/1595), 9.06 MiB | 30.42 MiB/s, done.\n",
      "Resolving deltas: 100% (882/882), done.\n",
      "Processing ./MixtureLib/src\n",
      "Requirement already satisfied: torch>=1.3.1+cpu in /usr/local/lib/python3.7/dist-packages (from mixturelib==0.4.0) (1.8.1+cu101)\n",
      "Requirement already satisfied: numpy>=1.18.1 in /usr/local/lib/python3.7/dist-packages (from mixturelib==0.4.0) (1.19.5)\n",
      "Requirement already satisfied: typing-extensions in /usr/local/lib/python3.7/dist-packages (from torch>=1.3.1+cpu->mixturelib==0.4.0) (3.7.4.3)\n",
      "Building wheels for collected packages: mixturelib\n",
      "  Building wheel for mixturelib (setup.py) ... \u001b[?25l\u001b[?25hdone\n",
      "  Created wheel for mixturelib: filename=mixturelib-0.4.0-cp37-none-any.whl size=13739 sha256=1f0f94072d89a5a2c56b3e4654279faa40844114ec09b6f8e9a0ca4972e31aa1\n",
      "  Stored in directory: /tmp/pip-ephem-wheel-cache-n89bxtwq/wheels/8f/0e/0e/7b633cbf34c93d96d5b40677655ae6cda78087b2231b3cb1dc\n",
      "Successfully built mixturelib\n",
      "Installing collected packages: mixturelib\n",
      "Successfully installed mixturelib-0.4.0\n"
     ]
    },
    {
     "data": {
      "text/plain": [
       "device(type='cpu')"
      ]
     },
     "execution_count": 1,
     "metadata": {
      "tags": []
     },
     "output_type": "execute_result"
    }
   ],
   "source": [
    "!git clone https://github.com/andriygav/MixtureLib.git\n",
    "!python3 -m pip install MixtureLib/src/.\n",
    "\n",
    "from mixturelib.local_models import EachModelLinear\n",
    "from mixturelib.hyper_models import HyperExpertNN, HyperModelDirichlet\n",
    "from mixturelib.mixture import MixtureEM\n",
    "\n",
    "import matplotlib.pyplot as plt\n",
    "from matplotlib import gridspec\n",
    "import pylab\n",
    "from sklearn import metrics\n",
    "\n",
    "from tqdm import tqdm_notebook as tqdm\n",
    "import numpy as np\n",
    "import torch\n",
    "\n",
    "device = torch.device(\"cuda\" if torch.cuda.is_available() else \"cpu\")\n",
    "device\n",
    "\n",
    "#%mldev imports"
   ]
  },
  {
   "cell_type": "markdown",
   "metadata": {
    "id": "vnAX0EiyMUWO"
   },
   "source": [
    "### Линейная модель"
   ]
  },
  {
   "cell_type": "code",
   "execution_count": 2,
   "metadata": {
    "executionInfo": {
     "elapsed": 10397,
     "status": "ok",
     "timestamp": 1621504146927,
     "user": {
      "displayName": "Руслан Кошкин",
      "photoUrl": "",
      "userId": "02826648336057215366"
     },
     "user_tz": -180
    },
    "id": "Dxlju-n3Cew4"
   },
   "outputs": [],
   "source": [
    "def f_1(x):\n",
    "    return 10*x[0] + np.random.randn()\n",
    "\n",
    "def f_2(x):\n",
    "    return 50*x[0] + np.random.randn()\n",
    "\n",
    "def cor_Pearson(a, b):\n",
    "    a_mean = np.mean(a)\n",
    "    b_mean = np.mean(b)\n",
    "    first_sum = 0\n",
    "    second_sum = 0\n",
    "    third_sum = 0\n",
    "    for i in range(len(a)):\n",
    "        first_sum += (float(a[i]) - float(a_mean))*(float(b[i]) - float(b_mean))\n",
    "        second_sum += (float(a[i]) - float(a_mean))**2\n",
    "        third_sum += (float(b[i]) - float(b_mean))**2\n",
    "    return first_sum/(second_sum*third_sum)**(0.5)\n",
    "\n",
    "N = 200\n",
    "n = 2\n",
    "nn = 200\n",
    "\n",
    "errors = []\n",
    "correlations = []\n",
    "sigmas = [0.0,0.1,0.2,0.3,0.4,0.5,0.6,0.7,0.8,0.9,\n",
    "          1.0]\n",
    "\n",
    "#%mldev lin_model"
   ]
  },
  {
   "cell_type": "code",
   "execution_count": 3,
   "metadata": {
    "executionInfo": {
     "elapsed": 10392,
     "status": "ok",
     "timestamp": 1621504146928,
     "user": {
      "displayName": "Руслан Кошкин",
      "photoUrl": "",
      "userId": "02826648336057215366"
     },
     "user_tz": -180
    },
    "id": "ixL9mZ1sC1Do"
   },
   "outputs": [],
   "source": [
    "torch.random.manual_seed(42)\n",
    "first_model = EachModelLinear(input_dim=2)\n",
    "second_model = EachModelLinear(input_dim=2)\n",
    "\n",
    "list_of_models = [first_model, second_model]\n",
    "\n",
    "HpMd = HyperExpertNN(input_dim=2, hidden_dim=5,output_dim=2, epochs=1000)\n",
    "\n",
    "mixture = MixtureEM(HyperParameters={'beta': 1.},\n",
    "                    HyperModel=HpMd,\n",
    "                    ListOfModels=list_of_models,\n",
    "                    model_type='sample')\n",
    "\n",
    "#%mldev mixture"
   ]
  },
  {
   "cell_type": "code",
   "execution_count": 4,
   "metadata": {
    "colab": {
     "base_uri": "https://localhost:8080/"
    },
    "executionInfo": {
     "elapsed": 648254,
     "status": "ok",
     "timestamp": 1621504784809,
     "user": {
      "displayName": "Руслан Кошкин",
      "photoUrl": "",
      "userId": "02826648336057215366"
     },
     "user_tz": -180
    },
    "id": "w9_xVbh7C5Rt",
    "outputId": "986d9e85-53dd-44d0-b2cb-73bb4ae642f9"
   },
   "outputs": [
    {
     "name": "stdout",
     "output_type": "stream",
     "text": [
      "0.0 0.9999797560975168 449.89508056640625\n",
      "0.1 0.9997428379105414 5901.6328125\n",
      "0.2 0.9988373938267215 22543.4375\n",
      "0.3 0.9975796678230887 44202.29296875\n",
      "0.4 0.040789252317385456 69350.53125\n",
      "0.5 -0.03439497757244784 94684.609375\n",
      "0.6 0.012693539266348313 154981.5\n",
      "0.7 0.093190846640711 237208.09375\n",
      "0.8 0.05497775837669153 374954.375\n",
      "0.9 0.01259706258343038 433359.125\n",
      "1.0 -0.0710211642016051 477610.8125\n"
     ]
    }
   ],
   "source": [
    "for i, sigma in enumerate(sigmas):\n",
    "    #порождение данных\n",
    "    x1 = np.random.normal(0, 1, (200, 1))\n",
    "    x2 = np.random.normal(0, 1, (200, 1))\n",
    "    y1 = np.array([f_1(x) for x in x1])\n",
    "    y2 = np.array([f_2(x) for x in x2])\n",
    "    s1 = np.random.normal(0, sigma, 200).reshape((200, 1))\n",
    "    s2 = np.random.normal(0, sigma, 200).reshape((200, 1))\n",
    "    X1 = np.hstack([x1, s1]) \n",
    "    X2 = np.hstack([s2, x2])\n",
    "    X = np.vstack([X1, X2])\n",
    "    Y = np.hstack([y1, y2])\n",
    "    real_second_w = np.array([[10.], [0.]])\n",
    "    real_first_w = np.array([[0.], [50.]])\n",
    "    X_tr = torch.FloatTensor(X)\n",
    "    Y_tr = torch.FloatTensor(Y).view([-1,1])\n",
    "    #обучение модели\n",
    "    torch.random.manual_seed(42)\n",
    "    mixture.fit(X_tr, Y_tr)\n",
    "    predicted_first_w = mixture.ListOfModels[0].W.numpy()\n",
    "    predicted_second_w = mixture.ListOfModels[1].W.numpy()\n",
    "    weights = []\n",
    "    weights.append([predicted_first_w[0][0], predicted_first_w[1][0]])\n",
    "    weights.append([predicted_second_w[0][0], predicted_second_w[1][0]])\n",
    "    #расчет расстояния между оптимальными локальными моделями, ошибка ансамбля\n",
    "    Y1 = X.dot(weights[0])\n",
    "    Y2 = X.dot(weights[1])\n",
    "    correlations.append(cor_Pearson(Y1, Y2))\n",
    "    pi = mixture.HyperModel.PredictPi(X_tr, None)\n",
    "    #общая ошибка ансамбля\n",
    "    er = torch.cat([pi[:, k].view([-1,1])*(Y_tr - local_model(X_tr))**2 for k, local_model in enumerate(mixture.ListOfModels)], dim=1).sum()\n",
    "    errors.append(float(er))\n",
    "    print(sigma, cor_Pearson(Y1, Y2), float(er))\n",
    "\n",
    "#%mldev print_sigma"
   ]
  },
  {
   "cell_type": "code",
   "execution_count": 5,
   "metadata": {
    "colab": {
     "base_uri": "https://localhost:8080/",
     "height": 523
    },
    "executionInfo": {
     "elapsed": 649176,
     "status": "ok",
     "timestamp": 1621504785764,
     "user": {
      "displayName": "Руслан Кошкин",
      "photoUrl": "",
      "userId": "02826648336057215366"
     },
     "user_tz": -180
    },
    "id": "1U_P5HANEF44",
    "outputId": "78246b3d-26e8-4ad0-ac21-8ce83c980d2b"
   },
   "outputs": [
    {
     "name": "stdout",
     "output_type": "stream",
     "text": [
      "[<matplotlib.axes._subplots.AxesSubplot object at 0x7fd5b7446f50>]\n"
     ]
    },
    {
     "data": {
      "image/png": "[encoded data removed]",
      "text/plain": [
       "<Figure size 720x576 with 1 Axes>"
      ]
     },
     "metadata": {
      "needs_background": "light",
      "tags": []
     },
     "output_type": "display_data"
    }
   ],
   "source": [
    "#график зависимости расстояния от параметра шума\n",
    "fig = plt.figure(figsize=(10,8))   \n",
    "\n",
    "plt.scatter(sigmas, correlations, color='darkblue', alpha=0.7)  \n",
    "\n",
    "print (fig.axes)\n",
    "plt.xlabel('$\\sigma$', fontsize=20)\n",
    "plt.ylabel('Pearson correlation', fontsize=20)\n",
    "plt.plot(np.full(13, 0.15), np.arange(-0.2, 1.1, 0.1), 'b--', alpha=0.3)\n",
    "plt.minorticks_on()\n",
    "plt.grid(which='major', color='black', alpha =0.3)\n",
    "plt.grid(which='minor', color='grey', alpha=0.2)\n",
    "plt.xlim([-0.02, 1.02])\n",
    "plt.ylim([-0.15, 1.02])\n",
    "pylab.savefig('Pearson_cor_sigma_for_linear_models.pdf')\n",
    "plt.show()\n",
    "\n",
    "#%mldev plot"
   ]
  },
  {
   "cell_type": "code",
   "execution_count": 6,
   "metadata": {
    "colab": {
     "base_uri": "https://localhost:8080/",
     "height": 534
    },
    "executionInfo": {
     "elapsed": 649168,
     "status": "ok",
     "timestamp": 1621504785766,
     "user": {
      "displayName": "Руслан Кошкин",
      "photoUrl": "",
      "userId": "02826648336057215366"
     },
     "user_tz": -180
    },
    "id": "W0ELLDx2FaN2",
    "outputId": "cb3d748c-da01-45ff-edf6-e21f98324bb8"
   },
   "outputs": [
    {
     "name": "stderr",
     "output_type": "stream",
     "text": [
      "No handles with labels found to put in legend.\n"
     ]
    },
    {
     "name": "stdout",
     "output_type": "stream",
     "text": [
      "[<matplotlib.axes._subplots.AxesSubplot object at 0x7fd5b6bef390>]\n"
     ]
    },
    {
     "data": {
      "image/png": "[encoded data removed]",
      "text/plain": [
       "<Figure size 720x576 with 1 Axes>"
      ]
     },
     "metadata": {
      "needs_background": "light",
      "tags": []
     },
     "output_type": "display_data"
    }
   ],
   "source": [
    "fig = plt.figure(figsize=(10,8))\n",
    "\n",
    "plt.scatter(sigmas, errors)  \n",
    "\n",
    "print (fig.axes)\n",
    "plt.legend(loc='best')\n",
    "plt.xlabel('$\\sigma$')\n",
    "plt.ylabel('Error')\n",
    "\n",
    "\n",
    "\n",
    "pylab.savefig('Errors_sigma_for_linear.pdf')\n",
    "plt.show()\n",
    "\n",
    "#%mldev plot_2"
   ]
  },
  {
   "cell_type": "markdown",
   "metadata": {
    "id": "yewU88YbMS5u"
   },
   "source": [
    "###Boston and Servo"
   ]
  },
  {
   "cell_type": "code",
   "execution_count": 7,
   "metadata": {
    "colab": {
     "base_uri": "https://localhost:8080/"
    },
    "executionInfo": {
     "elapsed": 649512,
     "status": "ok",
     "timestamp": 1621504786119,
     "user": {
      "displayName": "Руслан Кошкин",
      "photoUrl": "",
      "userId": "02826648336057215366"
     },
     "user_tz": -180
    },
    "id": "7UH9x5d6MZzB",
    "outputId": "2402d66d-f388-4600-85c5-7ebcf86eb136"
   },
   "outputs": [
    {
     "name": "stderr",
     "output_type": "stream",
     "text": [
      "/usr/local/lib/python3.7/dist-packages/ipykernel_launcher.py:33: FutureWarning: elementwise comparison failed; returning scalar instead, but in the future will perform elementwise comparison\n",
      "/usr/local/lib/python3.7/dist-packages/ipykernel_launcher.py:34: FutureWarning: elementwise comparison failed; returning scalar instead, but in the future will perform elementwise comparison\n",
      "/usr/local/lib/python3.7/dist-packages/ipykernel_launcher.py:35: FutureWarning: elementwise comparison failed; returning scalar instead, but in the future will perform elementwise comparison\n",
      "/usr/local/lib/python3.7/dist-packages/ipykernel_launcher.py:36: FutureWarning: elementwise comparison failed; returning scalar instead, but in the future will perform elementwise comparison\n",
      "/usr/local/lib/python3.7/dist-packages/ipykernel_launcher.py:37: FutureWarning: elementwise comparison failed; returning scalar instead, but in the future will perform elementwise comparison\n"
     ]
    }
   ],
   "source": [
    "from sklearn.datasets import load_boston\n",
    "import pandas as pd  \n",
    "import seaborn as sns\n",
    "from sklearn.preprocessing import scale\n",
    "from sklearn.model_selection import train_test_split\n",
    "\n",
    "boston_dataset = load_boston()\n",
    "boston = pd.DataFrame(boston_dataset.data, columns=boston_dataset.feature_names)\n",
    "X_boston = pd.DataFrame(boston_dataset.data, columns=boston_dataset.feature_names).values\n",
    "y_boston = boston['MEDV'] = boston_dataset.target\n",
    "#Servo\n",
    "def LoadData(url = \"https://raw.githubusercontent.com/ttgadaev/SampleSizeEstimation/master/datasets/servo.csv\",\n",
    "             path = None):\n",
    "    \"\"\"\n",
    "    return X, y\n",
    "    \"\"\"\n",
    "    if path is not None:\n",
    "        if os.path.exists(path):\n",
    "            data = pd.read_csv(path, header=0)\n",
    "        else:\n",
    "            data = pd.read_csv(url, header=0)\n",
    "            data.to_csv(path, header=True, index=False)\n",
    "    else:\n",
    "        data = pd.read_csv(url, header=0)\n",
    "\n",
    "    y = data['answer'].values\n",
    "    del data['answer']\n",
    "    X = data.values\n",
    "    return X, y\n",
    "\n",
    "X_servo, y_servo = LoadData(url = \"https://raw.githubusercontent.com/ttgadaev/SampleSizeEstimation/master/datasets/servo.csv\")\n",
    "\n",
    "X_servo[np.where(X_servo == 'A')] = 1\n",
    "X_servo[np.where(X_servo == 'B')] = 2\n",
    "X_servo[np.where(X_servo == 'C')] = 3\n",
    "X_servo[np.where(X_servo == 'D')] = 4\n",
    "X_servo[np.where(X_servo == 'E')] = 5\n",
    "X_servo = np.array(X_servo, dtype = np.float64)\n",
    "\n",
    "#%mldev x_servo"
   ]
  },
  {
   "cell_type": "code",
   "execution_count": 8,
   "metadata": {
    "executionInfo": {
     "elapsed": 649507,
     "status": "ok",
     "timestamp": 1621504786121,
     "user": {
      "displayName": "Руслан Кошкин",
      "photoUrl": "",
      "userId": "02826648336057215366"
     },
     "user_tz": -180
    },
    "id": "x9Q8uvJuOttm"
   },
   "outputs": [],
   "source": [
    "torch.random.manual_seed(42)\n",
    "first_model = EachModelLinear(input_dim=13)\n",
    "second_model = EachModelLinear(input_dim=13)\n",
    "\n",
    "list_of_models = [first_model, second_model]\n",
    "HpMd = HyperExpertNN(input_dim=13, hidden_dim=5,output_dim=2, epochs=1000)\n",
    "mixture = MixtureEM(HyperParameters={'beta': 1.},\n",
    "                    HyperModel=HpMd,\n",
    "                    ListOfModels=list_of_models,\n",
    "                    model_type='sample')\n",
    "\n",
    "#%mldev mixture_2"
   ]
  },
  {
   "cell_type": "code",
   "execution_count": 9,
   "metadata": {
    "executionInfo": {
     "elapsed": 649504,
     "status": "ok",
     "timestamp": 1621504786122,
     "user": {
      "displayName": "Руслан Кошкин",
      "photoUrl": "",
      "userId": "02826648336057215366"
     },
     "user_tz": -180
    },
    "id": "a4UwlDggMd8g"
   },
   "outputs": [],
   "source": [
    "sigmas1 = sigmas\n",
    "correlations1 = []\n",
    "errors1 = []\n",
    "errors_model1 = []\n",
    "errors_model2 = []\n",
    "\n",
    "#%mldev params"
   ]
  },
  {
   "cell_type": "code",
   "execution_count": 10,
   "metadata": {
    "colab": {
     "base_uri": "https://localhost:8080/"
    },
    "executionInfo": {
     "elapsed": 1657073,
     "status": "ok",
     "timestamp": 1621505793695,
     "user": {
      "displayName": "Руслан Кошкин",
      "photoUrl": "",
      "userId": "02826648336057215366"
     },
     "user_tz": -180
    },
    "id": "E9iF6-EEMn4e",
    "outputId": "5cbe4f9e-a3ea-4bad-ec98-920211fd4d23"
   },
   "outputs": [
    {
     "name": "stdout",
     "output_type": "stream",
     "text": [
      "0.0 -0.018896423350371803 246.09109497070312\n",
      "0.1 -0.029602189428487562 267.9654846191406\n",
      "0.2 0.06712859839266606 313.011962890625\n",
      "0.3 -0.15409172474082902 274.060546875\n",
      "0.4 -0.07940189132927282 285.8254089355469\n",
      "0.5 0.011745936846859505 277.84442138671875\n",
      "0.6 0.017289247165885906 303.0290832519531\n",
      "0.7 0.01669702606894633 282.7969970703125\n",
      "0.8 -0.09254145905288706 297.6918029785156\n",
      "0.9 -0.24147999395510486 284.24383544921875\n",
      "1.0 -0.16428412111846097 262.1064453125\n"
     ]
    }
   ],
   "source": [
    "for i, sigma in enumerate(sigmas1):\n",
    "    #Порождение данных\n",
    "    X1 = X_boston\n",
    "    X1 = scale(X1)\n",
    "    X2 = X_servo\n",
    "    s = np.zeros((167, 9))\n",
    "    for i in range(9):\n",
    "        s[:,i] = np.random.normal(0, sigma, 167)\n",
    "    X2 = np.hstack([X2, s])\n",
    "    X2 = scale(X2)\n",
    "    X = np.vstack([X1, X2])\n",
    "    Y = np.hstack([y_boston, y_servo])\n",
    "    X = scale(X)\n",
    "    Y = scale(Y)\n",
    "    torch.random.manual_seed(42)\n",
    "    X_tr = torch.FloatTensor(X)\n",
    "    Y_tr = torch.FloatTensor(Y).view([-1,1])\n",
    "    #print(X_tr.shape, Y_tr.shape)\n",
    "    #Обучение ансамбля\n",
    "    torch.random.manual_seed(42)\n",
    "    mixture.fit(X_tr, Y_tr)\n",
    "    predict_1 = []\n",
    "    predict_2 = []    \n",
    "    for i in range(13):\n",
    "        predict_1.append(mixture.ListOfModels[0].W[i][0])\n",
    "    predict_1 = np.array(predict_1)\n",
    "    for i in range(13):\n",
    "        predict_2.append(mixture.ListOfModels[1].W[i][0])\n",
    "    predict_2 = np.array(predict_2)\n",
    "    #----------distance between local models---------------\n",
    "    temp = []\n",
    "    Y1 = X.dot(predict_1)\n",
    "    Y2 = X.dot(predict_2)\n",
    "    pi = mixture.HyperModel.PredictPi(X_tr, None)\n",
    "    er = torch.cat([pi[:, k].view([-1,1])*(Y_tr - local_model(X_tr))**2 for k, local_model in enumerate(mixture.ListOfModels)], dim=1).sum()\n",
    "    local_model = mixture.ListOfModels[0]\n",
    "    er1 = torch.cat([pi[:, 0].view([-1,1])*(Y_tr - local_model(X_tr))**2], dim=1).sum()\n",
    "    local_model = mixture.ListOfModels[1]\n",
    "    er2 = torch.cat([pi[:, 1].view([-1,1])*(Y_tr - local_model(X_tr))**2], dim=1).sum()\n",
    "    errors1.append(float(er))\n",
    "    errors_model1.append(float(er1))\n",
    "    errors_model2.append(float(er2))\n",
    "    correlations1.append(cor_Pearson(Y1, Y2))\n",
    "    print(sigma, cor_Pearson(Y1, Y2), float(er))\n",
    "\n",
    "#%mldev print_sigmas_2"
   ]
  },
  {
   "cell_type": "code",
   "execution_count": 11,
   "metadata": {
    "colab": {
     "base_uri": "https://localhost:8080/",
     "height": 530
    },
    "executionInfo": {
     "elapsed": 1657728,
     "status": "ok",
     "timestamp": 1621505794357,
     "user": {
      "displayName": "Руслан Кошкин",
      "photoUrl": "",
      "userId": "02826648336057215366"
     },
     "user_tz": -180
    },
    "id": "Ox7eLZitOqnd",
    "outputId": "5301e004-e291-4d08-a084-d6ce7e0dc237"
   },
   "outputs": [
    {
     "name": "stderr",
     "output_type": "stream",
     "text": [
      "No handles with labels found to put in legend.\n"
     ]
    },
    {
     "name": "stdout",
     "output_type": "stream",
     "text": [
      "[<matplotlib.axes._subplots.AxesSubplot object at 0x7fd5b5585b10>]\n"
     ]
    },
    {
     "data": {
      "image/png": "[encoded data removed]",
      "text/plain": [
       "<Figure size 720x576 with 1 Axes>"
      ]
     },
     "metadata": {
      "needs_background": "light",
      "tags": []
     },
     "output_type": "display_data"
    }
   ],
   "source": [
    "fig = plt.figure(figsize=(10,8))   \n",
    "plt.scatter(sigmas1, correlations1)  \n",
    "\n",
    "# После нанесения графического элемента в виде маркера\n",
    "# список текущих областей состоит из одной области\n",
    "print (fig.axes)\n",
    "plt.legend(loc='best')\n",
    "plt.xlabel('$\\sigma$')\n",
    "plt.ylabel('Pearson correlation')\n",
    "# смотри преамбулу\n",
    "\n",
    "\n",
    "pylab.savefig('Pearson_cor_sigma.pdf')\n",
    "plt.show()\n",
    "\n",
    "#%mldev Pearson"
   ]
  },
  {
   "cell_type": "code",
   "execution_count": 12,
   "metadata": {
    "colab": {
     "base_uri": "https://localhost:8080/",
     "height": 530
    },
    "executionInfo": {
     "elapsed": 1658253,
     "status": "ok",
     "timestamp": 1621505794890,
     "user": {
      "displayName": "Руслан Кошкин",
      "photoUrl": "",
      "userId": "02826648336057215366"
     },
     "user_tz": -180
    },
    "id": "jdOSpbTOPBP9",
    "outputId": "b63069e5-f739-45e1-ae5a-dc40c0c5d677"
   },
   "outputs": [
    {
     "name": "stderr",
     "output_type": "stream",
     "text": [
      "No handles with labels found to put in legend.\n"
     ]
    },
    {
     "name": "stdout",
     "output_type": "stream",
     "text": [
      "[<matplotlib.axes._subplots.AxesSubplot object at 0x7fd5b5037510>]\n"
     ]
    },
    {
     "data": {
      "image/png": "[encoded data removed]",
      "text/plain": [
       "<Figure size 720x576 with 1 Axes>"
      ]
     },
     "metadata": {
      "needs_background": "light",
      "tags": []
     },
     "output_type": "display_data"
    }
   ],
   "source": [
    "fig = plt.figure(figsize=(10,8))   \n",
    "plt.scatter(sigmas1, errors1)  \n",
    "\n",
    "# После нанесения графического элемента в виде маркера\n",
    "# список текущих областей состоит из одной области\n",
    "print (fig.axes)\n",
    "plt.legend(loc='best')\n",
    "plt.xlabel('$\\sigma$')\n",
    "plt.ylabel('Pearson correlation')\n",
    "# смотри преамбулу\n",
    "\n",
    "\n",
    "pylab.savefig('Ensemble_errors_sigma.pdf')\n",
    "plt.show()\n",
    "\n",
    "#%mldev fig_3"
   ]
  },
  {
   "cell_type": "code",
   "execution_count": 13,
   "metadata": {
    "colab": {
     "base_uri": "https://localhost:8080/",
     "height": 530
    },
    "executionInfo": {
     "elapsed": 1658246,
     "status": "ok",
     "timestamp": 1621505794891,
     "user": {
      "displayName": "Руслан Кошкин",
      "photoUrl": "",
      "userId": "02826648336057215366"
     },
     "user_tz": -180
    },
    "id": "5JoBoQFhPBW-",
    "outputId": "9c825e5d-7df8-49d6-dcce-d0195c70b6f2"
   },
   "outputs": [
    {
     "name": "stderr",
     "output_type": "stream",
     "text": [
      "No handles with labels found to put in legend.\n"
     ]
    },
    {
     "name": "stdout",
     "output_type": "stream",
     "text": [
      "[<matplotlib.axes._subplots.AxesSubplot object at 0x7fd5b4ff5550>]\n"
     ]
    },
    {
     "data": {
      "image/png": "[encoded data removed]",
      "text/plain": [
       "<Figure size 720x576 with 1 Axes>"
      ]
     },
     "metadata": {
      "needs_background": "light",
      "tags": []
     },
     "output_type": "display_data"
    }
   ],
   "source": [
    "fig = plt.figure(figsize=(10,8))   \n",
    "plt.scatter(sigmas1, errors_model1)  \n",
    "\n",
    "# После нанесения графического элемента в виде маркера\n",
    "# список текущих областей состоит из одной области\n",
    "print (fig.axes)\n",
    "plt.legend(loc='best')\n",
    "plt.xlabel('$\\sigma$')\n",
    "plt.ylabel('Pearson correlation')\n",
    "# смотри преамбулу\n",
    "\n",
    "\n",
    "pylab.savefig('Ensemble_errors_model1_sigma.pdf')\n",
    "plt.show()\n",
    "\n",
    "#%mldev plt_1"
   ]
  },
  {
   "cell_type": "code",
   "execution_count": 14,
   "metadata": {
    "colab": {
     "base_uri": "https://localhost:8080/",
     "height": 530
    },
    "executionInfo": {
     "elapsed": 1658240,
     "status": "ok",
     "timestamp": 1621505794892,
     "user": {
      "displayName": "Руслан Кошкин",
      "photoUrl": "",
      "userId": "02826648336057215366"
     },
     "user_tz": -180
    },
    "id": "6ccay-LQPBcH",
    "outputId": "a9286a6e-4129-4c3f-ac69-967481b04b72"
   },
   "outputs": [
    {
     "name": "stderr",
     "output_type": "stream",
     "text": [
      "No handles with labels found to put in legend.\n"
     ]
    },
    {
     "name": "stdout",
     "output_type": "stream",
     "text": [
      "[<matplotlib.axes._subplots.AxesSubplot object at 0x7fd5b4f53350>]\n"
     ]
    },
    {
     "data": {
      "image/png": "[encoded data removed]",
      "text/plain": [
       "<Figure size 720x576 with 1 Axes>"
      ]
     },
     "metadata": {
      "needs_background": "light",
      "tags": []
     },
     "output_type": "display_data"
    }
   ],
   "source": [
    "fig = plt.figure(figsize=(10,8))   \n",
    "plt.scatter(sigmas1, errors_model2)  \n",
    "\n",
    "# После нанесения графического элемента в виде маркера\n",
    "# список текущих областей состоит из одной области\n",
    "print (fig.axes)\n",
    "plt.legend(loc='best')\n",
    "plt.xlabel('$\\sigma$')\n",
    "plt.ylabel('Pearson correlation')\n",
    "# смотри преамбулу\n",
    "\n",
    "\n",
    "pylab.savefig('Ensemble_errors_model2_sigma.pdf')\n",
    "plt.show()\n",
    "\n",
    "#%mldev plt_final"
   ]
  }
 ],
 "metadata": {
  "colab": {
   "collapsed_sections": [],
   "name": "distance_between_local_models_and_errors.ipynb",
   "provenance": []
  },
  "kernelspec": {
   "display_name": "Python 3",
   "language": "python",
   "name": "python3"
  },
  "language_info": {
   "codemirror_mode": {
    "name": "ipython",
    "version": 3
   },
   "file_extension": ".py",
   "mimetype": "text/x-python",
   "name": "python",
   "nbconvert_exporter": "python",
   "pygments_lexer": "ipython3",
   "version": "3.6.9"
  }
 },
 "nbformat": 4,
 "nbformat_minor": 1
}
